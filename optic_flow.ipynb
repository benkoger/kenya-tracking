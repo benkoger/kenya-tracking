{
 "cells": [
  {
   "cell_type": "code",
   "execution_count": 1,
   "metadata": {},
   "outputs": [],
   "source": [
    "import numpy as np\n",
    "import cv2\n",
    "import glob"
   ]
  },
  {
   "cell_type": "code",
   "execution_count": 2,
   "metadata": {},
   "outputs": [],
   "source": [
    "from queue import Queue\n",
    "from threading import Thread\n",
    "import sys\n",
    "import time\n",
    "\n",
    "class ImageReader:\n",
    "    def __init__(self, image_file_list, queue_size=100):\n",
    "        # initialize the file video stream along with the boolean\n",
    "        # used to indicate if the thread should be stopped or not\n",
    "        self.image_files = image_file_list\n",
    "        self.total_frames = len(image_file_list)\n",
    "        self.stopped = False\n",
    "        # initialize the queue used to store frames read from\n",
    "        # the video file\n",
    "        self.Q = Queue(maxsize=queue_size)\n",
    "\n",
    "    def start(self):\n",
    "        # start a thread to read frames from the file video stream\n",
    "        t = Thread(target=self.update, args=())\n",
    "        t.daemon = True\n",
    "        t.start()\n",
    "        time.sleep(1)\n",
    "        return self\n",
    "\n",
    "    def update(self):\n",
    "        # keep looping infinitely\n",
    "        frame_num = 0\n",
    "        while True:\n",
    "            # if the thread indicator variable is set, stop the\n",
    "            # thread\n",
    "            if self.stopped:\n",
    "                return\n",
    "\n",
    "            # otherwise, ensure the queue has room in it\n",
    "            if not self.Q.full():\n",
    "                # read the next frame from the file\n",
    "                image_np = cv2.imread(self.image_files[frame_num])\n",
    "                # add the frame to the queue\n",
    "                self.Q.put(image_np)\n",
    "                \n",
    "                frame_num += 1\n",
    "                \n",
    "                if frame_num >= self.total_frames:\n",
    "                    self.stop()\n",
    "                    return\n",
    "                \n",
    "                \n",
    "\n",
    "    def read(self):\n",
    "        # return next frame in the queue\n",
    "        return self.Q.get()\n",
    "\n",
    "    def read_batch(self, n_frames, asarray=False):\n",
    "        frames = []\n",
    "        for idx in range(n_frames):\n",
    "            frames.append(self.read())\n",
    "        return frames\n",
    "\n",
    "\n",
    "    def more(self):\n",
    "        # return True if there are still frames in the queue\n",
    "        return self.Q.qsize() > 0\n",
    "\n",
    "    def stop(self):\n",
    "        # indicate that the thread should be stopped\n",
    "        print('stopping')\n",
    "        self.stopped = True\n",
    "        \n",
    "    def close(self):\n",
    "        self.stop()"
   ]
  },
  {
   "cell_type": "code",
   "execution_count": 2,
   "metadata": {},
   "outputs": [
    {
     "name": "stdout",
     "output_type": "stream",
     "text": [
      "39644 images found\n"
     ]
    }
   ],
   "source": [
    "image_folder = '/media/golden/72FFC6EE48B5CF39/kenya-tracking/long-buffalo-pictures'   \n",
    "image_files = glob.glob(image_folder + '/*.jpg')\n",
    "# image_files = glob.glob(image_folder + '*')\n",
    "image_files.sort()\n",
    "#positions_folder = '/media/golden/72FFC6EE48B5CF39/kenya-tracking/test-frame/'\n",
    "positions_folder = '/media/golden/72FFC6EE48B5CF39/kenya-tracking/long-buffalo-position/'\n",
    "\n",
    "print(len(image_files), 'images found')\n"
   ]
  },
  {
   "cell_type": "code",
   "execution_count": 3,
   "metadata": {},
   "outputs": [
    {
     "name": "stdout",
     "output_type": "stream",
     "text": [
      "frame width:  2160\n",
      "frame height:  4096\n"
     ]
    }
   ],
   "source": [
    "# image1 = cv2.imread(image_files[18224])\n",
    "# image2 = cv2.imread(image_files[18244])\n",
    "image1 = cv2.imread(image_files[0])\n",
    "image2 = cv2.imread(image_files[20])\n",
    "frame_width, frame_height, _ = image1.shape\n",
    "print('frame width: ', frame_width)\n",
    "print('frame height: ', frame_height)\n"
   ]
  },
  {
   "cell_type": "code",
   "execution_count": 4,
   "metadata": {},
   "outputs": [],
   "source": [
    "im1_gray = np.float32(cv2.cvtColor(image1, cv2.COLOR_BGR2GRAY))\n",
    "im2_gray = np.float32(cv2.cvtColor(image2, cv2.COLOR_BGR2GRAY))"
   ]
  },
  {
   "cell_type": "code",
   "execution_count": 32,
   "metadata": {},
   "outputs": [
    {
     "name": "stdout",
     "output_type": "stream",
     "text": [
      "0.0818964451846\n",
      "0.0818964451846\n",
      "0.6082677841186523\n"
     ]
    }
   ],
   "source": [
    "h,w = im1_gray.shape\n",
    "\n",
    "import time\n",
    "\n",
    "t = time.time()\n",
    "ret_list = []\n",
    "image1 = cv2.imread(image_files[10000])\n",
    "image2 = cv2.imread(image_files[10001])\n",
    "for i in range(2):\n",
    "#     image1 = cv2.imread(image_files[i])\n",
    "#     image2 = cv2.imread(image_files[1+i])\n",
    "    im1_gray = np.float32(cv2.cvtColor(image1, cv2.COLOR_BGR2GRAY))\n",
    "    im2_gray = np.float32(cv2.cvtColor(image2, cv2.COLOR_BGR2GRAY))\n",
    "#     im1_gray =  np.float32(image1[:,:,0])\n",
    "#     im2_gray =  np.float32(image2[:,:,0])\n",
    "    \n",
    "    ret, _= cv2.phaseCorrelate(im1_gray, im2_gray)\n",
    "    print(np.sum(np.array(ret)))\n",
    "    ret_list.append(ret)\n",
    "#     M = np.float32([[1, 0, -ret[0]], [0, 1, -ret[1]]])\n",
    "\n",
    "#     trans_im = cv2.warpAffine(im2_gray, M, (w,h) )\n",
    "print(time.time() - t)"
   ]
  },
  {
   "cell_type": "code",
   "execution_count": 94,
   "metadata": {},
   "outputs": [
    {
     "name": "stdout",
     "output_type": "stream",
     "text": [
      "(0.01673893698239226, 0.16426711320605136)\n"
     ]
    }
   ],
   "source": [
    "print(ret)   #247.4174063205719"
   ]
  },
  {
   "cell_type": "code",
   "execution_count": 52,
   "metadata": {},
   "outputs": [],
   "source": [
    "cv2.imshow('frame2',im1_gray/255)\n",
    "k = cv2.waitKey(5000) & 0xff\n",
    "cv2.imshow('frame2',trans_im/255)\n",
    "k = cv2.waitKey(10000) & 0xff\n",
    "\n",
    "cv2.destroyAllWindows()"
   ]
  },
  {
   "cell_type": "code",
   "execution_count": 96,
   "metadata": {},
   "outputs": [
    {
     "data": {
      "text/plain": [
       "0.1349457064748094"
      ]
     },
     "execution_count": 96,
     "metadata": {},
     "output_type": "execute_result"
    }
   ],
   "source": [
    "sum(i[0] for i in ret_list)"
   ]
  },
  {
   "cell_type": "code",
   "execution_count": 90,
   "metadata": {},
   "outputs": [
    {
     "data": {
      "text/plain": [
       "[(-0.09400151557792924, 0.06933238074566361),\n",
       " (0.043807069905369644, 0.02104972241613723),\n",
       " (-0.023214323574848095, 0.05102297802841349),\n",
       " (0.20236410114398495, 0.033223736140143956),\n",
       " (0.06914153884167717, 0.08847964639471684),\n",
       " (-0.05933737644454595, 0.06370580572388462),\n",
       " (0.14329789817020355, 0.07596730587965794),\n",
       " (-0.09675107733983168, 0.0771684149478915),\n",
       " (0.019025654397410108, -0.10502045675116278),\n",
       " (-0.015526621411027008, -0.038347711747974245),\n",
       " (-0.16242073049807004, -0.07732315428256697),\n",
       " (0.20523085945319508, 0.00550672224653681),\n",
       " (-0.03315071963561422, 0.05181215880020318),\n",
       " (0.025767238468688447, 0.04947707694236669),\n",
       " (-0.004989530523289432, 0.0914759161105394),\n",
       " (0.03365702254222924, 0.007924954422605879),\n",
       " (-0.052745512195997435, 0.01098781637938373),\n",
       " (0.25679647623701385, 0.0466171080715867),\n",
       " (-0.06236290448623549, 0.02209005870781766),\n",
       " (0.007805670187281066, 0.07898430126465428)]"
      ]
     },
     "execution_count": 90,
     "metadata": {},
     "output_type": "execute_result"
    }
   ],
   "source": [
    "sum(ret)"
   ]
  },
  {
   "cell_type": "code",
   "execution_count": null,
   "metadata": {},
   "outputs": [],
   "source": []
  }
 ],
 "metadata": {
  "kernelspec": {
   "display_name": "Python 3",
   "language": "python",
   "name": "python3"
  },
  "language_info": {
   "codemirror_mode": {
    "name": "ipython",
    "version": 3
   },
   "file_extension": ".py",
   "mimetype": "text/x-python",
   "name": "python",
   "nbconvert_exporter": "python",
   "pygments_lexer": "ipython3",
   "version": "3.5.2"
  }
 },
 "nbformat": 4,
 "nbformat_minor": 2
}
