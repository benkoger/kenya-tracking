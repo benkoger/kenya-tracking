{
 "cells": [
  {
   "cell_type": "code",
   "execution_count": 1,
   "metadata": {},
   "outputs": [],
   "source": [
    "from use_trained_tracking_model import KenyaTracking"
   ]
  },
  {
   "cell_type": "code",
   "execution_count": 2,
   "metadata": {},
   "outputs": [],
   "source": [
    "# path to (and including)frozen_inference_graph.pb\n",
    "path_to_checkpoint = '/home/golden/Projects_desktop/gazelle_identification/gazelle/frozen_inference_graph.pb'\n",
    "# to label_map.pbtxt\n",
    "path_to_labels = '/home/golden/Projects_desktop/gazelle_identification/gazelle/data/gazelle_head_label_map.pbtxt' \n",
    "image_dir =  '/media/golden/72FFC6EE48B5CF39/raw_gazelle'   \n",
    "number_of_classes = 1\n",
    "video_output_file = '/home/golden/Dropbox/full_buffalo_and_zebra.avi'\n",
    "verbose = True\n",
    "make_video = False\n",
    "save_still_frames = True"
   ]
  },
  {
   "cell_type": "code",
   "execution_count": 3,
   "metadata": {},
   "outputs": [],
   "source": [
    "tracker = KenyaTracking(image_dir, path_to_checkpoint, path_to_labels, number_of_classes, verbose, make_video,\n",
    "                        save_still_frames=save_still_frames)\n"
   ]
  },
  {
   "cell_type": "code",
   "execution_count": 4,
   "metadata": {
    "scrolled": false
   },
   "outputs": [
    {
     "name": "stdout",
     "output_type": "stream",
     "text": [
      "Looking for images in '/media/golden/72FFC6EE48B5CF39'\n",
      "11  files found\n",
      "extraction begun...\n",
      "/media/golden/72FFC6EE48B5CF39/raw_gazelle/0D2A0102.jpg\n",
      "0  images processed\n",
      "Image extraction finished\n"
     ]
    }
   ],
   "source": [
    "tracker.track()"
   ]
  },
  {
   "cell_type": "code",
   "execution_count": null,
   "metadata": {},
   "outputs": [],
   "source": []
  }
 ],
 "metadata": {
  "kernelspec": {
   "display_name": "Python 3",
   "language": "python",
   "name": "python3"
  },
  "language_info": {
   "codemirror_mode": {
    "name": "ipython",
    "version": 3
   },
   "file_extension": ".py",
   "mimetype": "text/x-python",
   "name": "python",
   "nbconvert_exporter": "python",
   "pygments_lexer": "ipython3",
   "version": "3.5.2"
  }
 },
 "nbformat": 4,
 "nbformat_minor": 2
}
