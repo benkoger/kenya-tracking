{
 "cells": [
  {
   "cell_type": "code",
   "execution_count": 1,
   "metadata": {},
   "outputs": [],
   "source": [
    "import subprocess\n",
    "import os\n",
    "import signal\n",
    "import time"
   ]
  },
  {
   "cell_type": "code",
   "execution_count": 5,
   "metadata": {},
   "outputs": [],
   "source": [
    "def get_dirs(root, test_folder, test):\n",
    "    pipeline = root + '/' + test_folder + '/' + test + '/model/faster_rcnn_resnet101_kenya_tracking.config'\n",
    "    train_dir = root + '/' + test_folder + '/' + test + '/train'\n",
    "    eval_dir = root + '/' + test_folder + '/' + test + '/eval'\n",
    "    return {'config': pipeline, 'train': train_dir, 'eval': eval_dir}\n",
    "\n",
    "def run_training(train_py, eval_py, pipeline_config, train_dir, eval_dir, name=None):  \n",
    "    print('running ', name)\n",
    "    %env CUDA_VISIBLE_DEVICES=0\n",
    "    train_process = subprocess.Popen(['python', train_py,\n",
    "                            '--logtostderr', \n",
    "                            '--pipeline_config_path=' + pipeline_config,\n",
    "                            '--train_dir=' + train_dir],\n",
    "                            preexec_fn=os.setsid)\n",
    "\n",
    "    time.sleep(60)\n",
    "\n",
    "    %env CUDA_VISIBLE_DEVICES=1\n",
    "    eval_process = subprocess.Popen(['python', eval_py,\n",
    "                            '--logtostderr', \n",
    "                            '--pipeline_config_path=' + pipeline_config,\n",
    "                            '--checkpoint_dir=' + train_dir,\n",
    "                            '--eval_dir=' + eval_dir],\n",
    "                            preexec_fn=os.setsid)\n",
    "\n",
    "    train_process.wait()\n",
    "\n",
    "    print('sleeping')\n",
    "\n",
    "    time.sleep(180)\n",
    "\n",
    "    print('shutting down eval')\n",
    "\n",
    "    os.killpg(os.getpgid(eval_process.pid), signal.SIGTERM)\n",
    "    \n",
    "    time.sleep(30)"
   ]
  },
  {
   "cell_type": "code",
   "execution_count": 6,
   "metadata": {},
   "outputs": [],
   "source": [
    "#train \n",
    "train_py = '/home/golden/tf-models/research/object_detection/train.py' \n",
    "\n",
    "#eval\n",
    "eval_py = '/home/golden/tf-models/research/object_detection/eval.py'  \n"
   ]
  },
  {
   "cell_type": "code",
   "execution_count": 7,
   "metadata": {},
   "outputs": [],
   "source": [
    "root = '/home/golden/Projects_desktop/kenya-tracking/models'\n",
    "test = 'IOU_threshold_tests'\n",
    "point_eight = get_dirs(root, test, 'iou_thresh_0_8')\n",
    "point_nine = get_dirs(root, test, 'iou_thresh_0_9')\n",
    "point_nine_five = get_dirs(root, test, 'iou_thresh_0_95')"
   ]
  },
  {
   "cell_type": "code",
   "execution_count": 9,
   "metadata": {},
   "outputs": [
    {
     "name": "stdout",
     "output_type": "stream",
     "text": [
      "running  .8 IOU\n",
      "env: CUDA_VISIBLE_DEVICES=0\n",
      "env: CUDA_VISIBLE_DEVICES=1\n",
      "sleeping\n",
      "shutting down eval\n",
      "running  .9 IOU\n",
      "env: CUDA_VISIBLE_DEVICES=0\n",
      "env: CUDA_VISIBLE_DEVICES=1\n",
      "sleeping\n",
      "shutting down eval\n",
      "running  .95 IOU\n",
      "env: CUDA_VISIBLE_DEVICES=0\n",
      "env: CUDA_VISIBLE_DEVICES=1\n",
      "sleeping\n",
      "shutting down eval\n"
     ]
    }
   ],
   "source": [
    "run_training(train_py, eval_py, point_eight['config'], point_eight['train'], point_eight['eval'], name='.8 IOU')\n",
    "run_training(train_py, eval_py, point_nine['config'], point_nine['train'], point_nine['eval'], name='.9 IOU')\n",
    "run_training(train_py, eval_py, point_nine_five['config'], point_nine_five['train'], point_nine_five['eval'], name='.95 IOU')\n",
    "\n"
   ]
  },
  {
   "cell_type": "code",
   "execution_count": 7,
   "metadata": {},
   "outputs": [
    {
     "name": "stdout",
     "output_type": "stream",
     "text": [
      "/home/golden/Projects_desktop/kenya-tracking/models/augmentation_tests/full_augmentation/model/faster_rcnn_resnet101_kenya_tracking.config\n"
     ]
    }
   ],
   "source": [
    "print(full_aug_pipeline_config)"
   ]
  },
  {
   "cell_type": "code",
   "execution_count": 19,
   "metadata": {},
   "outputs": [
    {
     "data": {
      "text/plain": [
       "'/home/golden/Projects_desktop/kenya-tracking/models/IOU_threshold_tests/iou_thresh_0_8/model/faster_rcnn_resnet101_kenya_tracking.config'"
      ]
     },
     "execution_count": 19,
     "metadata": {},
     "output_type": "execute_result"
    }
   ],
   "source": [
    "point_eight['config']"
   ]
  },
  {
   "cell_type": "code",
   "execution_count": null,
   "metadata": {},
   "outputs": [],
   "source": []
  }
 ],
 "metadata": {
  "kernelspec": {
   "display_name": "Python 3",
   "language": "python",
   "name": "python3"
  },
  "language_info": {
   "codemirror_mode": {
    "name": "ipython",
    "version": 3
   },
   "file_extension": ".py",
   "mimetype": "text/x-python",
   "name": "python",
   "nbconvert_exporter": "python",
   "pygments_lexer": "ipython3",
   "version": "3.5.2"
  }
 },
 "nbformat": 4,
 "nbformat_minor": 2
}
