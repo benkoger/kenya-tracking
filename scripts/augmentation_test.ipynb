{
 "cells": [
  {
   "cell_type": "code",
   "execution_count": 1,
   "metadata": {},
   "outputs": [],
   "source": [
    "import subprocess\n",
    "import os\n",
    "import signal\n",
    "import time"
   ]
  },
  {
   "cell_type": "code",
   "execution_count": 2,
   "metadata": {},
   "outputs": [],
   "source": [
    "#train \n",
    "train_py = '/home/golden/tf-models/research/object_detection/train.py' \n",
    "\n",
    "#eval\n",
    "eval_py = '/home/golden/tf-models/research/object_detection/eval.py'  \n",
    "\n",
    "#No geometric augemtation\n",
    "no_geo_pipeline_config = '/home/golden/Projects_desktop/kenya-tracking/models/augmentation_tests/no_geometric/model/faster_rcnn_resnet101_kenya_tracking.config' \n",
    "no_geo_train_dir = '/home/golden/Projects_desktop/kenya-tracking/models/augmentation_tests/no_geometric/train' \n",
    "no_geo_eval_dir = '/home/golden/Projects_desktop/kenya-tracking/models/augmentation_tests/no_geometric/eval'\n",
    "\n",
    "#No im_processing augemtation\n",
    "no_im_pipeline_config = '/home/golden/Projects_desktop/kenya-tracking/models/augmentation_tests/no_im_processing/model/faster_rcnn_resnet101_kenya_tracking.config' \n",
    "no_im_train_dir = '/home/golden/Projects_desktop/kenya-tracking/models/augmentation_tests/no_im_processing/train' \n",
    "no_im_eval_dir = '/home/golden/Projects_desktop/kenya-tracking/models/augmentation_tests/no_im_processing/eval'\n",
    "\n",
    "#No localization augemtation\n",
    "no_local_pipeline_config = '/home/golden/Projects_desktop/kenya-tracking/models/augmentation_tests/no_localization_noise/model/faster_rcnn_resnet101_kenya_tracking.config' \n",
    "no_local_train_dir = '/home/golden/Projects_desktop/kenya-tracking/models/augmentation_tests/no_localization_noise/train' \n",
    "no_local_eval_dir = '/home/golden/Projects_desktop/kenya-tracking/models/augmentation_tests/no_localization_noise/eval'\n",
    "\n",
    "#No im_processing augemtation\n",
    "full_aug_pipeline_config = '/home/golden/Projects_desktop/kenya-tracking/models/augmentation_tests/full_augmentation/model/faster_rcnn_resnet101_kenya_tracking.config' \n",
    "full_aug_train_dir = '/home/golden/Projects_desktop/kenya-tracking/models/augmentation_tests/full_augmentation/train' \n",
    "full_aug_eval_dir = '/home/golden/Projects_desktop/kenya-tracking/models/augmentation_tests/full_augmentation/eval'"
   ]
  },
  {
   "cell_type": "code",
   "execution_count": 3,
   "metadata": {},
   "outputs": [],
   "source": [
    "def run_training(train_py, eval_py, pipeline_config, train_dir, eval_dir, name=None):  \n",
    "    print('running ', name)\n",
    "    %env CUDA_VISIBLE_DEVICES=0\n",
    "    train_process = subprocess.Popen(['python', train_py,\n",
    "                            '--logtostderr', \n",
    "                            '--pipeline_config_path=' + pipeline_config,\n",
    "                            '--train_dir=' + train_dir],\n",
    "                            preexec_fn=os.setsid)\n",
    "\n",
    "    time.sleep(60)\n",
    "\n",
    "    %env CUDA_VISIBLE_DEVICES=1\n",
    "    eval_process = subprocess.Popen(['python', eval_py,\n",
    "                            '--logtostderr', \n",
    "                            '--pipeline_config_path=' + pipeline_config,\n",
    "                            '--checkpoint_dir=' + train_dir,\n",
    "                            '--eval_dir=' + eval_dir],\n",
    "                            preexec_fn=os.setsid)\n",
    "\n",
    "    train_process.wait()\n",
    "\n",
    "    print('sleeping')\n",
    "\n",
    "    time.sleep(180)\n",
    "\n",
    "    print('shutting down eval')\n",
    "\n",
    "    os.killpg(os.getpgid(eval_process.pid), signal.SIGTERM)\n",
    "    \n",
    "    time.sleep(30)"
   ]
  },
  {
   "cell_type": "code",
   "execution_count": 4,
   "metadata": {},
   "outputs": [
    {
     "name": "stdout",
     "output_type": "stream",
     "text": [
      "running  No geometric aug\n",
      "env: CUDA_VISIBLE_DEVICES=0\n",
      "env: CUDA_VISIBLE_DEVICES=1\n",
      "sleeping\n",
      "shutting down eval\n",
      "running  No Im processing aug\n",
      "env: CUDA_VISIBLE_DEVICES=0\n",
      "env: CUDA_VISIBLE_DEVICES=1\n",
      "sleeping\n",
      "shutting down eval\n",
      "running  No local aug\n",
      "env: CUDA_VISIBLE_DEVICES=0\n",
      "env: CUDA_VISIBLE_DEVICES=1\n",
      "sleeping\n",
      "shutting down eval\n",
      "running  Full aug\n",
      "env: CUDA_VISIBLE_DEVICES=0\n",
      "env: CUDA_VISIBLE_DEVICES=1\n",
      "sleeping\n",
      "shutting down eval\n"
     ]
    }
   ],
   "source": [
    "run_training(train_py, eval_py, no_geo_pipeline_config, no_geo_train_dir, no_geo_eval_dir, name='No geometric aug')\n",
    "run_training(train_py, eval_py, no_im_pipeline_config, no_im_train_dir, no_im_eval_dir, name='No Im processing aug')\n",
    "run_training(train_py, eval_py, no_local_pipeline_config, no_local_train_dir, no_local_eval_dir, name='No local aug')\n",
    "run_training(train_py, eval_py, full_aug_pipeline_config, full_aug_train_dir, full_aug_eval_dir, name='Full aug')"
   ]
  },
  {
   "cell_type": "code",
   "execution_count": 18,
   "metadata": {},
   "outputs": [
    {
     "name": "stdout",
     "output_type": "stream",
     "text": [
      "env: CUDA_VISIBLE_DEVICES=1\n"
     ]
    }
   ],
   "source": []
  },
  {
   "cell_type": "code",
   "execution_count": 19,
   "metadata": {},
   "outputs": [],
   "source": [
    "os.killpg(os.getpgid(train.pid), signal.SIGTERM)\n"
   ]
  },
  {
   "cell_type": "code",
   "execution_count": null,
   "metadata": {},
   "outputs": [],
   "source": []
  }
 ],
 "metadata": {
  "kernelspec": {
   "display_name": "Python 3",
   "language": "python",
   "name": "python3"
  },
  "language_info": {
   "codemirror_mode": {
    "name": "ipython",
    "version": 3
   },
   "file_extension": ".py",
   "mimetype": "text/x-python",
   "name": "python",
   "nbconvert_exporter": "python",
   "pygments_lexer": "ipython3",
   "version": "3.5.2"
  }
 },
 "nbformat": 4,
 "nbformat_minor": 2
}
