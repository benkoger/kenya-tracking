{
 "cells": [
  {
   "cell_type": "code",
   "execution_count": 1,
   "metadata": {},
   "outputs": [],
   "source": [
    "import glob\n",
    "import os\n",
    "import shutil"
   ]
  },
  {
   "cell_type": "code",
   "execution_count": 2,
   "metadata": {},
   "outputs": [],
   "source": [
    "root_annotations_folder = '/media/golden/72FFC6EE48B5CF39/drone-tracking/kenya-tracking/annotations/images-and-xmls'\n",
    "images = glob.glob(root_annotations_folder + '/from-loopy/*.jpg')\n",
    "xmls = glob.glob(root_annotations_folder + '/from-loopy/annotations/*.xml')\n",
    "images.extend(glob.glob(root_annotations_folder + '/from-tracking/*.jpg'))\n",
    "xmls.extend(glob.glob(root_annotations_folder + '/from-tracking/annotations/*.xml'))\n",
    "images.extend(glob.glob(root_annotations_folder + '/from-rect/*.jpg'))\n",
    "xmls.extend(glob.glob(root_annotations_folder + '/from-rect/annotations/*.xml'))"
   ]
  },
  {
   "cell_type": "code",
   "execution_count": 3,
   "metadata": {},
   "outputs": [
    {
     "name": "stdout",
     "output_type": "stream",
     "text": [
      "num images: 3810\n",
      "num xmls: 2455\n"
     ]
    }
   ],
   "source": [
    "print('num images:', len(images))\n",
    "print('num xmls:', len(xmls))"
   ]
  },
  {
   "cell_type": "code",
   "execution_count": 4,
   "metadata": {},
   "outputs": [],
   "source": [
    "all_annotations_folder = os.path.join(root_annotations_folder, 'all-annotations')\n",
    "if not os.path.exists(all_annotations_folder):\n",
    "    os.mkdir(all_annotations_folder)\n",
    "    os.mkdir(os.path.join(all_annotations_folder, 'annotations'))"
   ]
  },
  {
   "cell_type": "code",
   "execution_count": 5,
   "metadata": {},
   "outputs": [],
   "source": [
    "for image in images:\n",
    "    new_place = os.path.join(all_annotations_folder, os.path.basename(image))\n",
    "    shutil.copyfile(image, new_place)"
   ]
  },
  {
   "cell_type": "code",
   "execution_count": 5,
   "metadata": {},
   "outputs": [],
   "source": [
    "for xml in xmls:\n",
    "    new_place = os.path.join(all_annotations_folder, 'annotations', os.path.basename(xml))\n",
    "    shutil.copyfile(xml, new_place)"
   ]
  },
  {
   "cell_type": "code",
   "execution_count": null,
   "metadata": {},
   "outputs": [],
   "source": []
  }
 ],
 "metadata": {
  "kernelspec": {
   "display_name": "Python 3",
   "language": "python",
   "name": "python3"
  },
  "language_info": {
   "codemirror_mode": {
    "name": "ipython",
    "version": 3
   },
   "file_extension": ".py",
   "mimetype": "text/x-python",
   "name": "python",
   "nbconvert_exporter": "python",
   "pygments_lexer": "ipython3",
   "version": "3.5.2"
  }
 },
 "nbformat": 4,
 "nbformat_minor": 2
}
