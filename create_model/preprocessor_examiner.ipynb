{
 "cells": [
  {
   "cell_type": "code",
   "execution_count": 1,
   "metadata": {},
   "outputs": [],
   "source": [
    "import tensorflow as tf\n",
    "\n",
    "from object_detection.core import preprocessor\n",
    "\n",
    "import glob\n",
    "import numpy as np\n",
    "import matplotlib.pyplot as plt"
   ]
  },
  {
   "cell_type": "code",
   "execution_count": 2,
   "metadata": {},
   "outputs": [],
   "source": [
    "image_files_root = '/media/golden/72FFC6EE48B5CF39/drone-tracking/kenya-tracking/raw-frames/raw-footage' \n",
    "all_image_files = glob.glob(image_files_root + '/**/*.jpg', recursive=True)\n",
    "all_image_files.sort()\n",
    "num_test_images = 5\n",
    "image_files = all_image_files[::int(len(all_image_files) / num_test_images)]"
   ]
  },
  {
   "cell_type": "code",
   "execution_count": 3,
   "metadata": {},
   "outputs": [],
   "source": [
    "# for image_file in image_files:\n",
    "#     image = plt.imread(image_file)\n",
    "#     plt.figure()\n",
    "#     plt.imshow(image)"
   ]
  },
  {
   "cell_type": "code",
   "execution_count": 5,
   "metadata": {},
   "outputs": [
    {
     "name": "stdout",
     "output_type": "stream",
     "text": [
      "env: CUDA_VISIBLE_DEVICES=\n"
     ]
    }
   ],
   "source": [
    "%env CUDA_VISIBLE_DEVICES=\n",
    "\n",
    "show_image = False\n",
    "\n",
    "sess = tf.InteractiveSession()\n",
    "for image_file in image_files[:]:\n",
    "    image = plt.imread(image_file)\n",
    "    if show_image:\n",
    "        plt.figure(figsize=(20,10))\n",
    "        plt.imshow(image)\n",
    "    image = tf.constant(image, dtype=tf.float32)\n",
    "    for _ in range(10):\n",
    "\n",
    "        new_image = preprocessor.random_adjust_brightness(image, 0.2)\n",
    "        new_image = preprocessor.random_adjust_saturation(new_image, .5, 1.45)\n",
    "        new_image = preprocessor.random_adjust_hue(new_image, 0.06)\n",
    "        new_image = preprocessor.random_adjust_contrast(new_image, .6, 1.25)\n",
    "        new_image = preprocessor.random_pixel_value_scale(new_image, 0.98, 1.02)\n",
    "#         new_image = preprocessor.random_adjust_contrast(image)\n",
    "#         new_image = preprocessor.random_adjust_saturation(new_image)\n",
    "#         new_image = preprocessor.random_adjust_brightness(new_image)\n",
    "\n",
    "\n",
    "\n",
    "        new_im = new_image.eval()\n",
    "        if show_image:\n",
    "            plt.figure(figsize=(20,10))\n",
    "            plt.imshow(new_im.astype(int))\n",
    "\n",
    "\n",
    "sess.close()"
   ]
  },
  {
   "cell_type": "code",
   "execution_count": 5,
   "metadata": {},
   "outputs": [],
   "source": [
    "sess.close()"
   ]
  },
  {
   "cell_type": "code",
   "execution_count": null,
   "metadata": {},
   "outputs": [],
   "source": []
  }
 ],
 "metadata": {
  "kernelspec": {
   "display_name": "Python 3",
   "language": "python",
   "name": "python3"
  },
  "language_info": {
   "codemirror_mode": {
    "name": "ipython",
    "version": 3
   },
   "file_extension": ".py",
   "mimetype": "text/x-python",
   "name": "python",
   "nbconvert_exporter": "python",
   "pygments_lexer": "ipython3",
   "version": "3.6.6"
  }
 },
 "nbformat": 4,
 "nbformat_minor": 2
}
