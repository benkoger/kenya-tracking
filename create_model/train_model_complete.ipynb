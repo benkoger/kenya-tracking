{
 "cells": [
  {
   "cell_type": "markdown",
   "metadata": {},
   "source": [
    "This assumes that you already had .xml annotation files with one xml file per annotated frame given by rectlabel.  If you are using exported loopy annotations, you can use loppy_to_PASCAL.ipynb to convert the loopy annotations into the correct format."
   ]
  },
  {
   "cell_type": "code",
   "execution_count": 1,
   "metadata": {},
   "outputs": [],
   "source": [
    "import numpy as np\n",
    "import os\n",
    "import glob\n",
    "import tensorflow as tf\n",
    "from annotation_summary import get_annotation_summary\n",
    "from create_label_map import create_label_map\n",
    "\n",
    "from create_train_val import create_train_val as create_train_val_function\n",
    "from create_tf_record import create_all_tf_records"
   ]
  },
  {
   "cell_type": "code",
   "execution_count": 2,
   "metadata": {},
   "outputs": [],
   "source": [
    "should_train = True"
   ]
  },
  {
   "cell_type": "code",
   "execution_count": 5,
   "metadata": {},
   "outputs": [
    {
     "name": "stdout",
     "output_type": "stream",
     "text": [
      "/media/golden/72FFC6EE48B5CF39/drone-tracking/kenya-tracking/annotations/images-and-xmls/all-annotations\n"
     ]
    }
   ],
   "source": [
    "#This is a folder with gazelle images and, within it, a folder called 'annotations' that has the .xml annotation files.\n",
    "base_model_folder = '/home/golden/Dropbox/kenya-tracking/models/model-sept-1' \n",
    "base_data_folder = '/media/golden/72FFC6EE48B5CF39/drone-tracking/kenya-tracking/training-tfrecords/data-sept-1/'\n",
    "root_annotations_folder = '/media/golden/72FFC6EE48B5CF39/drone-tracking/kenya-tracking/annotations/images-and-xmls/all-annotations' \n",
    "\n",
    "create_tf_records = True\n",
    "create_labels = False\n",
    "create_train_val = True\n",
    "\n",
    "# annotations_folder = os.path.join(image_folder, 'annotations')\n",
    "annotations_folders = glob.glob(root_annotations_folder + '/*')\n",
    "annotations_folder = root_annotations_folder\n",
    "print(annotations_folder)\n",
    "\n",
    "# choose the 'pets' version of the model you are using here: \n",
    "# https://github.com/tensorflow/models/tree/master/research/object_detection/samples/configs\n",
    "# one way to create the file is just copy and paste into a local text file\n",
    "sample_config_file = '/home/golden/demo_model_training/faster_rcnn_resnet101_pets.config'\n"
   ]
  },
  {
   "cell_type": "code",
   "execution_count": 6,
   "metadata": {},
   "outputs": [
    {
     "name": "stdout",
     "output_type": "stream",
     "text": [
      "There are 2454 .xml annotation files in /media/golden/72FFC6EE48B5CF39/drone-tracking/kenya-tracking/annotations/images-and-xmls/all-annotations .\n",
      "{'other': 1175, 'buffalo': 14064, 'zebra': 20693, 'gazelle': 5762, 'wbuck': 2830}\n",
      "other 1175\n",
      "{'other': 1175, 'buffalo': 14064, 'zebra': 20693, 'gazelle': 5762, 'wbuck': 2830}\n"
     ]
    }
   ],
   "source": [
    "class_counts = get_annotation_summary(annotations_folder)"
   ]
  },
  {
   "cell_type": "code",
   "execution_count": null,
   "metadata": {},
   "outputs": [],
   "source": []
  },
  {
   "cell_type": "code",
   "execution_count": 7,
   "metadata": {},
   "outputs": [
    {
     "name": "stdout",
     "output_type": "stream",
     "text": [
      "['other', 'buffalo', 'zebra', 'gazelle', 'wbuck']\n"
     ]
    }
   ],
   "source": [
    "#This is a list of the class names you want to use to clasiify the objects in the images.\n",
    "#Generally they are the same as the classes that you annotated \n",
    "class_names = ['head']\n",
    "#Comment out the bellow line to use the object names in the .xmls as class names\n",
    "class_names = list(class_counts.keys())\n",
    "print(class_names)"
   ]
  },
  {
   "cell_type": "code",
   "execution_count": 8,
   "metadata": {},
   "outputs": [],
   "source": [
    "#create nessisrary new folders\n",
    "\n",
    "data_folder = os.path.join(base_data_folder, 'data')\n",
    "if not os.path.exists(data_folder):\n",
    "    os.makedirs(data_folder)\n",
    "model_folder = os.path.join(base_model_folder, 'model')\n",
    "if not os.path.exists(model_folder):\n",
    "    os.makedirs(model_folder)\n",
    "    os.makedirs(os.path.join(model_folder, 'train'))\n",
    "    os.makedirs(os.path.join(model_folder, 'eval'))\n"
   ]
  },
  {
   "cell_type": "code",
   "execution_count": 9,
   "metadata": {},
   "outputs": [],
   "source": [
    "label_map_file = os.path.join(data_folder, 'label_map.pbtxt')"
   ]
  },
  {
   "cell_type": "code",
   "execution_count": 10,
   "metadata": {},
   "outputs": [],
   "source": [
    "if create_labels:\n",
    "    label_map_file = create_label_map(data_folder, class_names)"
   ]
  },
  {
   "cell_type": "code",
   "execution_count": null,
   "metadata": {},
   "outputs": [],
   "source": []
  },
  {
   "cell_type": "code",
   "execution_count": 11,
   "metadata": {},
   "outputs": [
    {
     "name": "stdout",
     "output_type": "stream",
     "text": [
      "/media/golden/72FFC6EE48B5CF39/drone-tracking/kenya-tracking/annotations/images-and-xmls/all-annotations/annotations/trainval.txt\n",
      "/media/golden/72FFC6EE48B5CF39/drone-tracking/kenya-tracking/annotations/images-and-xmls/all-annotations\n"
     ]
    }
   ],
   "source": [
    "if create_train_val:\n",
    "    create_train_val_function(annotations_folder)"
   ]
  },
  {
   "cell_type": "code",
   "execution_count": 12,
   "metadata": {},
   "outputs": [
    {
     "name": "stderr",
     "output_type": "stream",
     "text": [
      "/home/golden/tensorflow/models/research/object_detection/utils/dataset_util.py:75: FutureWarning: The behavior of this method will change in future versions. Use specific 'len(elem)' or 'elem is not None' test instead.\n",
      "  if not xml:\n",
      "WARNING:root:Could not find /media/golden/72FFC6EE48B5CF39/drone-tracking/kenya-tracking/annotations/images-and-xmls/all-annotations/annotations/NOV02_2017_DJI_0018-2.xml, ignoring example.\n",
      "WARNING:root:Could not find /media/golden/72FFC6EE48B5CF39/drone-tracking/kenya-tracking/annotations/images-and-xmls/all-annotations/annotations/NOV02_2017_DJI_0019-1.xml, ignoring example.\n",
      "WARNING:root:Could not find /media/golden/72FFC6EE48B5CF39/drone-tracking/kenya-tracking/annotations/images-and-xmls/all-annotations/annotations/NOV02_2017_DJI_0019-2.xml, ignoring example.\n",
      "WARNING:root:Could not find /media/golden/72FFC6EE48B5CF39/drone-tracking/kenya-tracking/annotations/images-and-xmls/all-annotations/annotations/NOV02_2017_DJI_0019-3.xml, ignoring example.\n"
     ]
    },
    {
     "name": "stdout",
     "output_type": "stream",
     "text": [
      "/media/golden/72FFC6EE48B5CF39/drone-tracking/kenya-tracking/annotations/images-and-xmls/all-annotations\n",
      "sorting  2573 examples.\n"
     ]
    },
    {
     "name": "stderr",
     "output_type": "stream",
     "text": [
      "WARNING:root:Could not find /media/golden/72FFC6EE48B5CF39/drone-tracking/kenya-tracking/annotations/images-and-xmls/all-annotations/annotations/NOV02_2017_DJI_0020-1.xml, ignoring example.\n",
      "WARNING:root:Could not find /media/golden/72FFC6EE48B5CF39/drone-tracking/kenya-tracking/annotations/images-and-xmls/all-annotations/annotations/NOV02_2017_DJI_0020-2.xml, ignoring example.\n",
      "WARNING:root:Could not find /media/golden/72FFC6EE48B5CF39/drone-tracking/kenya-tracking/annotations/images-and-xmls/all-annotations/annotations/NOV02_2017_DJI_0021-17040.xml, ignoring example.\n",
      "WARNING:root:Could not find /media/golden/72FFC6EE48B5CF39/drone-tracking/kenya-tracking/annotations/images-and-xmls/all-annotations/annotations/NOV02_2017_DJI_0021-17055.xml, ignoring example.\n",
      "WARNING:root:Could not find /media/golden/72FFC6EE48B5CF39/drone-tracking/kenya-tracking/annotations/images-and-xmls/all-annotations/annotations/NOV02_2017_DJI_0021-17070.xml, ignoring example.\n",
      "WARNING:root:Could not find /media/golden/72FFC6EE48B5CF39/drone-tracking/kenya-tracking/annotations/images-and-xmls/all-annotations/annotations/NOV02_2017_DJI_0021-17085.xml, ignoring example.\n",
      "WARNING:root:Could not find /media/golden/72FFC6EE48B5CF39/drone-tracking/kenya-tracking/annotations/images-and-xmls/all-annotations/annotations/NOV02_2017_DJI_0021-17100.xml, ignoring example.\n",
      "WARNING:root:Could not find /media/golden/72FFC6EE48B5CF39/drone-tracking/kenya-tracking/annotations/images-and-xmls/all-annotations/annotations/NOV02_2017_DJI_0021-17115.xml, ignoring example.\n",
      "WARNING:root:Could not find /media/golden/72FFC6EE48B5CF39/drone-tracking/kenya-tracking/annotations/images-and-xmls/all-annotations/annotations/NOV02_2017_DJI_0021-17130.xml, ignoring example.\n",
      "WARNING:root:Could not find /media/golden/72FFC6EE48B5CF39/drone-tracking/kenya-tracking/annotations/images-and-xmls/all-annotations/annotations/NOV02_2017_DJI_0021-17145.xml, ignoring example.\n",
      "WARNING:root:Could not find /media/golden/72FFC6EE48B5CF39/drone-tracking/kenya-tracking/annotations/images-and-xmls/all-annotations/annotations/NOV02_2017_DJI_0021-17160.xml, ignoring example.\n",
      "WARNING:root:Could not find /media/golden/72FFC6EE48B5CF39/drone-tracking/kenya-tracking/annotations/images-and-xmls/all-annotations/annotations/NOV02_2017_DJI_0021-17175.xml, ignoring example.\n",
      "WARNING:root:Could not find /media/golden/72FFC6EE48B5CF39/drone-tracking/kenya-tracking/annotations/images-and-xmls/all-annotations/annotations/NOV02_2017_DJI_0021-17400.xml, ignoring example.\n",
      "WARNING:root:Could not find /media/golden/72FFC6EE48B5CF39/drone-tracking/kenya-tracking/annotations/images-and-xmls/all-annotations/annotations/NOV02_2017_DJI_0021-17625.xml, ignoring example.\n",
      "WARNING:root:Could not find /media/golden/72FFC6EE48B5CF39/drone-tracking/kenya-tracking/annotations/images-and-xmls/all-annotations/annotations/NOV02_2017_DJI_0021-17850.xml, ignoring example.\n",
      "WARNING:root:Could not find /media/golden/72FFC6EE48B5CF39/drone-tracking/kenya-tracking/annotations/images-and-xmls/all-annotations/annotations/NOV02_2017_DJI_0024-1.xml, ignoring example.\n",
      "WARNING:root:Could not find /media/golden/72FFC6EE48B5CF39/drone-tracking/kenya-tracking/annotations/images-and-xmls/all-annotations/annotations/NOV02_2017_DJI_0024-2.xml, ignoring example.\n",
      "WARNING:root:Could not find /media/golden/72FFC6EE48B5CF39/drone-tracking/kenya-tracking/annotations/images-and-xmls/all-annotations/annotations/NOV02_2017_DJI_0025-1.xml, ignoring example.\n",
      "WARNING:root:Could not find /media/golden/72FFC6EE48B5CF39/drone-tracking/kenya-tracking/annotations/images-and-xmls/all-annotations/annotations/NOV02_2017_DJI_0025-2.xml, ignoring example.\n",
      "WARNING:root:Could not find /media/golden/72FFC6EE48B5CF39/drone-tracking/kenya-tracking/annotations/images-and-xmls/all-annotations/annotations/NOV02_2017_DJI_0026-1.xml, ignoring example.\n",
      "WARNING:root:Could not find /media/golden/72FFC6EE48B5CF39/drone-tracking/kenya-tracking/annotations/images-and-xmls/all-annotations/annotations/NOV02_2017_DJI_0026-2.xml, ignoring example.\n",
      "WARNING:root:Could not find /media/golden/72FFC6EE48B5CF39/drone-tracking/kenya-tracking/annotations/images-and-xmls/all-annotations/annotations/NOV02_2017_DJI_0031-1.xml, ignoring example.\n",
      "WARNING:root:Could not find /media/golden/72FFC6EE48B5CF39/drone-tracking/kenya-tracking/annotations/images-and-xmls/all-annotations/annotations/NOV02_2017_DJI_0032-2.xml, ignoring example.\n",
      "WARNING:root:Could not find /media/golden/72FFC6EE48B5CF39/drone-tracking/kenya-tracking/annotations/images-and-xmls/all-annotations/annotations/NOV02_2017_DJI_0032-3.xml, ignoring example.\n",
      "WARNING:root:Could not find /media/golden/72FFC6EE48B5CF39/drone-tracking/kenya-tracking/annotations/images-and-xmls/all-annotations/annotations/ob012_03701.xml, ignoring example.\n",
      "WARNING:root:Could not find /media/golden/72FFC6EE48B5CF39/drone-tracking/kenya-tracking/annotations/images-and-xmls/all-annotations/annotations/NOV02_2017_DJI_0018-1.xml, ignoring example.\n",
      "WARNING:root:Could not find /media/golden/72FFC6EE48B5CF39/drone-tracking/kenya-tracking/annotations/images-and-xmls/all-annotations/annotations/NOV12_2017_DJI_0045_07460.xml, ignoring example.\n",
      "WARNING:root:Could not find /media/golden/72FFC6EE48B5CF39/drone-tracking/kenya-tracking/annotations/images-and-xmls/all-annotations/annotations/NOV12_2017_DJI_0045_07490.xml, ignoring example.\n",
      "WARNING:root:Could not find /media/golden/72FFC6EE48B5CF39/drone-tracking/kenya-tracking/annotations/images-and-xmls/all-annotations/annotations/NOV12_2017_DJI_0045_07520.xml, ignoring example.\n",
      "WARNING:root:Could not find /media/golden/72FFC6EE48B5CF39/drone-tracking/kenya-tracking/annotations/images-and-xmls/all-annotations/annotations/NOV12_2017_DJI_0045_07550.xml, ignoring example.\n",
      "WARNING:root:Could not find /media/golden/72FFC6EE48B5CF39/drone-tracking/kenya-tracking/annotations/images-and-xmls/all-annotations/annotations/NOV12_2017_DJI_0045_07580.xml, ignoring example.\n",
      "WARNING:root:Could not find /media/golden/72FFC6EE48B5CF39/drone-tracking/kenya-tracking/annotations/images-and-xmls/all-annotations/annotations/NOV12_2017_DJI_0045_07610.xml, ignoring example.\n",
      "WARNING:root:Could not find /media/golden/72FFC6EE48B5CF39/drone-tracking/kenya-tracking/annotations/images-and-xmls/all-annotations/annotations/NOV12_2017_DJI_0045_07640.xml, ignoring example.\n",
      "WARNING:root:Could not find /media/golden/72FFC6EE48B5CF39/drone-tracking/kenya-tracking/annotations/images-and-xmls/all-annotations/annotations/NOV12_2017_DJI_0045_07670.xml, ignoring example.\n",
      "WARNING:root:Could not find /media/golden/72FFC6EE48B5CF39/drone-tracking/kenya-tracking/annotations/images-and-xmls/all-annotations/annotations/NOV12_2017_DJI_0045_07700.xml, ignoring example.\n",
      "WARNING:root:Could not find /media/golden/72FFC6EE48B5CF39/drone-tracking/kenya-tracking/annotations/images-and-xmls/all-annotations/annotations/NOV02_2017_DJI_0021-17190.xml, ignoring example.\n",
      "WARNING:root:Could not find /media/golden/72FFC6EE48B5CF39/drone-tracking/kenya-tracking/annotations/images-and-xmls/all-annotations/annotations/NOV02_2017_DJI_0021-17205.xml, ignoring example.\n",
      "WARNING:root:Could not find /media/golden/72FFC6EE48B5CF39/drone-tracking/kenya-tracking/annotations/images-and-xmls/all-annotations/annotations/NOV02_2017_DJI_0021-17220.xml, ignoring example.\n",
      "WARNING:root:Could not find /media/golden/72FFC6EE48B5CF39/drone-tracking/kenya-tracking/annotations/images-and-xmls/all-annotations/annotations/NOV02_2017_DJI_0021-17235.xml, ignoring example.\n",
      "WARNING:root:Could not find /media/golden/72FFC6EE48B5CF39/drone-tracking/kenya-tracking/annotations/images-and-xmls/all-annotations/annotations/NOV02_2017_DJI_0021-17250.xml, ignoring example.\n",
      "WARNING:root:Could not find /media/golden/72FFC6EE48B5CF39/drone-tracking/kenya-tracking/annotations/images-and-xmls/all-annotations/annotations/NOV02_2017_DJI_0021-17265.xml, ignoring example.\n",
      "WARNING:root:Could not find /media/golden/72FFC6EE48B5CF39/drone-tracking/kenya-tracking/annotations/images-and-xmls/all-annotations/annotations/NOV02_2017_DJI_0021-17280.xml, ignoring example.\n",
      "WARNING:root:Could not find /media/golden/72FFC6EE48B5CF39/drone-tracking/kenya-tracking/annotations/images-and-xmls/all-annotations/annotations/NOV02_2017_DJI_0021-17295.xml, ignoring example.\n",
      "WARNING:root:Could not find /media/golden/72FFC6EE48B5CF39/drone-tracking/kenya-tracking/annotations/images-and-xmls/all-annotations/annotations/NOV02_2017_DJI_0021-17310.xml, ignoring example.\n",
      "WARNING:root:Could not find /media/golden/72FFC6EE48B5CF39/drone-tracking/kenya-tracking/annotations/images-and-xmls/all-annotations/annotations/NOV02_2017_DJI_0021-17325.xml, ignoring example.\n",
      "WARNING:root:Could not find /media/golden/72FFC6EE48B5CF39/drone-tracking/kenya-tracking/annotations/images-and-xmls/all-annotations/annotations/NOV02_2017_DJI_0021-17340.xml, ignoring example.\n",
      "WARNING:root:Could not find /media/golden/72FFC6EE48B5CF39/drone-tracking/kenya-tracking/annotations/images-and-xmls/all-annotations/annotations/NOV02_2017_DJI_0021-17370.xml, ignoring example.\n",
      "WARNING:root:Could not find /media/golden/72FFC6EE48B5CF39/drone-tracking/kenya-tracking/annotations/images-and-xmls/all-annotations/annotations/NOV02_2017_DJI_0021-17385.xml, ignoring example.\n",
      "WARNING:root:Could not find /media/golden/72FFC6EE48B5CF39/drone-tracking/kenya-tracking/annotations/images-and-xmls/all-annotations/annotations/NOV02_2017_DJI_0021-17415.xml, ignoring example.\n",
      "WARNING:root:Could not find /media/golden/72FFC6EE48B5CF39/drone-tracking/kenya-tracking/annotations/images-and-xmls/all-annotations/annotations/NOV02_2017_DJI_0021-17430.xml, ignoring example.\n",
      "WARNING:root:Could not find /media/golden/72FFC6EE48B5CF39/drone-tracking/kenya-tracking/annotations/images-and-xmls/all-annotations/annotations/NOV02_2017_DJI_0021-17445.xml, ignoring example.\n",
      "WARNING:root:Could not find /media/golden/72FFC6EE48B5CF39/drone-tracking/kenya-tracking/annotations/images-and-xmls/all-annotations/annotations/NOV02_2017_DJI_0021-17460.xml, ignoring example.\n",
      "WARNING:root:Could not find /media/golden/72FFC6EE48B5CF39/drone-tracking/kenya-tracking/annotations/images-and-xmls/all-annotations/annotations/NOV02_2017_DJI_0021-17475.xml, ignoring example.\n",
      "WARNING:root:Could not find /media/golden/72FFC6EE48B5CF39/drone-tracking/kenya-tracking/annotations/images-and-xmls/all-annotations/annotations/NOV02_2017_DJI_0021-17490.xml, ignoring example.\n",
      "WARNING:root:Could not find /media/golden/72FFC6EE48B5CF39/drone-tracking/kenya-tracking/annotations/images-and-xmls/all-annotations/annotations/NOV02_2017_DJI_0021-17505.xml, ignoring example.\n",
      "WARNING:root:Could not find /media/golden/72FFC6EE48B5CF39/drone-tracking/kenya-tracking/annotations/images-and-xmls/all-annotations/annotations/NOV02_2017_DJI_0021-17520.xml, ignoring example.\n",
      "WARNING:root:Could not find /media/golden/72FFC6EE48B5CF39/drone-tracking/kenya-tracking/annotations/images-and-xmls/all-annotations/annotations/NOV02_2017_DJI_0021-17535.xml, ignoring example.\n",
      "WARNING:root:Could not find /media/golden/72FFC6EE48B5CF39/drone-tracking/kenya-tracking/annotations/images-and-xmls/all-annotations/annotations/NOV02_2017_DJI_0021-17550.xml, ignoring example.\n",
      "WARNING:root:Could not find /media/golden/72FFC6EE48B5CF39/drone-tracking/kenya-tracking/annotations/images-and-xmls/all-annotations/annotations/NOV02_2017_DJI_0021-17565.xml, ignoring example.\n",
      "WARNING:root:Could not find /media/golden/72FFC6EE48B5CF39/drone-tracking/kenya-tracking/annotations/images-and-xmls/all-annotations/annotations/NOV02_2017_DJI_0021-17580.xml, ignoring example.\n",
      "WARNING:root:Could not find /media/golden/72FFC6EE48B5CF39/drone-tracking/kenya-tracking/annotations/images-and-xmls/all-annotations/annotations/NOV02_2017_DJI_0021-17595.xml, ignoring example.\n",
      "WARNING:root:Could not find /media/golden/72FFC6EE48B5CF39/drone-tracking/kenya-tracking/annotations/images-and-xmls/all-annotations/annotations/NOV02_2017_DJI_0021-17610.xml, ignoring example.\n",
      "WARNING:root:Could not find /media/golden/72FFC6EE48B5CF39/drone-tracking/kenya-tracking/annotations/images-and-xmls/all-annotations/annotations/NOV02_2017_DJI_0021-17640.xml, ignoring example.\n",
      "WARNING:root:Could not find /media/golden/72FFC6EE48B5CF39/drone-tracking/kenya-tracking/annotations/images-and-xmls/all-annotations/annotations/NOV02_2017_DJI_0021-17655.xml, ignoring example.\n",
      "WARNING:root:Could not find /media/golden/72FFC6EE48B5CF39/drone-tracking/kenya-tracking/annotations/images-and-xmls/all-annotations/annotations/NOV02_2017_DJI_0021-17670.xml, ignoring example.\n",
      "WARNING:root:Could not find /media/golden/72FFC6EE48B5CF39/drone-tracking/kenya-tracking/annotations/images-and-xmls/all-annotations/annotations/NOV02_2017_DJI_0021-17685.xml, ignoring example.\n",
      "WARNING:root:Could not find /media/golden/72FFC6EE48B5CF39/drone-tracking/kenya-tracking/annotations/images-and-xmls/all-annotations/annotations/NOV02_2017_DJI_0021-17700.xml, ignoring example.\n",
      "WARNING:root:Could not find /media/golden/72FFC6EE48B5CF39/drone-tracking/kenya-tracking/annotations/images-and-xmls/all-annotations/annotations/NOV02_2017_DJI_0021-17715.xml, ignoring example.\n",
      "WARNING:root:Could not find /media/golden/72FFC6EE48B5CF39/drone-tracking/kenya-tracking/annotations/images-and-xmls/all-annotations/annotations/NOV02_2017_DJI_0021-17730.xml, ignoring example.\n",
      "WARNING:root:Could not find /media/golden/72FFC6EE48B5CF39/drone-tracking/kenya-tracking/annotations/images-and-xmls/all-annotations/annotations/NOV02_2017_DJI_0021-17745.xml, ignoring example.\n",
      "WARNING:root:Could not find /media/golden/72FFC6EE48B5CF39/drone-tracking/kenya-tracking/annotations/images-and-xmls/all-annotations/annotations/NOV02_2017_DJI_0021-17760.xml, ignoring example.\n",
      "WARNING:root:Could not find /media/golden/72FFC6EE48B5CF39/drone-tracking/kenya-tracking/annotations/images-and-xmls/all-annotations/annotations/NOV02_2017_DJI_0021-17775.xml, ignoring example.\n",
      "WARNING:root:Could not find /media/golden/72FFC6EE48B5CF39/drone-tracking/kenya-tracking/annotations/images-and-xmls/all-annotations/annotations/NOV02_2017_DJI_0021-17790.xml, ignoring example.\n",
      "WARNING:root:Could not find /media/golden/72FFC6EE48B5CF39/drone-tracking/kenya-tracking/annotations/images-and-xmls/all-annotations/annotations/NOV02_2017_DJI_0021-17805.xml, ignoring example.\n",
      "WARNING:root:Could not find /media/golden/72FFC6EE48B5CF39/drone-tracking/kenya-tracking/annotations/images-and-xmls/all-annotations/annotations/NOV02_2017_DJI_0021-17820.xml, ignoring example.\n",
      "WARNING:root:Could not find /media/golden/72FFC6EE48B5CF39/drone-tracking/kenya-tracking/annotations/images-and-xmls/all-annotations/annotations/NOV02_2017_DJI_0021-17835.xml, ignoring example.\n",
      "WARNING:root:Could not find /media/golden/72FFC6EE48B5CF39/drone-tracking/kenya-tracking/annotations/images-and-xmls/all-annotations/annotations/NOV02_2017_DJI_0021-17865.xml, ignoring example.\n",
      "WARNING:root:Could not find /media/golden/72FFC6EE48B5CF39/drone-tracking/kenya-tracking/annotations/images-and-xmls/all-annotations/annotations/NOV02_2017_DJI_0021-17880.xml, ignoring example.\n",
      "WARNING:root:Could not find /media/golden/72FFC6EE48B5CF39/drone-tracking/kenya-tracking/annotations/images-and-xmls/all-annotations/annotations/NOV02_2017_DJI_0021-17895.xml, ignoring example.\n",
      "WARNING:root:Could not find /media/golden/72FFC6EE48B5CF39/drone-tracking/kenya-tracking/annotations/images-and-xmls/all-annotations/annotations/NOV02_2017_DJI_0021-17910.xml, ignoring example.\n",
      "WARNING:root:Could not find /media/golden/72FFC6EE48B5CF39/drone-tracking/kenya-tracking/annotations/images-and-xmls/all-annotations/annotations/NOV02_2017_DJI_0021-17925.xml, ignoring example.\n",
      "WARNING:root:Could not find /media/golden/72FFC6EE48B5CF39/drone-tracking/kenya-tracking/annotations/images-and-xmls/all-annotations/annotations/NOV02_2017_DJI_0021-17940.xml, ignoring example.\n",
      "WARNING:root:Could not find /media/golden/72FFC6EE48B5CF39/drone-tracking/kenya-tracking/annotations/images-and-xmls/all-annotations/annotations/NOV02_2017_DJI_0021-17955.xml, ignoring example.\n",
      "WARNING:root:Could not find /media/golden/72FFC6EE48B5CF39/drone-tracking/kenya-tracking/annotations/images-and-xmls/all-annotations/annotations/NOV02_2017_DJI_0021-17970.xml, ignoring example.\n",
      "WARNING:root:Could not find /media/golden/72FFC6EE48B5CF39/drone-tracking/kenya-tracking/annotations/images-and-xmls/all-annotations/annotations/NOV02_2017_DJI_0021-17985.xml, ignoring example.\n",
      "WARNING:root:Could not find /media/golden/72FFC6EE48B5CF39/drone-tracking/kenya-tracking/annotations/images-and-xmls/all-annotations/annotations/NOV02_2017_DJI_0023-1.xml, ignoring example.\n",
      "WARNING:root:Could not find /media/golden/72FFC6EE48B5CF39/drone-tracking/kenya-tracking/annotations/images-and-xmls/all-annotations/annotations/NOV02_2017_DJI_0023-2.xml, ignoring example.\n",
      "WARNING:root:Could not find /media/golden/72FFC6EE48B5CF39/drone-tracking/kenya-tracking/annotations/images-and-xmls/all-annotations/annotations/ob005_25701.xml, ignoring example.\n",
      "WARNING:root:Could not find /media/golden/72FFC6EE48B5CF39/drone-tracking/kenya-tracking/annotations/images-and-xmls/all-annotations/annotations/ob006_03001.xml, ignoring example.\n",
      "WARNING:root:Could not find /media/golden/72FFC6EE48B5CF39/drone-tracking/kenya-tracking/annotations/images-and-xmls/all-annotations/annotations/ob006_03201.xml, ignoring example.\n",
      "WARNING:root:Could not find /media/golden/72FFC6EE48B5CF39/drone-tracking/kenya-tracking/annotations/images-and-xmls/all-annotations/annotations/ob006_03901.xml, ignoring example.\n",
      "WARNING:root:Could not find /media/golden/72FFC6EE48B5CF39/drone-tracking/kenya-tracking/annotations/images-and-xmls/all-annotations/annotations/ob006_04601.xml, ignoring example.\n",
      "WARNING:root:Could not find /media/golden/72FFC6EE48B5CF39/drone-tracking/kenya-tracking/annotations/images-and-xmls/all-annotations/annotations/ob006_07301.xml, ignoring example.\n",
      "WARNING:root:Could not find /media/golden/72FFC6EE48B5CF39/drone-tracking/kenya-tracking/annotations/images-and-xmls/all-annotations/annotations/ob006_15701.xml, ignoring example.\n",
      "WARNING:root:Could not find /media/golden/72FFC6EE48B5CF39/drone-tracking/kenya-tracking/annotations/images-and-xmls/all-annotations/annotations/ob006_17201.xml, ignoring example.\n",
      "WARNING:root:Could not find /media/golden/72FFC6EE48B5CF39/drone-tracking/kenya-tracking/annotations/images-and-xmls/all-annotations/annotations/ob006_18001.xml, ignoring example.\n",
      "WARNING:root:Could not find /media/golden/72FFC6EE48B5CF39/drone-tracking/kenya-tracking/annotations/images-and-xmls/all-annotations/annotations/ob006_21601.xml, ignoring example.\n",
      "WARNING:root:Could not find /media/golden/72FFC6EE48B5CF39/drone-tracking/kenya-tracking/annotations/images-and-xmls/all-annotations/annotations/ob006_24501.xml, ignoring example.\n",
      "WARNING:root:Could not find /media/golden/72FFC6EE48B5CF39/drone-tracking/kenya-tracking/annotations/images-and-xmls/all-annotations/annotations/ob012_04001.xml, ignoring example.\n",
      "WARNING:root:Could not find /media/golden/72FFC6EE48B5CF39/drone-tracking/kenya-tracking/annotations/images-and-xmls/all-annotations/annotations/ob012_05201.xml, ignoring example.\n",
      "WARNING:root:Could not find /media/golden/72FFC6EE48B5CF39/drone-tracking/kenya-tracking/annotations/images-and-xmls/all-annotations/annotations/ob012_05801.xml, ignoring example.\n",
      "WARNING:root:Could not find /media/golden/72FFC6EE48B5CF39/drone-tracking/kenya-tracking/annotations/images-and-xmls/all-annotations/annotations/ob012_06501.xml, ignoring example.\n",
      "WARNING:root:Could not find /media/golden/72FFC6EE48B5CF39/drone-tracking/kenya-tracking/annotations/images-and-xmls/all-annotations/annotations/ob012_08701.xml, ignoring example.\n",
      "WARNING:root:Could not find /media/golden/72FFC6EE48B5CF39/drone-tracking/kenya-tracking/annotations/images-and-xmls/all-annotations/annotations/ob012_09801.xml, ignoring example.\n",
      "WARNING:root:Could not find /media/golden/72FFC6EE48B5CF39/drone-tracking/kenya-tracking/annotations/images-and-xmls/all-annotations/annotations/ob012_11001.xml, ignoring example.\n",
      "WARNING:root:Could not find /media/golden/72FFC6EE48B5CF39/drone-tracking/kenya-tracking/annotations/images-and-xmls/all-annotations/annotations/ob012_11901.xml, ignoring example.\n",
      "WARNING:root:Could not find /media/golden/72FFC6EE48B5CF39/drone-tracking/kenya-tracking/annotations/images-and-xmls/all-annotations/annotations/ob012_13101.xml, ignoring example.\n",
      "WARNING:root:Could not find /media/golden/72FFC6EE48B5CF39/drone-tracking/kenya-tracking/annotations/images-and-xmls/all-annotations/annotations/ob012_14101.xml, ignoring example.\n",
      "WARNING:root:Could not find /media/golden/72FFC6EE48B5CF39/drone-tracking/kenya-tracking/annotations/images-and-xmls/all-annotations/annotations/ob012_15001.xml, ignoring example.\n",
      "WARNING:root:Could not find /media/golden/72FFC6EE48B5CF39/drone-tracking/kenya-tracking/annotations/images-and-xmls/all-annotations/annotations/ob012_16101.xml, ignoring example.\n",
      "WARNING:root:Could not find /media/golden/72FFC6EE48B5CF39/drone-tracking/kenya-tracking/annotations/images-and-xmls/all-annotations/annotations/ob012_19201.xml, ignoring example.\n",
      "WARNING:root:Could not find /media/golden/72FFC6EE48B5CF39/drone-tracking/kenya-tracking/annotations/images-and-xmls/all-annotations/annotations/ob012_21001.xml, ignoring example.\n",
      "WARNING:root:Could not find /media/golden/72FFC6EE48B5CF39/drone-tracking/kenya-tracking/annotations/images-and-xmls/all-annotations/annotations/ob012_22701.xml, ignoring example.\n",
      "WARNING:root:Could not find /media/golden/72FFC6EE48B5CF39/drone-tracking/kenya-tracking/annotations/images-and-xmls/all-annotations/annotations/ob012_25401.xml, ignoring example.\n",
      "WARNING:root:Could not find /media/golden/72FFC6EE48B5CF39/drone-tracking/kenya-tracking/annotations/images-and-xmls/all-annotations/annotations/ob012_30301.xml, ignoring example.\n"
     ]
    },
    {
     "name": "stdout",
     "output_type": "stream",
     "text": [
      "total: 2454\n",
      "buffalo: 736\n",
      "zebra: 1226\n",
      "gazelle: 291\n",
      "wbuck: 200\n",
      "other: 1\n",
      "552 training and 184 validation examples for buffalo.\n",
      "919 training and 307 validation examples for zebra.\n",
      "218 training and 73 validation examples for gazelle.\n",
      "150 training and 50 validation examples for wbuck.\n",
      "0 training and 1 validation examples for other.\n",
      "1839 training and 615 validation examples.\n"
     ]
    }
   ],
   "source": [
    "image_folder = root_annotations_folder\n",
    "\n",
    "if create_tf_records:    \n",
    "    fraction_of_examples_for_evaluation_set = .25\n",
    "\n",
    "    create_all_tf_records(image_folder, label_map_file, data_folder,\n",
    "                          fraction_of_examples_for_evaluation_set)"
   ]
  },
  {
   "cell_type": "markdown",
   "metadata": {},
   "source": [
    "# Now you have to do stuff"
   ]
  },
  {
   "cell_type": "markdown",
   "metadata": {},
   "source": [
    "## First download the model you want from the tf model zoo:"
   ]
  },
  {
   "cell_type": "markdown",
   "metadata": {},
   "source": [
    "Go to https://github.com/tensorflow/models/blob/master/research/object_detection/g3doc/detection_model_zoo.md\n",
    "and download the model you want. This tutorial assumes 'faster_rcnn_resnet101_coco' but choose as you want. Copy and paste the contents of the resulting folder (but not the actual folder) into the folder written in the ouput of the cell bellow."
   ]
  },
  {
   "cell_type": "code",
   "execution_count": 11,
   "metadata": {},
   "outputs": [
    {
     "name": "stdout",
     "output_type": "stream",
     "text": [
      "copy the contents of the downloaded model folder into the following folder:\n",
      "/home/golden/Dropbox/kenya-tracking/models/model-august/model\n"
     ]
    }
   ],
   "source": [
    "print('copy the contents of the downloaded model folder into the following folder:')\n",
    "print(model_folder)"
   ]
  },
  {
   "cell_type": "markdown",
   "metadata": {},
   "source": [
    "## Now you must edit the model .config file to match your use. "
   ]
  },
  {
   "cell_type": "markdown",
   "metadata": {},
   "source": [
    "Now you must edit the model pipeline.config file that you just downloaded and moved to match your use. The config file should be edited as described in the output of the following cell."
   ]
  },
  {
   "cell_type": "code",
   "execution_count": 12,
   "metadata": {},
   "outputs": [
    {
     "name": "stdout",
     "output_type": "stream",
     "text": [
      "The .config file should be in this folder:  /home/golden/Dropbox/kenya-tracking/models/model-august/model\n",
      "The following edits should be made to the .config file:\n",
      "\n",
      "Near the top of the file, the line that begins 'num_classes' should be changed to...\n",
      "num_classes: 1\n",
      "\n",
      "Beneath the line that says 'train_config: {batch_size: 1' add the following line at the same indent as the above line (if running on gazelle head demo)\n",
      "batch_queue_capacity: 10\n",
      "\n",
      "The line that begins 'fine_tune_checkpoint' should be changed to...\n",
      "fine_tune_checkpoint: \"/home/golden/Dropbox/kenya-tracking/models/model-august/model/model.ckpt\"\n",
      "\n",
      "Very important.  If you don't include the next line model will train forever.\n",
      "Beneath the line that says 'from_detection_checkpoint: true' add the following line at the same indent as the above line (if running on gazelle head demo)\n",
      "num_steps: 5000\n",
      "\n",
      "The line that begins 'label_map_path' should be changed to...\n",
      "label_map_path: \"/media/golden/72FFC6EE48B5CF39/drone-tracking/kenya-tracking/training-tfrecords/data-august/data/label_map.pbtxt\"\n",
      "\n",
      "Within the braces ({}) labeled 'train_input_reader' \n",
      "The line that begins 'input_path' should be changed to...\n",
      "input_path: \"/media/golden/72FFC6EE48B5CF39/drone-tracking/kenya-tracking/training-tfrecords/data-august/data/train.record\"\n",
      "\n",
      "The line that begins 'label_map_path' should be changed to...\n",
      "label_map_path: \"/media/golden/72FFC6EE48B5CF39/drone-tracking/kenya-tracking/training-tfrecords/data-august/data/label_map.pbtxt\"\n",
      "\n",
      "Within the braces ({}) labeled 'eval_input_reader' \n",
      "The line that begins 'input_path' should be changed to...\n",
      "input_path: \"/media/golden/72FFC6EE48B5CF39/drone-tracking/kenya-tracking/training-tfrecords/data-august/data/val.record\"\n",
      "\n"
     ]
    }
   ],
   "source": [
    "print('The .config file should be in this folder: ', model_folder)\n",
    "print('The following edits should be made to the .config file:')\n",
    "print()\n",
    "print('Near the top of the file, the line that begins \\'num_classes\\' should be changed to...')\n",
    "print('num_classes:', len(class_names))\n",
    "print()\n",
    "print('Beneath the line that says \\'train_config: {batch_size: 1\\' add the following line at the same indent as the above line (if running on gazelle head demo)')\n",
    "print('batch_queue_capacity: 10')\n",
    "print()\n",
    "print('The line that begins \\'fine_tune_checkpoint\\' should be changed to...')\n",
    "print('fine_tune_checkpoint: \"' + os.path.join(model_folder, 'model.ckpt') + '\"')\n",
    "print()\n",
    "print('Very important.  If you don\\'t include the next line model will train forever.')\n",
    "print('Beneath the line that says \\'from_detection_checkpoint: true\\' add the following line at the same indent as the above line (if running on gazelle head demo)')\n",
    "print('num_steps: 5000')\n",
    "print()\n",
    "print('The line that begins \\'label_map_path\\' should be changed to...')\n",
    "print('label_map_path: \"' + os.path.join(data_folder, 'label_map.pbtxt') + '\"')\n",
    "print()\n",
    "print('Within the braces ({}) labeled \\'train_input_reader\\' ')\n",
    "print('The line that begins \\'input_path\\' should be changed to...')\n",
    "print('input_path: \"' + os.path.join(data_folder, 'train.record') + '\"')\n",
    "print()\n",
    "print('The line that begins \\'label_map_path\\' should be changed to...')\n",
    "print('label_map_path: \"' + os.path.join(data_folder, 'label_map.pbtxt') + '\"')\n",
    "print()\n",
    "print('Within the braces ({}) labeled \\'eval_input_reader\\' ')\n",
    "print('The line that begins \\'input_path\\' should be changed to...')\n",
    "print('input_path: \"' + os.path.join(data_folder, 'val.record') + '\"')\n",
    "print()"
   ]
  },
  {
   "cell_type": "code",
   "execution_count": 13,
   "metadata": {},
   "outputs": [],
   "source": [
    "def run_training(train_py, eval_py, pipeline_config, train_dir, eval_dir, gpu_count=1, name=None):  \n",
    "    print('running ', name)\n",
    "    %env CUDA_VISIBLE_DEVICES=0\n",
    "    train_process = subprocess.Popen(['python', train_py,\n",
    "                            '--logtostderr', \n",
    "                            '--pipeline_config_path=' + pipeline_config,\n",
    "                            '--train_dir=' + train_dir],\n",
    "                            preexec_fn=os.setsid)\n",
    "    if gpu_count > 1:\n",
    "\n",
    "        time.sleep(60)\n",
    "\n",
    "        %env CUDA_VISIBLE_DEVICES=1\n",
    "        \n",
    "        eval_process = subprocess.Popen(['python', eval_py,\n",
    "                                '--logtostderr', \n",
    "                                '--pipeline_config_path=' + pipeline_config,\n",
    "                                '--checkpoint_dir=' + train_dir,\n",
    "                                '--eval_dir=' + eval_dir],\n",
    "                                preexec_fn=os.setsid)\n",
    "\n",
    "    train_process.wait()\n",
    "    \n",
    "    if gpu_count > 1:\n",
    "\n",
    "        print('sleeping')\n",
    "\n",
    "        time.sleep(180)\n",
    "\n",
    "        print('shutting down eval')\n",
    "        \n",
    "        print('killing eval...')\n",
    "\n",
    "        os.killpg(os.getpgid(eval_process.pid), signal.SIGTERM)\n",
    "    \n",
    "    time.sleep(30)"
   ]
  },
  {
   "cell_type": "code",
   "execution_count": 14,
   "metadata": {},
   "outputs": [
    {
     "name": "stdout",
     "output_type": "stream",
     "text": [
      "/home/golden/Dropbox/kenya-tracking/models/model-sept-1/model/pipeline.config\n"
     ]
    }
   ],
   "source": [
    "import subprocess\n",
    "import signal\n",
    "import time\n",
    "import tensorflow as tf\n",
    "\n",
    "#these must be changed to match where these files are saved on your computer\n",
    "train_py = '/home/golden/tensorflow/models/research/object_detection/legacy/train.py'    \n",
    "eval_py = '/home/golden/tensorflow/models/research/object_detection/legacy/eval.py'  \n",
    "\n",
    "model_folder = os.path.join(base_model_folder, 'model')\n",
    "\n",
    "pipeline_config = os.path.join(model_folder, 'pipeline.config')\n",
    "train_dir = os.path.join(base_model_folder, 'train') \n",
    "eval_dir = os.path.join(base_model_folder, 'eval')\n",
    "print(pipeline_config)"
   ]
  },
  {
   "cell_type": "code",
   "execution_count": 15,
   "metadata": {},
   "outputs": [
    {
     "name": "stdout",
     "output_type": "stream",
     "text": [
      "tensorboard --logdir=\"/home/golden/Dropbox/kenya-tracking/models/model-sept-1\"\n"
     ]
    }
   ],
   "source": [
    "print('tensorboard --logdir=\"' + base_model_folder + '\"')"
   ]
  },
  {
   "cell_type": "code",
   "execution_count": 16,
   "metadata": {},
   "outputs": [
    {
     "name": "stdout",
     "output_type": "stream",
     "text": [
      "running  \n",
      "env: CUDA_VISIBLE_DEVICES=0\n",
      "env: CUDA_VISIBLE_DEVICES=1\n",
      "sleeping\n",
      "shutting down eval\n",
      "killing eval...\n"
     ]
    }
   ],
   "source": [
    "if should_train:\n",
    "\n",
    "    #only runs eval if two GPUs\n",
    "    gpu_count = 2\n",
    "\n",
    "    run_training(train_py, eval_py, pipeline_config, train_dir, eval_dir, gpu_count, name='')"
   ]
  },
  {
   "cell_type": "code",
   "execution_count": null,
   "metadata": {},
   "outputs": [],
   "source": []
  },
  {
   "cell_type": "markdown",
   "metadata": {},
   "source": [
    "Now you are ready to train the model"
   ]
  },
  {
   "cell_type": "code",
   "execution_count": 1,
   "metadata": {},
   "outputs": [],
   "source": [
    "import subprocess\n",
    "def run_training(main_run_py, pipeline_path, model_dir, num_train_steps, num_eval_steps, save_checkpoint_steps):\n",
    "    main_process = subprocess.Popen(['python', main_run_py, \n",
    "                                     '--pipeline_config_path='+ pipeline_path,\n",
    "                                     '--model_dir=' + model_dir,\n",
    "                                     '--num_train_steps=' + str(num_train_steps),\n",
    "                                     '--num_eval_steps=' + str(num_eval_steps),\n",
    "                                     '--save_checkpoint_steps=' + str(save_checkpoint_steps),\n",
    "                                     '--alsologtostderr'])\n",
    "    return main_process"
   ]
  },
  {
   "cell_type": "code",
   "execution_count": 2,
   "metadata": {},
   "outputs": [],
   "source": [
    "import tensorflow as tf\n",
    "\n",
    "main_run_py = '/home/golden/tensorflow/models/research/object_detection/model_main.py' \n",
    "pipeline_path = '/home/golden/Dropbox/kenya-tracking/models/model-august/model/pipeline.config' \n",
    "model_dir = '/home/golden/Dropbox/kenya-tracking/models/model-august'\n",
    "num_train_steps = 500\n",
    "num_eval_steps = 575\n",
    "save_checkpoint_steps = 248"
   ]
  },
  {
   "cell_type": "code",
   "execution_count": 3,
   "metadata": {},
   "outputs": [],
   "source": [
    "main_training = run_training(main_run_py, pipeline_path, model_dir, num_train_steps, num_eval_steps, save_checkpoint_steps)"
   ]
  },
  {
   "cell_type": "code",
   "execution_count": 4,
   "metadata": {},
   "outputs": [
    {
     "ename": "KeyboardInterrupt",
     "evalue": "",
     "output_type": "error",
     "traceback": [
      "\u001b[0;31m---------------------------------------------------------------------------\u001b[0m",
      "\u001b[0;31mKeyboardInterrupt\u001b[0m                         Traceback (most recent call last)",
      "\u001b[0;32m<ipython-input-4-de54100665a2>\u001b[0m in \u001b[0;36m<module>\u001b[0;34m()\u001b[0m\n\u001b[1;32m      1\u001b[0m \u001b[0;32mimport\u001b[0m \u001b[0mos\u001b[0m\u001b[0;34m\u001b[0m\u001b[0m\n\u001b[1;32m      2\u001b[0m \u001b[0;32mimport\u001b[0m \u001b[0msignal\u001b[0m\u001b[0;34m\u001b[0m\u001b[0m\n\u001b[0;32m----> 3\u001b[0;31m \u001b[0mos\u001b[0m\u001b[0;34m.\u001b[0m\u001b[0mkillpg\u001b[0m\u001b[0;34m(\u001b[0m\u001b[0mos\u001b[0m\u001b[0;34m.\u001b[0m\u001b[0mgetpgid\u001b[0m\u001b[0;34m(\u001b[0m\u001b[0mmain_training\u001b[0m\u001b[0;34m.\u001b[0m\u001b[0mpid\u001b[0m\u001b[0;34m)\u001b[0m\u001b[0;34m,\u001b[0m \u001b[0msignal\u001b[0m\u001b[0;34m.\u001b[0m\u001b[0mSIGINT\u001b[0m\u001b[0;34m)\u001b[0m\u001b[0;34m\u001b[0m\u001b[0m\n\u001b[0m",
      "\u001b[0;31mKeyboardInterrupt\u001b[0m: "
     ]
    }
   ],
   "source": [
    "import os\n",
    "import signal\n",
    "os.killpg(os.getpgid(main_training.pid), signal.SIGINT)"
   ]
  },
  {
   "cell_type": "code",
   "execution_count": 14,
   "metadata": {},
   "outputs": [],
   "source": [
    "\n"
   ]
  },
  {
   "cell_type": "code",
   "execution_count": 15,
   "metadata": {},
   "outputs": [
    {
     "name": "stdout",
     "output_type": "stream",
     "text": [
      "tensorboard --logdir=\"/home/golden/Dropbox/kenya-tracking/models/model-august\"\n"
     ]
    }
   ],
   "source": []
  },
  {
   "cell_type": "code",
   "execution_count": null,
   "metadata": {},
   "outputs": [
    {
     "name": "stdout",
     "output_type": "stream",
     "text": [
      "running  \n",
      "env: CUDA_VISIBLE_DEVICES=0\n"
     ]
    }
   ],
   "source": [
    "if should_train:\n",
    "\n",
    "    #only runs eval if two GPUs\n",
    "    gpu_count = 2\n",
    "\n",
    "    run_training(train_py, eval_py, pipeline_config, train_dir, eval_dir, gpu_count, name='')"
   ]
  },
  {
   "cell_type": "markdown",
   "metadata": {},
   "source": [
    "You can monitor training by running the following output in the terminal: "
   ]
  },
  {
   "cell_type": "raw",
   "metadata": {},
   "source": [
    "\n"
   ]
  },
  {
   "cell_type": "markdown",
   "metadata": {},
   "source": [
    "# Export Graph"
   ]
  },
  {
   "cell_type": "code",
   "execution_count": 17,
   "metadata": {},
   "outputs": [
    {
     "data": {
      "text/plain": [
       "<subprocess.Popen at 0x7f2fa0730160>"
      ]
     },
     "execution_count": 17,
     "metadata": {},
     "output_type": "execute_result"
    }
   ],
   "source": [
    "#these must be changed to match where these files are saved on your computer\n",
    "export_py = '/home/golden/tensorflow/models/research/object_detection/export_inference_graph.py'\n",
    "#choose step number to export (in train folder)\n",
    "step_num = 150000\n",
    "base_folder = base_model_folder \n",
    "\n",
    "subprocess.Popen(['python', export_py,\n",
    "                '--input_type=image_tensor', \n",
    "                '--pipeline_config_path=' + pipeline_config,\n",
    "                '--trained_checkpoint_prefix=' + os.path.join(train_dir, 'model.ckpt-' + str(step_num)),\n",
    "                '--output_directory=' + os.path.join(base_folder, 'out_put_inference_graph.pb')],\n",
    "                preexec_fn=os.setsid)\n",
    "\n"
   ]
  },
  {
   "cell_type": "code",
   "execution_count": 16,
   "metadata": {},
   "outputs": [],
   "source": [
    "x = np.ones((1))"
   ]
  },
  {
   "cell_type": "code",
   "execution_count": 5,
   "metadata": {},
   "outputs": [],
   "source": [
    "file = np.load('/media/golden/72FFC6EE48B5CF39/kenya-tracking/video-annotations/NOV08_2017_DJI_0117/boxes.npy')"
   ]
  },
  {
   "cell_type": "code",
   "execution_count": 4,
   "metadata": {},
   "outputs": [
    {
     "ename": "IndexError",
     "evalue": "only integers, slices (`:`), ellipsis (`...`), numpy.newaxis (`None`) and integer or boolean arrays are valid indices",
     "output_type": "error",
     "traceback": [
      "\u001b[0;31m---------------------------------------------------------------------------\u001b[0m",
      "\u001b[0;31mIndexError\u001b[0m                                Traceback (most recent call last)",
      "\u001b[0;32m<ipython-input-4-502878f77737>\u001b[0m in \u001b[0;36m<module>\u001b[0;34m()\u001b[0m\n\u001b[0;32m----> 1\u001b[0;31m \u001b[0mprint\u001b[0m\u001b[0;34m(\u001b[0m\u001b[0mfile\u001b[0m\u001b[0;34m[\u001b[0m\u001b[0;36m0\u001b[0m\u001b[0;34m]\u001b[0m\u001b[0;34m[\u001b[0m\u001b[0;34m'track'\u001b[0m\u001b[0;34m]\u001b[0m\u001b[0;34m[\u001b[0m\u001b[0;36m0\u001b[0m\u001b[0;34m]\u001b[0m\u001b[0;34m)\u001b[0m\u001b[0;34m\u001b[0m\u001b[0m\n\u001b[0m",
      "\u001b[0;31mIndexError\u001b[0m: only integers, slices (`:`), ellipsis (`...`), numpy.newaxis (`None`) and integer or boolean arrays are valid indices"
     ]
    }
   ],
   "source": [
    "print(file[0]['track'][0])"
   ]
  },
  {
   "cell_type": "code",
   "execution_count": 6,
   "metadata": {},
   "outputs": [
    {
     "data": {
      "text/plain": [
       "array([[ 0.66939765,  0.15950738,  0.71024215,  0.17530711],\n",
       "       [ 0.27410191,  0.94650757,  0.311214  ,  0.96395314],\n",
       "       [ 0.29083735,  0.32114401,  0.32803628,  0.33644333],\n",
       "       [ 0.55746466,  0.25507566,  0.5864656 ,  0.27684891],\n",
       "       [ 0.50881201,  0.64018017,  0.55308104,  0.65580165],\n",
       "       [ 0.52180409,  0.21746561,  0.5460487 ,  0.23860645],\n",
       "       [ 0.64702511,  0.5923444 ,  0.68180621,  0.611224  ],\n",
       "       [ 0.67662221,  0.58801544,  0.72239596,  0.60465312],\n",
       "       [ 0.32614514,  0.87391919,  0.35573795,  0.89649725],\n",
       "       [ 0.28225872,  0.90321583,  0.3148874 ,  0.92367452],\n",
       "       [ 0.6532827 ,  0.60080981,  0.69500142,  0.61800694],\n",
       "       [ 0.3728126 ,  0.90018725,  0.40375561,  0.92283356],\n",
       "       [ 0.26472819,  0.91882843,  0.29038703,  0.94201469],\n",
       "       [ 0.49962825,  0.29934233,  0.53963041,  0.31307489]], dtype=float32)"
      ]
     },
     "execution_count": 6,
     "metadata": {},
     "output_type": "execute_result"
    }
   ],
   "source": [
    "file[0]"
   ]
  },
  {
   "cell_type": "code",
   "execution_count": 17,
   "metadata": {},
   "outputs": [],
   "source": []
  },
  {
   "cell_type": "code",
   "execution_count": 2,
   "metadata": {},
   "outputs": [],
   "source": [
    "import tensorflow as tf"
   ]
  },
  {
   "cell_type": "code",
   "execution_count": 10,
   "metadata": {},
   "outputs": [
    {
     "ename": "TypeError",
     "evalue": "The value of a feed cannot be a tf.Tensor object. Acceptable feed values include Python scalars, strings, lists, numpy ndarrays, or TensorHandles.For reference, the tensor object was Tensor(\"Const:0\", shape=(), dtype=int32) which was passed to the feed with key Tensor(\"placeholder:0\", dtype=int32).",
     "output_type": "error",
     "traceback": [
      "\u001b[0;31m---------------------------------------------------------------------------\u001b[0m",
      "\u001b[0;31mTypeError\u001b[0m                                 Traceback (most recent call last)",
      "\u001b[0;32m<ipython-input-10-84b2035efd03>\u001b[0m in \u001b[0;36m<module>\u001b[0;34m()\u001b[0m\n\u001b[1;32m      7\u001b[0m     \u001b[0mt\u001b[0m \u001b[0;34m=\u001b[0m \u001b[0mtf\u001b[0m\u001b[0;34m.\u001b[0m\u001b[0mconstant\u001b[0m\u001b[0;34m(\u001b[0m\u001b[0;36m3\u001b[0m\u001b[0;34m,\u001b[0m \u001b[0mdtype\u001b[0m\u001b[0;34m=\u001b[0m\u001b[0mtf\u001b[0m\u001b[0;34m.\u001b[0m\u001b[0mint32\u001b[0m\u001b[0;34m)\u001b[0m\u001b[0;34m\u001b[0m\u001b[0m\n\u001b[1;32m      8\u001b[0m \u001b[0;32mwith\u001b[0m \u001b[0mtf\u001b[0m\u001b[0;34m.\u001b[0m\u001b[0mSession\u001b[0m\u001b[0;34m(\u001b[0m\u001b[0mgraph\u001b[0m\u001b[0;34m=\u001b[0m\u001b[0mgraph1\u001b[0m\u001b[0;34m)\u001b[0m \u001b[0;32mas\u001b[0m \u001b[0msess\u001b[0m\u001b[0;34m:\u001b[0m\u001b[0;34m\u001b[0m\u001b[0m\n\u001b[0;32m----> 9\u001b[0;31m     \u001b[0moutput\u001b[0m \u001b[0;34m=\u001b[0m \u001b[0msess\u001b[0m\u001b[0;34m.\u001b[0m\u001b[0mrun\u001b[0m\u001b[0;34m(\u001b[0m\u001b[0my\u001b[0m\u001b[0;34m,\u001b[0m \u001b[0mfeed_dict\u001b[0m\u001b[0;34m=\u001b[0m\u001b[0;34m{\u001b[0m\u001b[0mx\u001b[0m\u001b[0;34m:\u001b[0m\u001b[0mt\u001b[0m\u001b[0;34m}\u001b[0m\u001b[0;34m)\u001b[0m\u001b[0;34m\u001b[0m\u001b[0m\n\u001b[0m\u001b[1;32m     10\u001b[0m     \u001b[0mprint\u001b[0m\u001b[0;34m(\u001b[0m\u001b[0moutput\u001b[0m\u001b[0;34m)\u001b[0m\u001b[0;34m\u001b[0m\u001b[0m\n",
      "\u001b[0;32m~/.virtualenvs/coding-py35/lib/python3.5/site-packages/tensorflow/python/client/session.py\u001b[0m in \u001b[0;36mrun\u001b[0;34m(self, fetches, feed_dict, options, run_metadata)\u001b[0m\n\u001b[1;32m    898\u001b[0m     \u001b[0;32mtry\u001b[0m\u001b[0;34m:\u001b[0m\u001b[0;34m\u001b[0m\u001b[0m\n\u001b[1;32m    899\u001b[0m       result = self._run(None, fetches, feed_dict, options_ptr,\n\u001b[0;32m--> 900\u001b[0;31m                          run_metadata_ptr)\n\u001b[0m\u001b[1;32m    901\u001b[0m       \u001b[0;32mif\u001b[0m \u001b[0mrun_metadata\u001b[0m\u001b[0;34m:\u001b[0m\u001b[0;34m\u001b[0m\u001b[0m\n\u001b[1;32m    902\u001b[0m         \u001b[0mproto_data\u001b[0m \u001b[0;34m=\u001b[0m \u001b[0mtf_session\u001b[0m\u001b[0;34m.\u001b[0m\u001b[0mTF_GetBuffer\u001b[0m\u001b[0;34m(\u001b[0m\u001b[0mrun_metadata_ptr\u001b[0m\u001b[0;34m)\u001b[0m\u001b[0;34m\u001b[0m\u001b[0m\n",
      "\u001b[0;32m~/.virtualenvs/coding-py35/lib/python3.5/site-packages/tensorflow/python/client/session.py\u001b[0m in \u001b[0;36m_run\u001b[0;34m(self, handle, fetches, feed_dict, options, run_metadata)\u001b[0m\n\u001b[1;32m   1084\u001b[0m                             \u001b[0;34m'For reference, the tensor object was '\u001b[0m \u001b[0;34m+\u001b[0m\u001b[0;34m\u001b[0m\u001b[0m\n\u001b[1;32m   1085\u001b[0m                             \u001b[0mstr\u001b[0m\u001b[0;34m(\u001b[0m\u001b[0mfeed_val\u001b[0m\u001b[0;34m)\u001b[0m \u001b[0;34m+\u001b[0m \u001b[0;34m' which was passed to the '\u001b[0m\u001b[0;34m\u001b[0m\u001b[0m\n\u001b[0;32m-> 1086\u001b[0;31m                             'feed with key ' + str(feed) + '.')\n\u001b[0m\u001b[1;32m   1087\u001b[0m \u001b[0;34m\u001b[0m\u001b[0m\n\u001b[1;32m   1088\u001b[0m           \u001b[0msubfeed_dtype\u001b[0m \u001b[0;34m=\u001b[0m \u001b[0msubfeed_t\u001b[0m\u001b[0;34m.\u001b[0m\u001b[0mdtype\u001b[0m\u001b[0;34m.\u001b[0m\u001b[0mas_numpy_dtype\u001b[0m\u001b[0;34m\u001b[0m\u001b[0m\n",
      "\u001b[0;31mTypeError\u001b[0m: The value of a feed cannot be a tf.Tensor object. Acceptable feed values include Python scalars, strings, lists, numpy ndarrays, or TensorHandles.For reference, the tensor object was Tensor(\"Const:0\", shape=(), dtype=int32) which was passed to the feed with key Tensor(\"placeholder:0\", dtype=int32)."
     ]
    }
   ],
   "source": [
    "graph1 = tf.Graph()\n",
    "with graph1.as_default():\n",
    "    x = tf.placeholder(tf.int32, name='placeholder')\n",
    "    y = tf.multiply(x, tf.constant(10))\n",
    "graph2 = tf.Graph()\n",
    "with graph2.as_default():\n",
    "    t = tf.constant(3, dtype=tf.int32)\n",
    "with tf.Session(graph=graph1) as sess:\n",
    "    output = sess.run(y, feed_dict={x:t})\n",
    "    print(output)"
   ]
  },
  {
   "cell_type": "code",
   "execution_count": null,
   "metadata": {},
   "outputs": [],
   "source": []
  }
 ],
 "metadata": {
  "kernelspec": {
   "display_name": "Python 3",
   "language": "python",
   "name": "python3"
  },
  "language_info": {
   "codemirror_mode": {
    "name": "ipython",
    "version": 3
   },
   "file_extension": ".py",
   "mimetype": "text/x-python",
   "name": "python",
   "nbconvert_exporter": "python",
   "pygments_lexer": "ipython3",
   "version": "3.6.6"
  }
 },
 "nbformat": 4,
 "nbformat_minor": 2
}
