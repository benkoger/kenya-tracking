{
 "cells": [
  {
   "cell_type": "code",
   "execution_count": 1,
   "metadata": {},
   "outputs": [],
   "source": [
    "import numpy as np\n",
    "import pandas as pd\n",
    "import os\n",
    "import glob\n",
    "import shutil\n",
    "from osgeo import gdal\n",
    "import struct\n",
    "import utm\n",
    "import matplotlib.pyplot as plt"
   ]
  },
  {
   "cell_type": "code",
   "execution_count": 2,
   "metadata": {},
   "outputs": [],
   "source": [
    "video_name = 'observation088'\n",
    "drone_log_folder = '/media/golden/72FFC6EE48B5CF39/drone-tracking/kenya-tracking/drone-flightlogs/' + video_name + '/'\n",
    "drone_logs = glob.glob(drone_log_folder + '*')\n",
    "drone_logs.sort()\n",
    "frame_folders_root = '/media/golden/72FFC6EE48B5CF39/drone-tracking/kenya-tracking/raw-frames/raw-footage/observation088' \n",
    "output_folder_root = '/media/golden/72FFC6EE48B5CF39/drone-tracking/kenya-tracking/processed-videos/raw-footage/observation088'\n",
    "\n",
    "video_frame_folders = glob.glob(frame_folders_root + '/*')\n",
    "video_frame_folders.sort()"
   ]
  },
  {
   "cell_type": "code",
   "execution_count": null,
   "metadata": {},
   "outputs": [],
   "source": []
  },
  {
   "cell_type": "code",
   "execution_count": 4,
   "metadata": {},
   "outputs": [],
   "source": [
    "# Get first and last frame number for every video segment in each drone flight\n",
    "\n",
    "first_last_folders = []\n",
    "video_ind = -1\n",
    "for folder_ind, folder in enumerate(video_frame_folders):\n",
    "    files = glob.glob(folder + '/*.jpg')\n",
    "    files.sort(key=lambda file: int(file.split('_')[-1].split('.')[0]))\n",
    "\n",
    "    first_frame = int(files[0].split('_')[-1].split('.')[0])\n",
    "    last_frame = int(files[-1].split('_')[-1].split('.')[0])\n",
    "    if first_frame == 0:\n",
    "        first_last_folders[video_ind].append({'first_frame': first_frame, 'last_frame': last_frame})\n",
    "    else:\n",
    "        video_ind += 1\n",
    "        first_last_folders.append([])\n",
    "        first_last_folders[video_ind].append({'first_frame': first_frame, 'last_frame': last_frame})"
   ]
  },
  {
   "cell_type": "code",
   "execution_count": 5,
   "metadata": {},
   "outputs": [
    {
     "data": {
      "text/plain": [
       "[[{'first_frame': 6246, 'last_frame': 19630},\n",
       "  {'first_frame': 0, 'last_frame': 19634},\n",
       "  {'first_frame': 0, 'last_frame': 19632},\n",
       "  {'first_frame': 0, 'last_frame': 8226}],\n",
       " [{'first_frame': 7624, 'last_frame': 19630},\n",
       "  {'first_frame': 0, 'last_frame': 19634},\n",
       "  {'first_frame': 0, 'last_frame': 19632},\n",
       "  {'first_frame': 0, 'last_frame': 12094}],\n",
       " [{'first_frame': 11228, 'last_frame': 19628},\n",
       "  {'first_frame': 0, 'last_frame': 19634},\n",
       "  {'first_frame': 0, 'last_frame': 19634},\n",
       "  {'first_frame': 0, 'last_frame': 9536}]]"
      ]
     },
     "execution_count": 5,
     "metadata": {},
     "output_type": "execute_result"
    }
   ],
   "source": [
    "first_last_folders"
   ]
  },
  {
   "cell_type": "code",
   "execution_count": null,
   "metadata": {},
   "outputs": [],
   "source": []
  },
  {
   "cell_type": "code",
   "execution_count": 6,
   "metadata": {},
   "outputs": [],
   "source": [
    "# Get the first and last frame number for drone flight (merging all video segments in drone flight together)\n",
    "\n",
    "first_last_flights = []\n",
    "\n",
    "for folder_list in first_last_folders:\n",
    "    first_frame = folder_list[0]['first_frame']\n",
    "    last_frame = folder_list[0]['last_frame']\n",
    "    for fl_dict in folder_list[1:]:\n",
    "            last_frame += fl_dict['last_frame']\n",
    "        \n",
    "    first_last_flights.append({'first_frame': first_frame, 'last_frame': last_frame})"
   ]
  },
  {
   "cell_type": "code",
   "execution_count": 7,
   "metadata": {},
   "outputs": [
    {
     "data": {
      "text/plain": [
       "[{'first_frame': 6246, 'last_frame': 67122},\n",
       " {'first_frame': 7624, 'last_frame': 70990},\n",
       " {'first_frame': 11228, 'last_frame': 68432}]"
      ]
     },
     "execution_count": 7,
     "metadata": {},
     "output_type": "execute_result"
    }
   ],
   "source": [
    "first_last_flights"
   ]
  },
  {
   "cell_type": "code",
   "execution_count": 17,
   "metadata": {},
   "outputs": [],
   "source": [
    "flight_logs = []\n",
    "for file in drone_logs:\n",
    "    flight_log = pd.read_csv(file)\n",
    "    # Get rid of potential white space in column names\n",
    "    flight_log.rename(columns=lambda x: x.strip(), inplace=True)\n",
    "    flight_logs.append(flight_log)"
   ]
  },
  {
   "cell_type": "code",
   "execution_count": 18,
   "metadata": {},
   "outputs": [],
   "source": [
    "num_flights = len(drone_logs)\n",
    "# These have to be manually gotten from the videos or frame extractions\n",
    "first_moving_frames = [799, 524, 1311]\n",
    "\n",
    "if len(first_moving_frames) != num_flights:\n",
    "    raise ValueError('make sure you have a value that ties every flight to the drone flight logs')"
   ]
  },
  {
   "cell_type": "code",
   "execution_count": null,
   "metadata": {},
   "outputs": [],
   "source": []
  },
  {
   "cell_type": "code",
   "execution_count": 20,
   "metadata": {},
   "outputs": [
    {
     "name": "stdout",
     "output_type": "stream",
     "text": [
      "[88, 45, 32]\n"
     ]
    }
   ],
   "source": [
    "# Find the first entries in the drone flight logs where there is movement recorded\n",
    "# This is assumed to correspond in the time with the first movement seen in the frames extracted\n",
    "# from the video in the cell above.\n",
    "# This correspondence is used to link the frames in the video to the information in \n",
    "# in the flight logs for the entire flight\n",
    "\n",
    "first_move = [np.min(np.nonzero(flight_logs[flight_ind].loc[:, 'ascent(feet)'])) for flight_ind in range(num_flights)]\n",
    "print(first_move)\n",
    "#  Add estimated frame numbers of the video to the flight log\n",
    "for df_ind, df in enumerate(flight_logs):\n",
    "    df.loc[:, 'frame_num'] = (\n",
    "        (df.loc[:, 'time(millisecond)'] - df.loc[first_move[df_ind], 'time(millisecond)']) / 16.666).astype(int) + first_moving_frames[df_ind]"
   ]
  },
  {
   "cell_type": "code",
   "execution_count": 21,
   "metadata": {},
   "outputs": [
    {
     "name": "stdout",
     "output_type": "stream",
     "text": [
      "34\n",
      "rotate count 3\n",
      "move count 18\n",
      "thresh count 11\n",
      "64\n",
      "rotate count 14\n",
      "move count 36\n",
      "thresh count 12\n",
      "88\n",
      "rotate count 2\n",
      "move count 28\n",
      "thresh count 57\n",
      "[34, 64, 88]\n",
      "186\n"
     ]
    }
   ],
   "source": [
    "# Go through every entry and record frames where drone has moved by a certrain threshold from previous recording\n",
    "# Use these frames to feed pix4d to create map of space and get ground truth drone movement\n",
    "\n",
    "# Get dataframe row numbers and frame numbers of images to use for map construction\n",
    "\n",
    "drone_movement_threshold = 0.00005\n",
    "\n",
    "frame_list = [[] for _ in range(3)]\n",
    "ind_list = [[] for _ in range(3)]\n",
    "for flight_ind in range(3):\n",
    "# flight_ind = 0 \n",
    "    # index in flight log coresponding to first frame in recording\n",
    "    first_ind = np.min(np.nonzero(flight_logs[flight_ind]['frame_num'] >= first_last_flights[flight_ind]['first_frame']))\n",
    "    # index in flight log coresponding to last frame in recording\n",
    "    last_ind = np.min(np.nonzero(flight_logs[flight_ind]['frame_num'] >= first_last_flights[flight_ind]['last_frame']))\n",
    "\n",
    "    # record the entries in the flight log the correspond to frames in the part of the video\n",
    "    # over the animals\n",
    "\n",
    "    flight_logs[flight_ind] = flight_logs[flight_ind].assign(observing = False)\n",
    "    flight_logs[flight_ind].loc[first_ind:last_ind, 'observing'] = True\n",
    "    \n",
    "    # For images used in pix4d map, save the actual image name, none if not used in map\n",
    "    flight_logs[flight_ind] = flight_logs[flight_ind].assign(image_name = None)\n",
    "\n",
    "    # Record the frames that are used to create the pix4d map\n",
    "\n",
    "    flight_logs[flight_ind] = flight_logs[flight_ind].assign(used_in_map = False)\n",
    "\n",
    "    # log = flight_logs[flight_ind].loc[first_ind:last_ind]\n",
    "    log = flight_logs[flight_ind]\n",
    "\n",
    "    ind_list[flight_ind].append(first_ind)\n",
    "    frame_list[flight_ind].append(log.loc[first_ind, 'frame_num'])\n",
    "    flight_logs[flight_ind].loc[first_ind, 'used_in_map'] = True\n",
    "\n",
    "    last_coord = np.array([log.loc[first_ind, 'latitude'], log.loc[first_ind, 'longitude']])\n",
    "    last_saved_row_ind = first_ind\n",
    "    last_heading = log.loc[first_ind, 'compass_heading(degrees)']\n",
    "    # Is the drone curently rotating\n",
    "    rotating = False\n",
    "    # Is the drone currently moving\n",
    "    moving = False\n",
    "    # How often to take frame when it is already rotating\n",
    "    rotating_thresh = 30\n",
    "    # How many degrees the drone must turn for a rotation to begin\n",
    "    start_rotating_thresh = 1\n",
    "    # Speed theshold for moving\n",
    "    start_moving_thresh = 1.5\n",
    "\n",
    "    rotate_count = 0\n",
    "    move_count = 0\n",
    "    thresh_count = 0\n",
    "    \n",
    "    heading_last_row = log.loc[first_ind, 'compass_heading(degrees)']\n",
    "\n",
    "\n",
    "    for ind, row in log.loc[log['observing'] == True].iterrows():\n",
    "        save_frame = False\n",
    "        cur_coord = np.array([row['latitude'], row['longitude']])\n",
    "        heading_dif = np.abs(row['compass_heading(degrees)'] - last_heading)\n",
    "        if not rotating:\n",
    "            if heading_dif > start_rotating_thresh:\n",
    "                rotating = True\n",
    "                save_frame = True\n",
    "                rotate_count += 1\n",
    "        elif rotating:\n",
    "            if heading_dif > rotating_thresh:\n",
    "                save_frame = True\n",
    "                rotate_count += 1\n",
    "            elif row['compass_heading(degrees)'] - heading_last_row == 0:\n",
    "                rotating = False\n",
    "                save_frame = True\n",
    "                rotate_count += 1\n",
    "        heading_last_row = row['compass_heading(degrees)']\n",
    "        if not moving and row['speed(mph)'] > start_moving_thresh:\n",
    "            save_frame = True\n",
    "            moving = True\n",
    "            move_count += 1\n",
    "        if moving and row['speed(mph)'] == 0:\n",
    "            save_frame = True\n",
    "            moving = False\n",
    "            move_count += 1\n",
    "\n",
    "\n",
    "        diff = np.sqrt(np.sum(np.square(cur_coord - last_coord)))\n",
    "        if diff > drone_movement_threshold:\n",
    "            save_frame = True\n",
    "            thresh_count += 1\n",
    "\n",
    "        if save_frame:\n",
    "            frame_list[flight_ind].append(row['frame_num'])\n",
    "            ind_list[flight_ind].append(ind)\n",
    "            flight_logs[flight_ind].loc[ind, 'used_in_map'] = True\n",
    "            last_coord = cur_coord\n",
    "            last_heading = row['compass_heading(degrees)']\n",
    "\n",
    "\n",
    "    ind_list[flight_ind].append(last_ind)\n",
    "    frame_list[flight_ind].append(log.loc[last_ind, 'frame_num'])\n",
    "    flight_logs[flight_ind].loc[last_ind, 'used_in_map'] = True\n",
    "\n",
    "    print(len(frame_list[flight_ind]))\n",
    "    # print(list(flight_logs[flight_ind].loc[flight_logs[flight_ind]['used_in_map'], 'frame_num']))\n",
    "    print('rotate count', rotate_count)\n",
    "    print('move count', move_count)\n",
    "    print('thresh count', thresh_count)\n",
    "    \n",
    "print([len(l) for l in frame_list])\n",
    "print(sum([len(l) for l in frame_list]))\n"
   ]
  },
  {
   "cell_type": "code",
   "execution_count": 22,
   "metadata": {},
   "outputs": [
    {
     "data": {
      "text/plain": [
       "False"
      ]
     },
     "execution_count": 22,
     "metadata": {},
     "output_type": "execute_result"
    }
   ],
   "source": [
    "flight_ind = 2\n",
    "# print(list(flight_logs[flight_ind].loc[flight_logs[flight_ind]['observing'], 'observing']))\n",
    "list(flight_logs[flight_ind].loc[flight_logs[flight_ind]['observing'], 'used_in_map'])[2]"
   ]
  },
  {
   "cell_type": "code",
   "execution_count": null,
   "metadata": {},
   "outputs": [],
   "source": [
    "\n"
   ]
  },
  {
   "cell_type": "markdown",
   "metadata": {},
   "source": [
    "[[6247, 23941, 24139, 24331, 24517, 24715, 24913, 27458, 33950, 34208, 48392, 48578, 55551, 62643, 62739, 67125], [], []]"
   ]
  },
  {
   "cell_type": "code",
   "execution_count": 28,
   "metadata": {},
   "outputs": [
    {
     "name": "stdout",
     "output_type": "stream",
     "text": [
      "/media/golden/72FFC6EE48B5CF39/drone-tracking/kenya-tracking/processed-videos/raw-footage/observation088/map-images/whole-observation\n"
     ]
    }
   ],
   "source": [
    "# Get the actual frames chosen above to construct map\n",
    "\n",
    "SAVE_IMAGES = False\n",
    "\n",
    "video_frame_folders = glob.glob(frame_folders_root + '/*')\n",
    "video_names = [folder.rpartition('_')[0] for folder in video_frame_folders]\n",
    "# have only one entry for every video name\n",
    "video_names = list(set(video_names))\n",
    "video_names.sort()\n",
    "# print('video names', video_names)\n",
    "\n",
    "map_images_folder = os.path.join(output_folder_root, 'map-images/whole-observation')\n",
    "if not os.path.isdir(map_images_folder):\n",
    "    os.mkdir(map_images_folder)\n",
    "\n",
    "video_ind = 0\n",
    "export_images = []\n",
    "for video_ind in range(3):\n",
    "    image_folders = glob.glob(video_names[video_ind] + '*')\n",
    "    image_folders.sort()\n",
    "\n",
    "    \n",
    "\n",
    "\n",
    "    fl_dicts = first_last_folders[video_ind]\n",
    "    for map_frame_ind, frame_num in enumerate(frame_list[video_ind]):\n",
    "        ex_frame_num = 0\n",
    "        for folder_ind, fl_dict in enumerate(fl_dicts):\n",
    "            if frame_num <= fl_dict['last_frame']:\n",
    "                # make frame num even since those are the only frames that get extracted\n",
    "                if frame_num % 2 != 0:\n",
    "                    frame_num -= 1\n",
    "                image_file = glob.glob(image_folders[folder_ind] + '/*_*' + str(frame_num) + '.jpg')\n",
    "                export_images.append(image_file[0])\n",
    "                if not os.path.exists(image_file[0]):\n",
    "                    print('following file does not exist: {}'.format(image_file[0]))\n",
    "                else:\n",
    "    #                 print(image_file[0])\n",
    "                    out_file = os.path.join(map_images_folder, os.path.basename(image_file[0]))\n",
    "#                     print(os.path.basename(image_file[0]))\n",
    "                    flight_logs[video_ind].loc[ind_list[video_ind][map_frame_ind], 'image_name'] = os.path.basename(image_file[0])\n",
    "                    if SAVE_IMAGES:\n",
    "                        shutil.copyfile(image_file[0], out_file)\n",
    "                break\n",
    "            else:\n",
    "                frame_num -= (fl_dict['last_frame'] + 2)\n",
    "                ex_frame_num += (fl_dict['last_frame'] + 2) \n",
    "\n",
    "\n",
    "print(map_images_folder)"
   ]
  },
  {
   "cell_type": "code",
   "execution_count": 29,
   "metadata": {},
   "outputs": [],
   "source": [
    "# Save the dataframes\n",
    "\n",
    "dataframe_folder = os.path.join(output_folder_root, 'drone-logs')\n",
    "if not os.path.isdir(dataframe_folder):\n",
    "    os.mkdir(dataframe_folder)\n",
    "for flight_num in range(len(flight_logs)):\n",
    "    filename = os.path.join(dataframe_folder, 'flight_{}.pkl'.format(flight_num))\n",
    "    flight_logs[flight_num].to_pickle(filename)"
   ]
  },
  {
   "cell_type": "code",
   "execution_count": 30,
   "metadata": {},
   "outputs": [
    {
     "name": "stdout",
     "output_type": "stream",
     "text": [
      "                            image_name\n",
      "980    APR08_2018_A_DJI_0005_06246.jpg\n",
      "994    APR08_2018_A_DJI_0005_06330.jpg\n",
      "1016   APR08_2018_A_DJI_0005_06462.jpg\n",
      "3862   APR08_2018_A_DJI_0006_04164.jpg\n",
      "3898   APR08_2018_A_DJI_0006_04392.jpg\n",
      "3927   APR08_2018_A_DJI_0006_04590.jpg\n",
      "3956   APR08_2018_A_DJI_0006_04776.jpg\n",
      "3986   APR08_2018_A_DJI_0006_04968.jpg\n",
      "4018   APR08_2018_A_DJI_0006_05166.jpg\n",
      "4051   APR08_2018_A_DJI_0006_05364.jpg\n",
      "4078   APR08_2018_A_DJI_0006_05526.jpg\n",
      "4447   APR08_2018_A_DJI_0006_07778.jpg\n",
      "4475   APR08_2018_A_DJI_0006_07952.jpg\n",
      "4485   APR08_2018_A_DJI_0006_08012.jpg\n",
      "5518   APR08_2018_A_DJI_0006_14330.jpg\n",
      "5561   APR08_2018_A_DJI_0006_14588.jpg\n",
      "5568   APR08_2018_A_DJI_0006_14630.jpg\n",
      "5735   APR08_2018_A_DJI_0006_15650.jpg\n",
      "5762   APR08_2018_A_DJI_0006_15818.jpg\n",
      "6247   APR08_2018_A_DJI_0006_18752.jpg\n",
      "6274   APR08_2018_A_DJI_0006_18914.jpg\n",
      "6289   APR08_2018_A_DJI_0006_19016.jpg\n",
      "7838   APR08_2018_A_DJI_0007_09004.jpg\n",
      "7874   APR08_2018_A_DJI_0007_09226.jpg\n",
      "7912   APR08_2018_A_DJI_0007_09460.jpg\n",
      "9009   APR08_2018_A_DJI_0007_16120.jpg\n",
      "9040   APR08_2018_A_DJI_0007_16306.jpg\n",
      "9057   APR08_2018_A_DJI_0007_16408.jpg\n",
      "10099  APR08_2018_A_DJI_0008_03638.jpg\n",
      "10120  APR08_2018_A_DJI_0008_03764.jpg\n",
      "10144  APR08_2018_A_DJI_0008_03920.jpg\n",
      "10617  APR08_2018_A_DJI_0008_07064.jpg\n",
      "10632  APR08_2018_A_DJI_0008_07166.jpg\n",
      "10794  APR08_2018_A_DJI_0008_08222.jpg\n",
      "                            image_name\n",
      "1140   APR08_2018_B_DJI_0005_07628.jpg\n",
      "1152   APR08_2018_B_DJI_0005_07700.jpg\n",
      "1162   APR08_2018_B_DJI_0005_07766.jpg\n",
      "1171   APR08_2018_B_DJI_0005_07826.jpg\n",
      "1246   APR08_2018_B_DJI_0005_08300.jpg\n",
      "1248   APR08_2018_B_DJI_0005_08312.jpg\n",
      "1273   APR08_2018_B_DJI_0005_08462.jpg\n",
      "1773   APR08_2018_B_DJI_0005_11660.jpg\n",
      "1799   APR08_2018_B_DJI_0005_11834.jpg\n",
      "2420   APR08_2018_B_DJI_0005_15710.jpg\n",
      "2453   APR08_2018_B_DJI_0005_15908.jpg\n",
      "2489   APR08_2018_B_DJI_0005_16130.jpg\n",
      "2503   APR08_2018_B_DJI_0005_16220.jpg\n",
      "3159   APR08_2018_B_DJI_0006_00566.jpg\n",
      "3196   APR08_2018_B_DJI_0006_00794.jpg\n",
      "3215   APR08_2018_B_DJI_0006_00914.jpg\n",
      "3225   APR08_2018_B_DJI_0006_00974.jpg\n",
      "3253   APR08_2018_B_DJI_0006_01154.jpg\n",
      "4105   APR08_2018_B_DJI_0006_06344.jpg\n",
      "4133   APR08_2018_B_DJI_0006_06512.jpg\n",
      "4141   APR08_2018_B_DJI_0006_06560.jpg\n",
      "4392   APR08_2018_B_DJI_0006_08078.jpg\n",
      "4412   APR08_2018_B_DJI_0006_08198.jpg\n",
      "4441   APR08_2018_B_DJI_0006_08372.jpg\n",
      "4472   APR08_2018_B_DJI_0006_08570.jpg\n",
      "4480   APR08_2018_B_DJI_0006_08618.jpg\n",
      "4901   APR08_2018_B_DJI_0006_11156.jpg\n",
      "4944   APR08_2018_B_DJI_0006_11414.jpg\n",
      "4999   APR08_2018_B_DJI_0006_11744.jpg\n",
      "5032   APR08_2018_B_DJI_0006_11942.jpg\n",
      "...                                ...\n",
      "5519   APR08_2018_B_DJI_0006_14882.jpg\n",
      "6041   APR08_2018_B_DJI_0006_18026.jpg\n",
      "6047   APR08_2018_B_DJI_0006_18062.jpg\n",
      "6071   APR08_2018_B_DJI_0006_18206.jpg\n",
      "6079   APR08_2018_B_DJI_0006_18254.jpg\n",
      "6081   APR08_2018_B_DJI_0006_18266.jpg\n",
      "6091   APR08_2018_B_DJI_0006_18326.jpg\n",
      "6170   APR08_2018_B_DJI_0006_18812.jpg\n",
      "6210   APR08_2018_B_DJI_0006_19052.jpg\n",
      "6246   APR08_2018_B_DJI_0006_19268.jpg\n",
      "6266   APR08_2018_B_DJI_0006_19388.jpg\n",
      "7206   APR08_2018_B_DJI_0007_05458.jpg\n",
      "7251   APR08_2018_B_DJI_0007_05728.jpg\n",
      "7413   APR08_2018_B_DJI_0007_06718.jpg\n",
      "7417   APR08_2018_B_DJI_0007_06742.jpg\n",
      "7421   APR08_2018_B_DJI_0007_06766.jpg\n",
      "7432   APR08_2018_B_DJI_0007_06832.jpg\n",
      "7435   APR08_2018_B_DJI_0007_06850.jpg\n",
      "7441   APR08_2018_B_DJI_0007_06886.jpg\n",
      "7457   APR08_2018_B_DJI_0007_06982.jpg\n",
      "7489   APR08_2018_B_DJI_0007_07174.jpg\n",
      "7513   APR08_2018_B_DJI_0007_07318.jpg\n",
      "7521   APR08_2018_B_DJI_0007_07366.jpg\n",
      "8842   APR08_2018_B_DJI_0007_15330.jpg\n",
      "8864   APR08_2018_B_DJI_0007_15462.jpg\n",
      "9931   APR08_2018_B_DJI_0008_02326.jpg\n",
      "9955   APR08_2018_B_DJI_0008_02470.jpg\n",
      "10075  APR08_2018_B_DJI_0008_03196.jpg\n",
      "10105  APR08_2018_B_DJI_0008_03382.jpg\n",
      "11503  APR08_2018_B_DJI_0008_12088.jpg\n",
      "\n",
      "[64 rows x 1 columns]\n",
      "                            image_name\n",
      "1558   APR08_2018_C_DJI_0009_11234.jpg\n",
      "1742   APR08_2018_C_DJI_0009_12434.jpg\n",
      "1780   APR08_2018_C_DJI_0009_12680.jpg\n",
      "2399   APR08_2018_C_DJI_0009_16766.jpg\n",
      "2430   APR08_2018_C_DJI_0009_16976.jpg\n",
      "2447   APR08_2018_C_DJI_0009_17078.jpg\n",
      "3006   APR08_2018_C_DJI_0010_00922.jpg\n",
      "3039   APR08_2018_C_DJI_0010_01120.jpg\n",
      "5018   APR08_2018_C_DJI_0010_13152.jpg\n",
      "5045   APR08_2018_C_DJI_0010_13320.jpg\n",
      "5063   APR08_2018_C_DJI_0010_13428.jpg\n",
      "5075   APR08_2018_C_DJI_0010_13500.jpg\n",
      "5084   APR08_2018_C_DJI_0010_13554.jpg\n",
      "5091   APR08_2018_C_DJI_0010_13596.jpg\n",
      "5098   APR08_2018_C_DJI_0010_13638.jpg\n",
      "5105   APR08_2018_C_DJI_0010_13680.jpg\n",
      "5113   APR08_2018_C_DJI_0010_13728.jpg\n",
      "5121   APR08_2018_C_DJI_0010_13776.jpg\n",
      "5129   APR08_2018_C_DJI_0010_13824.jpg\n",
      "5135   APR08_2018_C_DJI_0010_13866.jpg\n",
      "5139   APR08_2018_C_DJI_0010_13890.jpg\n",
      "5147   APR08_2018_C_DJI_0010_13938.jpg\n",
      "5157   APR08_2018_C_DJI_0010_13998.jpg\n",
      "5172   APR08_2018_C_DJI_0010_14088.jpg\n",
      "5194   APR08_2018_C_DJI_0010_14226.jpg\n",
      "5942   APR08_2018_C_DJI_0010_18768.jpg\n",
      "5984   APR08_2018_C_DJI_0010_19020.jpg\n",
      "6017   APR08_2018_C_DJI_0010_19218.jpg\n",
      "6327   APR08_2018_C_DJI_0011_01460.jpg\n",
      "6359   APR08_2018_C_DJI_0011_01652.jpg\n",
      "...                                ...\n",
      "7986   APR08_2018_C_DJI_0011_11558.jpg\n",
      "8012   APR08_2018_C_DJI_0011_11714.jpg\n",
      "8039   APR08_2018_C_DJI_0011_11876.jpg\n",
      "8053   APR08_2018_C_DJI_0011_11960.jpg\n",
      "8454   APR08_2018_C_DJI_0011_14372.jpg\n",
      "8478   APR08_2018_C_DJI_0011_14522.jpg\n",
      "8497   APR08_2018_C_DJI_0011_14642.jpg\n",
      "8517   APR08_2018_C_DJI_0011_14762.jpg\n",
      "8565   APR08_2018_C_DJI_0011_15056.jpg\n",
      "8585   APR08_2018_C_DJI_0011_15176.jpg\n",
      "8597   APR08_2018_C_DJI_0011_15248.jpg\n",
      "8608   APR08_2018_C_DJI_0011_15314.jpg\n",
      "8620   APR08_2018_C_DJI_0011_15386.jpg\n",
      "8647   APR08_2018_C_DJI_0011_15548.jpg\n",
      "8704   APR08_2018_C_DJI_0011_15902.jpg\n",
      "8725   APR08_2018_C_DJI_0011_16028.jpg\n",
      "8739   APR08_2018_C_DJI_0011_16112.jpg\n",
      "8752   APR08_2018_C_DJI_0011_16190.jpg\n",
      "8765   APR08_2018_C_DJI_0011_16268.jpg\n",
      "8783   APR08_2018_C_DJI_0011_16376.jpg\n",
      "8798   APR08_2018_C_DJI_0011_16466.jpg\n",
      "8953   APR08_2018_C_DJI_0011_17402.jpg\n",
      "8982   APR08_2018_C_DJI_0011_17576.jpg\n",
      "9005   APR08_2018_C_DJI_0011_17714.jpg\n",
      "9032   APR08_2018_C_DJI_0011_17882.jpg\n",
      "9641   APR08_2018_C_DJI_0012_01942.jpg\n",
      "9669   APR08_2018_C_DJI_0012_02122.jpg\n",
      "9704   APR08_2018_C_DJI_0012_02332.jpg\n",
      "9720   APR08_2018_C_DJI_0012_02434.jpg\n",
      "10889  APR08_2018_C_DJI_0012_09532.jpg\n",
      "\n",
      "[88 rows x 1 columns]\n"
     ]
    }
   ],
   "source": [
    "for flight_ind in range(3):\n",
    "    print(flight_logs[flight_ind].loc[flight_logs[flight_ind]['used_in_map'], ['image_name']])"
   ]
  },
  {
   "cell_type": "code",
   "execution_count": 31,
   "metadata": {},
   "outputs": [],
   "source": [
    "dfs = []\n",
    "for flight_ind in range(3):\n",
    "    dfs.append(flight_logs[flight_ind].loc[ind_list[flight_ind], ['used_in_map', 'latitude', 'longitude', 'altitude(feet)']].copy())\n",
    "total_df = pd.concat(dfs, ignore_index=True)"
   ]
  },
  {
   "cell_type": "code",
   "execution_count": 33,
   "metadata": {},
   "outputs": [],
   "source": [
    "total_df.to_csv(os.path.join(output_folder_root, 'map-images/whole_obs_file_lat_long_alt.csv'), header=False, index=False)"
   ]
  },
  {
   "cell_type": "code",
   "execution_count": null,
   "metadata": {},
   "outputs": [],
   "source": [
    "                           "
   ]
  }
 ],
 "metadata": {
  "kernelspec": {
   "display_name": "Python 3",
   "language": "python",
   "name": "python3"
  },
  "language_info": {
   "codemirror_mode": {
    "name": "ipython",
    "version": 3
   },
   "file_extension": ".py",
   "mimetype": "text/x-python",
   "name": "python",
   "nbconvert_exporter": "python",
   "pygments_lexer": "ipython3",
   "version": "3.6.6"
  }
 },
 "nbformat": 4,
 "nbformat_minor": 2
}
