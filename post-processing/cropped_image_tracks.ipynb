{
 "cells": [
  {
   "cell_type": "code",
   "execution_count": 3,
   "metadata": {
    "scrolled": true
   },
   "outputs": [],
   "source": [
    "#import\n",
    "import cv2\n",
    "import numpy as np\n",
    "import glob\n",
    "import copy\n",
    "import os\n",
    "\n",
    "video_name = 'observation088'\n",
    "positions_path = '/media/golden/72FFC6EE48B5CF39/drone-tracking/kenya-tracking/processed-videos/raw-footage/' + video_name + '/localizations/positions.npy'      #the dots marking the animals on each frame\n",
    "tracks_path = '/media/golden/72FFC6EE48B5CF39/drone-tracking/kenya-tracking/processed-videos/raw-footage/' + video_name + '/localizations/tracks-complete.npy'            #file containing info about the tracks\n",
    "picture_folder_path = '/media/golden/72FFC6EE48B5CF39/drone-tracking/kenya-tracking/raw-frames/raw-footage/' + video_name + '/*/*jpg'   #folder with the pictures\n",
    "boxes_path = '/media/golden/72FFC6EE48B5CF39/drone-tracking/kenya-tracking/processed-videos/raw-footage/' + video_name + '/localizations/boxes.npy' \n",
    "extracts_path = '/media/golden/72FFC6EE48B5CF39/drone-tracking/kenya-tracking/processed-videos/raw-footage/' + video_name + '/extracts/'\n",
    "save_path = '/media/golden/72FFC6EE48B5CF39/drone-tracking/kenya-tracking/processed-videos/raw-footage/' + video_name + '/track_images/'\n",
    "if not os.path.isdir(save_path):\n",
    "    os.mkdir(save_path)\n",
    "factor = 0.9                                                   #how much you want to shrink the original image\n",
    "skip = 1                                                         #how many frames you want to skip\n",
    "show_all_tracks = True\n",
    "\n"
   ]
  },
  {
   "cell_type": "code",
   "execution_count": 4,
   "metadata": {},
   "outputs": [],
   "source": [
    "tracks = np.load(tracks_path)\n",
    "extracts = glob.glob(extracts_path + '/*')\n",
    "extracts.sort(key=lambda file: int(file.split('_')[-1]))"
   ]
  },
  {
   "cell_type": "code",
   "execution_count": 6,
   "metadata": {},
   "outputs": [
    {
     "name": "stdout",
     "output_type": "stream",
     "text": [
      "number of files 90735\n"
     ]
    }
   ],
   "source": [
    "image_files = glob.glob(picture_folder_path)\n",
    "print('number of files', len(image_files))\n",
    "image_files.sort(key=lambda file: (file.split('_')[-4], file.split('_')[-2], int(file.split('.')[-2].split('_')[-1])))"
   ]
  },
  {
   "cell_type": "code",
   "execution_count": null,
   "metadata": {},
   "outputs": [],
   "source": [
    "for frame_ind, image_file in enumerate(image_files):\n",
    "    "
   ]
  },
  {
   "cell_type": "code",
   "execution_count": 57,
   "metadata": {},
   "outputs": [],
   "source": [
    "extracts_file = []\n",
    "for frame in range(len(extracts)):\n",
    "    extracts_file.append(glob.glob(extracts[frame] + '/*/*'))\n",
    "    extracts_file[-1].sort(key=lambda file: int(file.split('.')[-3]))"
   ]
  },
  {
   "cell_type": "code",
   "execution_count": 69,
   "metadata": {},
   "outputs": [],
   "source": [
    "import shutil \n",
    "\n",
    "track_ind = 5\n",
    "for track_ind in range(len(tracks)):\n",
    "    track = tracks[track_ind]\n",
    "    track_folder = os.path.join(save_path, 'track_' + str(track_ind))\n",
    "    if os.path.isdir(track_folder):\n",
    "        continue\n",
    "    else:\n",
    "        os.mkdir(track_folder)\n",
    "        for step in range(len(track['pos_index'])):\n",
    "        # for step in range(10):\n",
    "            pos_index = track['pos_index'][step - track['first_frame']][0]\n",
    "            if not np.isnan(pos_index): \n",
    "                image_file = extracts_file[step][int(pos_index)]\n",
    "                shutil.copyfile(image_file, os.path.join(track_folder, os.path.basename(image_file)))"
   ]
  }
 ],
 "metadata": {
  "kernelspec": {
   "display_name": "Python 3",
   "language": "python",
   "name": "python3"
  },
  "language_info": {
   "codemirror_mode": {
    "name": "ipython",
    "version": 3
   },
   "file_extension": ".py",
   "mimetype": "text/x-python",
   "name": "python",
   "nbconvert_exporter": "python",
   "pygments_lexer": "ipython3",
   "version": "3.5.2"
  }
 },
 "nbformat": 4,
 "nbformat_minor": 2
}
