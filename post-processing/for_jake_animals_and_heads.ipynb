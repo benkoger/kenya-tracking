{
 "cells": [
  {
   "cell_type": "code",
   "execution_count": 1,
   "metadata": {},
   "outputs": [
    {
     "name": "stdout",
     "output_type": "stream",
     "text": [
      "12433  files found\n",
      "These are extracted images from frame -> Two level sort\n"
     ]
    }
   ],
   "source": [
    "import glob\n",
    "\n",
    "#Set images directory path here\n",
    "#make sure path ends with a '/'\n",
    "images_dir = '/media/golden/72FFC6EE48B5CF39/kenya-tracking/raw_frames/test_extract/extracts/'\n",
    "\n",
    "\n",
    "file_list = glob.glob(images_dir + '**/*.jpg', recursive=True)\n",
    "if not file_list:\n",
    "    print('No files found')\n",
    "else:\n",
    "    print(len(file_list), ' files found')\n",
    "    example_split_file = file_list[0].split('.')\n",
    "    #multiple files per frame -> extracted object images\n",
    "    if len(example_split_file) >= 3:\n",
    "        print('These are extracted images from frame -> Two level sort')\n",
    "        file_list.sort(key=lambda file: (int(file.split('.')[0].split('_')[-1]), int(file.split('.')[2])))\n",
    "    else:\n",
    "        raise ValueError('This image files are in an unexpected format')\n",
    "\n",
    "\n",
    "            "
   ]
  },
  {
   "cell_type": "code",
   "execution_count": 2,
   "metadata": {},
   "outputs": [],
   "source": [
    "import numpy as np\n",
    "head_boxes_file = '/media/golden/72FFC6EE48B5CF39/kenya-tracking/head-annotations/test_extract/boxes.npy'\n",
    "head_boxes = np.load(head_boxes_file)"
   ]
  },
  {
   "cell_type": "code",
   "execution_count": 3,
   "metadata": {},
   "outputs": [
    {
     "data": {
      "text/plain": [
       "(12433,)"
      ]
     },
     "execution_count": 3,
     "metadata": {},
     "output_type": "execute_result"
    }
   ],
   "source": [
    "head_boxes.shape"
   ]
  },
  {
   "cell_type": "code",
   "execution_count": 4,
   "metadata": {},
   "outputs": [],
   "source": [
    "def get_head_position(head_box, frame_width, frame_height):\n",
    "    head_center = np.ones(2)\n",
    "\n",
    "    #first get center of the head_box\n",
    "    head_center[0] = frame_height * (head_box[0] + (head_box[2] - head_box[0]) / 2) \n",
    "    head_center[1] = frame_width * (head_box[1] + (head_box[3] - head_box[1]) / 2)\n",
    "     \n",
    "    return head_center"
   ]
  },
  {
   "cell_type": "code",
   "execution_count": 5,
   "metadata": {},
   "outputs": [],
   "source": [
    "frame_size = 160\n",
    "head_positions = []\n",
    "for head_box in head_boxes:\n",
    "    try:\n",
    "        head_positions.append(get_head_position(head_box[0], frame_size, frame_size))\n",
    "    except:\n",
    "        head_positions.append(None)\n"
   ]
  },
  {
   "cell_type": "code",
   "execution_count": 6,
   "metadata": {},
   "outputs": [],
   "source": [
    "from PIL import Image, ImageDraw\n",
    "#Test some outputs\n",
    "max_image = 1000\n",
    "step = 50\n",
    "for image_num, image_file in enumerate(file_list[:max_image:step]):\n",
    "    image_index = image_num * step\n",
    "    image = Image.open(image_file)\n",
    "    if head_positions[image_index] is not None:\n",
    "        draw = ImageDraw.Draw(image)\n",
    "        head_vector = np.ones(2)\n",
    "        head_vector[0] = head_positions[image_index][0] - frame_size / 2\n",
    "        head_vector[1] = head_positions[image_index][1] - frame_size / 2\n",
    "        draw.line((head_positions[image_index][1], head_positions[image_index][0], \n",
    "                   head_positions[image_index][1] + head_vector[1], head_positions[image_index][0] + head_vector[0]), \n",
    "                  fill=(128,30,128), width=5)\n",
    "    image.show()"
   ]
  },
  {
   "cell_type": "code",
   "execution_count": 7,
   "metadata": {},
   "outputs": [],
   "source": [
    "import cv2"
   ]
  },
  {
   "cell_type": "code",
   "execution_count": 8,
   "metadata": {},
   "outputs": [],
   "source": [
    "image = cv2.imread(file_list[12])"
   ]
  },
  {
   "cell_type": "code",
   "execution_count": null,
   "metadata": {},
   "outputs": [],
   "source": [
    "cv2.imshow('image', image)\n",
    "cv2.waitKey(0)\n",
    "cv2.destroyAllWindows()"
   ]
  },
  {
   "cell_type": "code",
   "execution_count": null,
   "metadata": {},
   "outputs": [],
   "source": []
  },
  {
   "cell_type": "code",
   "execution_count": null,
   "metadata": {},
   "outputs": [],
   "source": []
  }
 ],
 "metadata": {
  "kernelspec": {
   "display_name": "Python 3",
   "language": "python",
   "name": "python3"
  },
  "language_info": {
   "codemirror_mode": {
    "name": "ipython",
    "version": 3
   },
   "file_extension": ".py",
   "mimetype": "text/x-python",
   "name": "python",
   "nbconvert_exporter": "python",
   "pygments_lexer": "ipython3",
   "version": "3.5.2"
  }
 },
 "nbformat": 4,
 "nbformat_minor": 2
}
