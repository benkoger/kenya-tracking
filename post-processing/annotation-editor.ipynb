{
 "cells": [
  {
   "cell_type": "code",
   "execution_count": 1,
   "metadata": {
    "scrolled": true
   },
   "outputs": [],
   "source": [
    "#SETUP\n",
    "\n",
    "# KEY FUNCTIONS:\n",
    "# next frame = right arrow key\n",
    "# previous frame = left arrow key\n",
    "# frame at beginning of blue track = \"b\"\n",
    "# frame at end of green (focal) track = \"g\"\n",
    "# next blue track = up arrow\n",
    "# previous blue track = down arrow\n",
    "# next green (focal) track = \".\" (same button as '>')\n",
    "# previous green (focal) = \",\" (same button as '<')\n",
    "# add point (automatically adds to end of current green track) = click anywhere on picture\n",
    "# remove point = 'delete/backspace' key\n",
    "# add blue track to end of green track = space bar\n",
    "# permanently remove blue track = \"-\" \n",
    "\n",
    "#THINGS FOR USER TO ADD:\n",
    "#put them as strings - for example: '/Users/dbasili/koger_drive/long-buffalo-data/positions.npy'\n",
    "video_name = 'APR18_2018_E_DJI_0011'\n",
    "animal_type = 'PZ'\n",
    "\n",
    "tracks_path = '/media/golden/72FFC6EE48B5CF39/drone-tracking/kenya-tracking/processed-videos/scare-clips/' + animal_type + '/' + video_name + '/localizations/tracks-complete.npy'            #file containing info about the tracks\n",
    "picture_folder_path = '/media/golden/72FFC6EE48B5CF39/drone-tracking/kenya-tracking/raw-frames/scare-clips/*/' + video_name + '/*jpg'   #folder with the pictures\n",
    "boxes_file = '/media/golden/72FFC6EE48B5CF39/drone-tracking/kenya-tracking/processed-videos/scare-clips/' + animal_type + '/' + video_name + '/localizations/boxes.npy'\n",
    "annotated_record_file = '/media/golden/72FFC6EE48B5CF39/drone-tracking/kenya-tracking/processed-videos/scare-clips/' + animal_type + '/' + video_name + '/localizations/annotations.npy'\n",
    "factor = 0.9                                                   #how much you want to shrink the original image\n",
    "skip = 1                                                         #how many frames you want to skip\n",
    "show_all_tracks = True\n",
    "\n",
    "output_annotation_folder = '/media/golden/72FFC6EE48B5CF39/drone-tracking/kenya-tracking/annotations/images-and-xmls/from-tracking' \n",
    "\n",
    "#import\n",
    "import cv2\n",
    "import numpy as np\n",
    "import glob\n",
    "import copy\n",
    "import os\n",
    "import xml.etree.ElementTree as ET"
   ]
  },
  {
   "cell_type": "code",
   "execution_count": null,
   "metadata": {},
   "outputs": [],
   "source": []
  },
  {
   "cell_type": "code",
   "execution_count": 2,
   "metadata": {},
   "outputs": [],
   "source": [
    "\n",
    "\n",
    "#class for the window\n",
    "class Window():\n",
    "    \n",
    "    #constructor\n",
    "    def __init__(self, tracks_path, picture_folder_path, factor, video_name, output_folder, animal_type):\n",
    "        self.tracks_path = tracks_path\n",
    "        self.video_name = video_name\n",
    "        self.output_folder = output_folder\n",
    "        # work on a copy of the tracks info.  Don't edit the original \n",
    "        self.listoftracks = np.ndarray.tolist(copy.deepcopy(np.load(tracks_path)))\n",
    "        # Focal tracks will only be sorted once\n",
    "        # Use case is start from first frame and build the track to the end\n",
    "\n",
    "        # only do something on key release\n",
    "        # so only act when key press was something but now released\n",
    "        self.animal_type = animal_type\n",
    "        self.boxes_list = np.load(boxes_file)\n",
    "\n",
    "        self.files = glob.glob(picture_folder_path)\n",
    "        print(len(self.files))\n",
    "        self.files.sort(key=lambda file: int(file.split('.')[-2].split('_')[-1]))\n",
    "        self.factor = factor\n",
    "        image = cv2.imread(self.files[0]) #to get size\n",
    "        self.frame_shape = image.shape\n",
    "        self.h = int(np.size(image,0)*factor)\n",
    "        self.w = int(np.size(image,1)*factor)\n",
    "        self.full_pic = np.zeros((int(self.h), self.w, 3), dtype=np.uint8)\n",
    "        self.focal_box = 0\n",
    "        self.framecount = 0\n",
    "        self.frame_index = 0\n",
    "        \n",
    "        # variables for adding box\n",
    "        self.adding_box = False\n",
    "        self.ix = 0\n",
    "        self.iy = 0\n",
    "            \n",
    "        self.image = cv2.imread(self.files[skip * self.framecount])\n",
    "        self.num_corrections = 0\n",
    "        \n",
    "        self.tracks_stack = []\n",
    "        \n",
    "        self.boxes = []\n",
    "        \n",
    "        self.animal_classes = ['PZ', 'GZ', 'imp', 'buffalo', 'wbuck']\n",
    "        \n",
    "        \n",
    "        #to help have keyboard shortcuts\n",
    "    def detect_keys(self, key):\n",
    "#         print(key)\n",
    "#         if key != 255:\n",
    "#             print(key)\n",
    "        # Scroll through frames by just holding down arrow keys\n",
    "        #if key == 3 or key == 83: #right key = move frame forward\n",
    "        \n",
    "        # k o ; l control top and left bounding box size\n",
    "        if key == ord(';'):\n",
    "            self.change_box_size_function(np.array([0,0,0,-1]))\n",
    "        elif key == ord('k'):\n",
    "            self.change_box_size_function(np.array([0,1,0,0]))\n",
    "        elif key == ord('o'):\n",
    "            self.change_box_size_function(np.array([1,0,0,0]))\n",
    "        elif key == ord('l'):\n",
    "            self.change_box_size_function(np.array([0,0,-1,0]))\n",
    "        # awsd control bottom and right bounding box size\n",
    "        elif key == ord('d'):\n",
    "            self.change_box_size_function(np.array([0,0,0,1]))\n",
    "        elif key == ord('a'):\n",
    "            self.change_box_size_function(np.array([0,-1,0,0]))\n",
    "        elif key == ord('w'):\n",
    "            self.change_box_size_function(np.array([-1,0,0,0]))\n",
    "        elif key == ord('s'):\n",
    "            self.change_box_size_function(np.array([0,0,1,0]))\n",
    "        elif key == ord('x'):\n",
    "            self.next_box_function(1)\n",
    "        elif key == ord('z'):\n",
    "            self.next_box_function(-1)\n",
    "        elif key == ord('.'): # . key = move focal track forward\n",
    "            self.change_frame_function(1)\n",
    "        elif key == ord(','): # , key = move focal track back\n",
    "            self.change_frame_function(-1)\n",
    "        elif key == 32: #space key = add to track\n",
    "            self.save_annotation_as_xml()    \n",
    "        elif key == ord('-'): #space key = add to track\n",
    "            self.delete_focal_box()  \n",
    "        elif key == ord('1'): #space key = add to track\n",
    "            self.change_focal_animal_class(-1)  \n",
    "        elif key == ord('2'): #space key = add to track\n",
    "            self.change_focal_animal_class(1) \n",
    "            \n",
    "    def change_focal_animal_class(self, increment):\n",
    "        animal_class = self.boxes[self.focal_box]['class']\n",
    "        animal_index = self.animal_classes.index(animal_class)\n",
    "        animal_index += increment\n",
    "        if animal_index > len(self.animal_classes) - 1:\n",
    "            animal_index = 0\n",
    "        if animal_index < 0:\n",
    "            animal_index = len(self.animal_classes) - 1\n",
    "        self.boxes[self.focal_box]['class'] = self.animal_classes[animal_index]\n",
    "        self.draw_window()\n",
    "        self.show_window()\n",
    "            \n",
    "    def get_color(self, type_string):\n",
    "        if type_string == 'PZ':\n",
    "            return (0, 0, 255)\n",
    "        if type_string == 'GZ':\n",
    "            return (255, 0, 0)\n",
    "        if type_string == 'imp':\n",
    "            return (226, 43, 138)\n",
    "        if type_string == 'buffalo':\n",
    "            return (2, 106, 253)\n",
    "        if type_string == 'w_buck':\n",
    "            return (255, 255, 255)\n",
    "        # else\n",
    "        return (0, 0, 0)\n",
    "    \n",
    "    def _get_boxes_center(boxes, frame_width, frame_height):\n",
    "        center = np.ones((boxes.shape[0], 2))\n",
    "        #need to convert from top right to bottom right origin\n",
    "        center[:, 0] = (frame_height - \n",
    "                        (frame_height * (boxes[:, 0] + (boxes[:, 2] - boxes[:, 0]) / 2.0))) \n",
    "        center[:, 1] = frame_width * (boxes[:, 1] + (boxes[:, 3] - boxes[:, 1]) / 2.0)\n",
    "        return center\n",
    "    \n",
    "\n",
    "    #to draw window\n",
    "    def draw_window(self):\n",
    "        self.drawn_image = copy.copy(self.image)\n",
    "    \n",
    "    \n",
    "        for box_id, box_dict in enumerate(self.boxes):\n",
    "\n",
    "            box = np.copy(box_dict['box'])\n",
    "            box[::2] = box[::2] * self.drawn_image.shape[0]\n",
    "            box[1::2] = box[1::2] * self.drawn_image.shape[1]\n",
    "            \n",
    "            if box_id == self.focal_box:\n",
    "                color = (0, 255, 0)\n",
    "                buffer = 5\n",
    "                cv2.rectangle(self.drawn_image, (int(box[1] - buffer), int(box[0] - buffer)), (int(box[3] + buffer), int(box[2] + buffer)), color, 2)\n",
    "            \n",
    "            color = self.get_color(box_dict['class'])\n",
    "            cv2.rectangle(self.drawn_image, (int(box[1]), int( box[0])), (int(box[3]), int( box[2])), color, 2) \n",
    "    \n",
    "\n",
    "        \n",
    "        text_size = 1\n",
    "        text_spacing = 500\n",
    "        text_row = 100\n",
    "        font_color = (255, 255, 255)\n",
    "        cv2.putText(self.drawn_image, 'current frame: %d'%self.framecount, \n",
    "                    (self.drawn_image.shape[1]-text_spacing, text_row),\n",
    "                    cv2.FONT_HERSHEY_DUPLEX, text_size, font_color, 2, cv2.LINE_AA)\n",
    "        cv2.putText(self.drawn_image, 'num examples: %d'%self.frame_index, \n",
    "                    (self.drawn_image.shape[1]-text_spacing*2, text_row),\n",
    "                    cv2.FONT_HERSHEY_DUPLEX, text_size, font_color, 2, cv2.LINE_AA)\n",
    "        for class_ind, animal_class in enumerate(self.animal_classes):\n",
    "            font_color = self.get_color(animal_class)\n",
    "            cv2.putText(self.drawn_image, animal_class, \n",
    "                    (self.drawn_image.shape[1]-text_spacing*(class_ind + 3), text_row),\n",
    "                    cv2.FONT_HERSHEY_DUPLEX, text_size, font_color, 2, cv2.LINE_AA)\n",
    "        \n",
    "        \n",
    "    def show_window(self, frame=None):\n",
    "        if frame is None:\n",
    "            frame = self.drawn_image\n",
    "\n",
    "        frame = cv2.resize(frame, (int(frame.shape[1] * self.factor), int(frame.shape[0] * self.factor)))\n",
    "        cv2.imshow('frame', frame)\n",
    "\n",
    "    #functions for buttons\n",
    "    def change_frame_function(self, increment):\n",
    "        self.frame_index += increment\n",
    "        if self.frame_index >= len(self.frames_list):\n",
    "            self.frame_index = len(self.frames_list) - 1\n",
    "        if self.frame_index < 0:\n",
    "            self.frame_index = 0\n",
    "        self.framecount = self.frames_list[self.frame_index]\n",
    "        self.get_boxes()\n",
    "        self.image = cv2.imread(self.files[skip * self.framecount])\n",
    "        self.focal_box = 0\n",
    "        self.draw_window()\n",
    "        self.show_window()\n",
    "        \n",
    "    def next_box_function(self, step):\n",
    "        self.focal_box = self.focal_box + step\n",
    "        if self.focal_box >= len(self.boxes):\n",
    "            self.focal_box = len(self.boxes) - 1\n",
    "        if self.focal_box < 0:\n",
    "            self.focal_box = 0 \n",
    "        self.draw_window()\n",
    "        self.show_window()\n",
    "        \n",
    "    def change_box_size_function(self, adjustment):\n",
    "        adjustment = adjustment.astype(float) * 2\n",
    "        adjustment[::2] = adjustment[::2] / self.frame_shape[0] \n",
    "        adjustment[1::2] = adjustment[1::2] / self.frame_shape[1]\n",
    "        self.boxes[self.focal_box]['box'] += adjustment\n",
    "        self.draw_window()\n",
    "        self.show_window()\n",
    "        \n",
    "    def give_frames_to_annotate(self, frames_list):\n",
    "        self.frames_list = frames_list\n",
    "        self.framecount = self.frames_list[self.frame_index]\n",
    "        self.image = cv2.imread(self.files[skip * self.framecount])\n",
    "        self.get_boxes()\n",
    "        \n",
    "    def draw_rectangle(self, x, y, color):\n",
    "        frame = copy.copy(self.drawn_image)\n",
    "        cv2.rectangle(frame, (int(self.ix / self.factor), int(self.iy / self.factor)), \n",
    "                      (int(x / self.factor), int(y / self.factor)), color, 2)\n",
    "        self.show_window(frame)\n",
    "        \n",
    "    def add_box(self, event, x, y, flags, params):\n",
    "\n",
    "        if event == cv2.EVENT_LBUTTONDOWN:\n",
    "            self.adding_box = True\n",
    "            self.ix, self.iy = x, y\n",
    "        elif event == cv2.EVENT_MOUSEMOVE:\n",
    "            if self.adding_box == True:\n",
    "                self.draw_rectangle(x, y, (255, 255, 255))\n",
    "        elif event == cv2.EVENT_LBUTTONUP:\n",
    "            self.adding_box = False\n",
    "            box = [[] for _ in range(4)]\n",
    "            if self.iy < y:\n",
    "                box[0] = self.iy / self.frame_shape[0] / self.factor\n",
    "                box[2] = y  / self.frame_shape[0] / self.factor\n",
    "            else:\n",
    "                box[0] = y / self.frame_shape[0] / self.factor\n",
    "                box[2] = self.iy  / self.frame_shape[0] / self.factor\n",
    "            if self.ix < x:\n",
    "                box[1] = self.ix / self.frame_shape[1] / self.factor\n",
    "                box[3] = x / self.frame_shape[1] / self.factor\n",
    "            else:\n",
    "                box[1] = x / self.frame_shape[1] / self.factor\n",
    "                box[3] = self.ix / self.frame_shape[1] / self.factor\n",
    "\n",
    "            box = np.array(box)\n",
    "            self.boxes.append({'box': box, 'type': 'auto', 'class': animal_type})\n",
    "            self.focal_box = len(self.boxes) - 1\n",
    "            self.draw_window()\n",
    "            self.show_window()\n",
    "            \n",
    "    def convert_class_to_string(self, class_int):\n",
    "        if class_int == 1:\n",
    "            if animal_type == 'PZ':\n",
    "                return 'PZ'\n",
    "            if animal_type == 'GZ':\n",
    "                return 'GZ'\n",
    "            else:\n",
    "                return 'PZ'\n",
    "        if class_int == 2:\n",
    "            return 'imp'\n",
    "        if class_int == 3:\n",
    "            return 'buffalo'\n",
    "        if class_int == 4:\n",
    "            return 'wbuck'\n",
    "        if class_int == 5:\n",
    "            return 'eland'\n",
    "        \n",
    "            \n",
    "            \n",
    "    def get_boxes(self):\n",
    "        self.boxes = []\n",
    "        for track_id, track in enumerate(self.listoftracks):\n",
    "            if track['first_frame'] > self.framecount:\n",
    "                continue\n",
    "            if track['last_frame'] < self.framecount:\n",
    "                continue\n",
    "            rel_frame = self.framecount - track['first_frame']\n",
    "\n",
    "            if not np.isnan(track['pos_index'][rel_frame]):\n",
    "                box = np.copy(self.boxes_list[self.framecount][int(track['pos_index'][rel_frame][0])])\n",
    "                if 'class' in track.keys():\n",
    "                    class_type = self.convert_class_to_string(track['class'][0])\n",
    "                    self.boxes.append({'box': box, 'type': 'manual', 'class': class_type})\n",
    "                else:\n",
    "                    self.boxes.append({'box': box, 'type': 'manual', 'class': animal_type})\n",
    "            else:\n",
    "                box_size = 90\n",
    "                box_size = box_size \n",
    "                center = track['track'][rel_frame] \n",
    "                box = [[] for _ in range(4)]\n",
    "                box[0] = 1 - (center[0] + box_size / 2) / self.frame_shape[0]\n",
    "                box[1] = (center[1] - box_size / 2) / self.frame_shape[1]\n",
    "                box[2] = 1 - (center[0] - box_size / 2)  / self.frame_shape[0]\n",
    "                box[3] = (center[1] + box_size / 2) / self.frame_shape[1]\n",
    "                box = np.array(box)\n",
    "                if 'class' in track.keys():\n",
    "                    class_type = self.convert_class_to_string(track['class'][0])\n",
    "                    self.boxes.append({'box': box, 'type': 'auto', 'class': class_type})\n",
    "                else:\n",
    "                    self.boxes.append({'box': box, 'type': 'auto', 'class': animal_type})\n",
    "    \n",
    "    def count_missing_boxes(self):\n",
    "        max_length = 0\n",
    "        for track in self.listoftracks:\n",
    "            if track['last_frame'] > max_length:\n",
    "                max_length = track['last_frame']\n",
    "        missing_boxes_list = []\n",
    "        active_tracks_list = []\n",
    "        for frame in range(max_length):\n",
    "            # default is no boxes are missing\n",
    "            missing_boxes_list.append(0)\n",
    "            active_tracks_list.append(0)\n",
    "            for track in self.listoftracks:\n",
    "                if track['first_frame'] <= frame:\n",
    "                    if track['last_frame'] > frame:\n",
    "                        rel_frame = frame - track['first_frame']\n",
    "                        active_tracks_list[-1] += 1\n",
    "                        if np.isnan(track['pos_index'][rel_frame]):\n",
    "                            missing_boxes_list[-1] += 1\n",
    "                            \n",
    "\n",
    "        return missing_boxes_list, active_tracks_list\n",
    "\n",
    "\n",
    "    def save_annotation_as_xml(self):\n",
    "\n",
    "        frame_name = self.video_name + '-' + str(self.framecount) \n",
    "        frame_file = os.path.join(self.output_folder, frame_name + '.jpg')\n",
    "        cv2.imwrite(frame_file, self.image)\n",
    "        \n",
    "        # record that this file is being annotated\n",
    "        if not os.path.exists(annotated_record_file):\n",
    "            record_file = []\n",
    "        else:\n",
    "            record_file = np.load(annotated_record_file)\n",
    "        record_file = np.append(record_file, self.framecount)\n",
    "        np.save(annotated_record_file, record_file)\n",
    "        \n",
    "        new_xml = ET.Element('annotation')\n",
    "        folder = ET.SubElement(new_xml, 'folder')\n",
    "        folder.text = 'annotated-frames'\n",
    "        filename = ET.SubElement(new_xml, 'filename')\n",
    "        filename.text = frame_name + '.jpg'\n",
    "        image_size = ET.SubElement(new_xml, 'size')\n",
    "        image_width = ET.SubElement(image_size, 'width')\n",
    "        image_width.text = str(self.image.shape[1])\n",
    "        image_height = ET.SubElement(image_size, 'height')\n",
    "        image_height.text = str(self.image.shape[0])\n",
    "        image_depth = ET.SubElement(image_size, 'depth')\n",
    "        image_depth.text = str(self.image.shape[2])\n",
    "\n",
    "        segmented = ET.SubElement(new_xml, 'segmented')\n",
    "        segmented.text = '0'\n",
    "\n",
    "        for box in self.boxes:\n",
    "            animal_object = ET.SubElement(new_xml, 'object')\n",
    "            #name\n",
    "            animal_name = self.animal_type\n",
    "#             animal_age = name[1]\n",
    "            name = ET.SubElement(animal_object, 'name')\n",
    "            name.text = box['class']\n",
    "            #pose\n",
    "            pose = ET.SubElement(animal_object, 'pose')\n",
    "            pose.text = 'Unspecified'\n",
    "            #truncated\n",
    "            truncated = ET.SubElement(animal_object, 'truncated')\n",
    "            truncated.text = '0'\n",
    "            #difficult\n",
    "            difficult = ET.SubElement(animal_object, 'difficult')\n",
    "            difficult.text = '1'\n",
    "\n",
    "#             polygon_list = animal.findall('polygon')\n",
    "#             points = polygon_list[frame].findall('pt')\n",
    "#             top_left = [(points[0].find('x').text), (points[0].find('y').text)]\n",
    "#             bottom_right = [(points[2].find('x').text), (points[2].find('y').text)]\n",
    "\n",
    "            #bndbox\n",
    "            bndbox = ET.SubElement(animal_object, 'bndbox')\n",
    "            xmin = ET.SubElement(bndbox, 'xmin')\n",
    "            xmin.text = str(int(box['box'][1] * self.image.shape[1]))\n",
    "            ymin = ET.SubElement(bndbox, 'ymin')\n",
    "            ymin.text = str(int((box['box'][0]) * self.image.shape[0]))\n",
    "            xmax = ET.SubElement(bndbox, 'xmax')\n",
    "            xmax.text = str(int(box['box'][3] * self.image.shape[1]))\n",
    "            ymax = ET.SubElement(bndbox, 'ymax')\n",
    "            ymax.text = str(int((box['box'][2]) * self.image.shape[0]))\n",
    "\n",
    "            #age\n",
    "#             age = ET.SubElement(animal_object, 'age')\n",
    "#             age.text = animal_age \n",
    "        if not os.path.exists(os.path.join(self.output_folder, 'annotations/')):\n",
    "            os.mkdir(os.path.join(self.output_folder, 'annotations/'))\n",
    "        outfile = os.path.join(self.output_folder, 'annotations/' + frame_name + str('.xml'))\n",
    "        tree = ET.ElementTree(new_xml)\n",
    "        tree.write(outfile)\n",
    "        print('saved to ', outfile)\n",
    "        self.change_frame_function(1)\n",
    "    \n",
    "    def delete_focal_box(self):\n",
    "        if len(self.boxes) == 0:\n",
    "            return\n",
    "        del self.boxes[self.focal_box]\n",
    "        if self.focal_box >= len(self.boxes):\n",
    "            self.focal_box = len(self.boxes) - 1\n",
    "        self.draw_window()\n",
    "        self.show_window()\n",
    "\n",
    "        \n",
    "\n",
    "        \n",
    "    \n"
   ]
  },
  {
   "cell_type": "code",
   "execution_count": 3,
   "metadata": {},
   "outputs": [
    {
     "name": "stdout",
     "output_type": "stream",
     "text": [
      "9817\n",
      "10\n"
     ]
    }
   ],
   "source": [
    "#get good track, draw image on window, set mouse to work\n",
    "window = Window(tracks_path, picture_folder_path, factor, video_name, output_annotation_folder, animal_type)\n",
    "\n",
    "window.get_boxes()\n",
    "missing_boxes, active_tracks = window.count_missing_boxes()\n",
    "print(len(window.boxes))"
   ]
  },
  {
   "cell_type": "code",
   "execution_count": 5,
   "metadata": {},
   "outputs": [
    {
     "name": "stdout",
     "output_type": "stream",
     "text": [
      "9816\n",
      "There haven't been any frames annotated from this clip\n"
     ]
    },
    {
     "data": {
      "text/plain": [
       "Text(0.5,1,'Sorted frame number for selected frames')"
      ]
     },
     "execution_count": 5,
     "metadata": {},
     "output_type": "execute_result"
    },
    {
     "data": {
      "image/png": "[encoded data removed]",
      "text/plain": [
       "<matplotlib.figure.Figure at 0x7f0a0e098b00>"
      ]
     },
     "metadata": {},
     "output_type": "display_data"
    },
    {
     "data": {
      "image/png": "[encoded data removed]",
      "text/plain": [
       "<matplotlib.figure.Figure at 0x7f0a0932c048>"
      ]
     },
     "metadata": {},
     "output_type": "display_data"
    },
    {
     "data": {
      "image/png": "[encoded data removed]",
      "text/plain": [
       "<matplotlib.figure.Figure at 0x7f0a09356fd0>"
      ]
     },
     "metadata": {},
     "output_type": "display_data"
    },
    {
     "data": {
      "image/png": "[encoded data removed]",
      "text/plain": [
       "<matplotlib.figure.Figure at 0x7f0a092ec9b0>"
      ]
     },
     "metadata": {},
     "output_type": "display_data"
    },
    {
     "data": {
      "image/png": "[encoded data removed]",
      "text/plain": [
       "<matplotlib.figure.Figure at 0x7f0a092b51d0>"
      ]
     },
     "metadata": {},
     "output_type": "display_data"
    },
    {
     "data": {
      "image/png": "[encoded data removed]",
      "text/plain": [
       "<matplotlib.figure.Figure at 0x7f0a09274ef0>"
      ]
     },
     "metadata": {},
     "output_type": "display_data"
    }
   ],
   "source": [
    "from matplotlib import pyplot as plt\n",
    "plt.style.use('dark_background')\n",
    "max_frame = len(missing_boxes)\n",
    "# max_frame = 4500\n",
    "print(max_frame)\n",
    "missing_boxes = np.array(missing_boxes[:max_frame])\n",
    "active_tracks = np.array(active_tracks[:max_frame])\n",
    "percent = missing_boxes[1:] / active_tracks[1:]\n",
    "\n",
    "\n",
    "plt.figure()\n",
    "plt.hist(percent[:max_frame])\n",
    "plt.title('Percent missing boxes histogram whole clip')\n",
    "\n",
    "plt.figure()\n",
    "plt.hist(missing_boxes[:max_frame])\n",
    "plt.title('Missing boxes histogram whole clip')\n",
    "\n",
    "percent_missing = percent ** 3 \n",
    "sort_index = percent_missing.argsort()\n",
    "missing_sorted = np.sort(percent_missing)\n",
    "\n",
    "missing_sum = np.cumsum(missing_sorted)\n",
    "missing_sum = missing_sum / missing_sum[-1]\n",
    "plt.figure()\n",
    "plt.plot(missing_sum)\n",
    "plt.title('Cumsum percent missing')\n",
    "# plt.plot(missing_sum / missing_sum[-1])\n",
    "\n",
    "num_annotations = 100\n",
    "frame_missing = []\n",
    "new_frames_to_annotate = []\n",
    "if os.path.exists(annotated_record_file):\n",
    "    seen = np.load(annotated_record_file)\n",
    "    print('There have already been ', len(seen), 'frames annotated from this clip')\n",
    "else:\n",
    "    seen = np.array([])\n",
    "    print('There haven\\'t been any frames annotated from this clip')\n",
    "frame = 0\n",
    "while frame < num_annotations:\n",
    "    rand = np.random.rand()\n",
    "    ind_greater = np.searchsorted(missing_sum, rand, 'right')\n",
    "    ind_frame = sort_index[ind_greater]\n",
    "    if ind_frame not in seen:\n",
    "        frame_missing.append(missing_boxes[ind_frame+1])\n",
    "        # so that you don't get frames that are too close to each other\n",
    "        # buffer by 2 seconds  (60 frames)\n",
    "        buffer = 30\n",
    "        for i in range(ind_frame + 1 - buffer, ind_frame + 1 + buffer):\n",
    "            seen = np.append(seen, i)\n",
    "        new_frames_to_annotate.append(ind_frame + 1)\n",
    "        frame += 1\n",
    "plt.figure()\n",
    "plt.hist(frame_missing)\n",
    "plt.title('Histogram of missing boxes for selected frames')\n",
    "plt.figure()\n",
    "plt.hist(new_frames_to_annotate)\n",
    "plt.title('Histogram of frame number for selected frames')\n",
    "plt.figure()\n",
    "plt.plot(np.sort(new_frames_to_annotate))\n",
    "plt.title('Sorted frame number for selected frames')\n"
   ]
  },
  {
   "cell_type": "code",
   "execution_count": 6,
   "metadata": {},
   "outputs": [
    {
     "name": "stdout",
     "output_type": "stream",
     "text": [
      "saved to  /media/golden/72FFC6EE48B5CF39/drone-tracking/kenya-tracking/annotations/images-and-xmls/from-tracking/annotations/APR18_2018_E_DJI_0011-42.xml\n",
      "saved to  /media/golden/72FFC6EE48B5CF39/drone-tracking/kenya-tracking/annotations/images-and-xmls/from-tracking/annotations/APR18_2018_E_DJI_0011-170.xml\n",
      "saved to  /media/golden/72FFC6EE48B5CF39/drone-tracking/kenya-tracking/annotations/images-and-xmls/from-tracking/annotations/APR18_2018_E_DJI_0011-445.xml\n",
      "saved to  /media/golden/72FFC6EE48B5CF39/drone-tracking/kenya-tracking/annotations/images-and-xmls/from-tracking/annotations/APR18_2018_E_DJI_0011-985.xml\n",
      "saved to  /media/golden/72FFC6EE48B5CF39/drone-tracking/kenya-tracking/annotations/images-and-xmls/from-tracking/annotations/APR18_2018_E_DJI_0011-1039.xml\n",
      "saved to  /media/golden/72FFC6EE48B5CF39/drone-tracking/kenya-tracking/annotations/images-and-xmls/from-tracking/annotations/APR18_2018_E_DJI_0011-1080.xml\n",
      "saved to  /media/golden/72FFC6EE48B5CF39/drone-tracking/kenya-tracking/annotations/images-and-xmls/from-tracking/annotations/APR18_2018_E_DJI_0011-1146.xml\n",
      "saved to  /media/golden/72FFC6EE48B5CF39/drone-tracking/kenya-tracking/annotations/images-and-xmls/from-tracking/annotations/APR18_2018_E_DJI_0011-1183.xml\n",
      "saved to  /media/golden/72FFC6EE48B5CF39/drone-tracking/kenya-tracking/annotations/images-and-xmls/from-tracking/annotations/APR18_2018_E_DJI_0011-1244.xml\n",
      "saved to  /media/golden/72FFC6EE48B5CF39/drone-tracking/kenya-tracking/annotations/images-and-xmls/from-tracking/annotations/APR18_2018_E_DJI_0011-1345.xml\n",
      "saved to  /media/golden/72FFC6EE48B5CF39/drone-tracking/kenya-tracking/annotations/images-and-xmls/from-tracking/annotations/APR18_2018_E_DJI_0011-1961.xml\n",
      "saved to  /media/golden/72FFC6EE48B5CF39/drone-tracking/kenya-tracking/annotations/images-and-xmls/from-tracking/annotations/APR18_2018_E_DJI_0011-2063.xml\n",
      "saved to  /media/golden/72FFC6EE48B5CF39/drone-tracking/kenya-tracking/annotations/images-and-xmls/from-tracking/annotations/APR18_2018_E_DJI_0011-2422.xml\n",
      "saved to  /media/golden/72FFC6EE48B5CF39/drone-tracking/kenya-tracking/annotations/images-and-xmls/from-tracking/annotations/APR18_2018_E_DJI_0011-2696.xml\n",
      "saved to  /media/golden/72FFC6EE48B5CF39/drone-tracking/kenya-tracking/annotations/images-and-xmls/from-tracking/annotations/APR18_2018_E_DJI_0011-2834.xml\n",
      "saved to  /media/golden/72FFC6EE48B5CF39/drone-tracking/kenya-tracking/annotations/images-and-xmls/from-tracking/annotations/APR18_2018_E_DJI_0011-3307.xml\n",
      "saved to  /media/golden/72FFC6EE48B5CF39/drone-tracking/kenya-tracking/annotations/images-and-xmls/from-tracking/annotations/APR18_2018_E_DJI_0011-3451.xml\n",
      "saved to  /media/golden/72FFC6EE48B5CF39/drone-tracking/kenya-tracking/annotations/images-and-xmls/from-tracking/annotations/APR18_2018_E_DJI_0011-3496.xml\n",
      "saved to  /media/golden/72FFC6EE48B5CF39/drone-tracking/kenya-tracking/annotations/images-and-xmls/from-tracking/annotations/APR18_2018_E_DJI_0011-3681.xml\n",
      "saved to  /media/golden/72FFC6EE48B5CF39/drone-tracking/kenya-tracking/annotations/images-and-xmls/from-tracking/annotations/APR18_2018_E_DJI_0011-3864.xml\n",
      "saved to  /media/golden/72FFC6EE48B5CF39/drone-tracking/kenya-tracking/annotations/images-and-xmls/from-tracking/annotations/APR18_2018_E_DJI_0011-4289.xml\n",
      "saved to  /media/golden/72FFC6EE48B5CF39/drone-tracking/kenya-tracking/annotations/images-and-xmls/from-tracking/annotations/APR18_2018_E_DJI_0011-4384.xml\n",
      "saved to  /media/golden/72FFC6EE48B5CF39/drone-tracking/kenya-tracking/annotations/images-and-xmls/from-tracking/annotations/APR18_2018_E_DJI_0011-4454.xml\n",
      "saved to  /media/golden/72FFC6EE48B5CF39/drone-tracking/kenya-tracking/annotations/images-and-xmls/from-tracking/annotations/APR18_2018_E_DJI_0011-4669.xml\n",
      "saved to  /media/golden/72FFC6EE48B5CF39/drone-tracking/kenya-tracking/annotations/images-and-xmls/from-tracking/annotations/APR18_2018_E_DJI_0011-4727.xml\n",
      "saved to  /media/golden/72FFC6EE48B5CF39/drone-tracking/kenya-tracking/annotations/images-and-xmls/from-tracking/annotations/APR18_2018_E_DJI_0011-4855.xml\n",
      "saved to  /media/golden/72FFC6EE48B5CF39/drone-tracking/kenya-tracking/annotations/images-and-xmls/from-tracking/annotations/APR18_2018_E_DJI_0011-5095.xml\n",
      "saved to  /media/golden/72FFC6EE48B5CF39/drone-tracking/kenya-tracking/annotations/images-and-xmls/from-tracking/annotations/APR18_2018_E_DJI_0011-5610.xml\n",
      "saved to  /media/golden/72FFC6EE48B5CF39/drone-tracking/kenya-tracking/annotations/images-and-xmls/from-tracking/annotations/APR18_2018_E_DJI_0011-5744.xml\n",
      "saved to  /media/golden/72FFC6EE48B5CF39/drone-tracking/kenya-tracking/annotations/images-and-xmls/from-tracking/annotations/APR18_2018_E_DJI_0011-5888.xml\n",
      "saved to  /media/golden/72FFC6EE48B5CF39/drone-tracking/kenya-tracking/annotations/images-and-xmls/from-tracking/annotations/APR18_2018_E_DJI_0011-6022.xml\n",
      "saved to  /media/golden/72FFC6EE48B5CF39/drone-tracking/kenya-tracking/annotations/images-and-xmls/from-tracking/annotations/APR18_2018_E_DJI_0011-6074.xml\n",
      "saved to  /media/golden/72FFC6EE48B5CF39/drone-tracking/kenya-tracking/annotations/images-and-xmls/from-tracking/annotations/APR18_2018_E_DJI_0011-6109.xml\n",
      "saved to  /media/golden/72FFC6EE48B5CF39/drone-tracking/kenya-tracking/annotations/images-and-xmls/from-tracking/annotations/APR18_2018_E_DJI_0011-6447.xml\n",
      "saved to  /media/golden/72FFC6EE48B5CF39/drone-tracking/kenya-tracking/annotations/images-and-xmls/from-tracking/annotations/APR18_2018_E_DJI_0011-6629.xml\n",
      "saved to  /media/golden/72FFC6EE48B5CF39/drone-tracking/kenya-tracking/annotations/images-and-xmls/from-tracking/annotations/APR18_2018_E_DJI_0011-6812.xml\n",
      "saved to  /media/golden/72FFC6EE48B5CF39/drone-tracking/kenya-tracking/annotations/images-and-xmls/from-tracking/annotations/APR18_2018_E_DJI_0011-6941.xml\n",
      "saved to  /media/golden/72FFC6EE48B5CF39/drone-tracking/kenya-tracking/annotations/images-and-xmls/from-tracking/annotations/APR18_2018_E_DJI_0011-7530.xml\n",
      "saved to  /media/golden/72FFC6EE48B5CF39/drone-tracking/kenya-tracking/annotations/images-and-xmls/from-tracking/annotations/APR18_2018_E_DJI_0011-7597.xml\n",
      "saved to  /media/golden/72FFC6EE48B5CF39/drone-tracking/kenya-tracking/annotations/images-and-xmls/from-tracking/annotations/APR18_2018_E_DJI_0011-7648.xml\n",
      "saved to  /media/golden/72FFC6EE48B5CF39/drone-tracking/kenya-tracking/annotations/images-and-xmls/from-tracking/annotations/APR18_2018_E_DJI_0011-7849.xml\n",
      "saved to  /media/golden/72FFC6EE48B5CF39/drone-tracking/kenya-tracking/annotations/images-and-xmls/from-tracking/annotations/APR18_2018_E_DJI_0011-8385.xml\n",
      "saved to  /media/golden/72FFC6EE48B5CF39/drone-tracking/kenya-tracking/annotations/images-and-xmls/from-tracking/annotations/APR18_2018_E_DJI_0011-8558.xml\n",
      "saved to  /media/golden/72FFC6EE48B5CF39/drone-tracking/kenya-tracking/annotations/images-and-xmls/from-tracking/annotations/APR18_2018_E_DJI_0011-8845.xml\n",
      "saved to  /media/golden/72FFC6EE48B5CF39/drone-tracking/kenya-tracking/annotations/images-and-xmls/from-tracking/annotations/APR18_2018_E_DJI_0011-8982.xml\n",
      "saved to  /media/golden/72FFC6EE48B5CF39/drone-tracking/kenya-tracking/annotations/images-and-xmls/from-tracking/annotations/APR18_2018_E_DJI_0011-9191.xml\n",
      "saved to  /media/golden/72FFC6EE48B5CF39/drone-tracking/kenya-tracking/annotations/images-and-xmls/from-tracking/annotations/APR18_2018_E_DJI_0011-9483.xml\n",
      "saved to  /media/golden/72FFC6EE48B5CF39/drone-tracking/kenya-tracking/annotations/images-and-xmls/from-tracking/annotations/APR18_2018_E_DJI_0011-9627.xml\n",
      "saved to  /media/golden/72FFC6EE48B5CF39/drone-tracking/kenya-tracking/annotations/images-and-xmls/from-tracking/annotations/APR18_2018_E_DJI_0011-9783.xml\n"
     ]
    }
   ],
   "source": [
    "#RUN\n",
    "\n",
    "cv2.namedWindow('frame')\n",
    "cv2.setMouseCallback('frame', window.add_box)\n",
    "\n",
    "window.give_frames_to_annotate(np.sort(new_frames_to_annotate))\n",
    "window.draw_window()\n",
    "window.show_window()\n",
    "\n",
    "\n",
    "\n",
    "\n",
    "#loop to keep image updating\n",
    "while True:\n",
    "#     cv2.imshow('pic0', window.full_pic)\n",
    "    #stop loop if press 'x'\n",
    "    key = cv2.waitKey(2) & 0xff\n",
    "    window.detect_keys(key)\n",
    "    if key == 27:\n",
    "        break\n",
    "cv2.destroyAllWindows()"
   ]
  },
  {
   "cell_type": "code",
   "execution_count": 3,
   "metadata": {},
   "outputs": [
    {
     "data": {
      "text/plain": [
       "array([0.14285714])"
      ]
     },
     "execution_count": 3,
     "metadata": {},
     "output_type": "execute_result"
    }
   ],
   "source": [
    "import numpy as np\n",
    "np.array([1]) / np.array([7])"
   ]
  },
  {
   "cell_type": "code",
   "execution_count": null,
   "metadata": {},
   "outputs": [],
   "source": [
    "len(window.listoftracks)"
   ]
  },
  {
   "cell_type": "code",
   "execution_count": 5,
   "metadata": {},
   "outputs": [],
   "source": [
    "import numpy as np\n",
    "import matplotlib.pyplot as plt\n",
    "import copy\n",
    "tracks_path = '/media/golden/72FFC6EE48B5CF39/kenya-tracking/processed_videos/APR03_2018_C_DJI_0284/localizations/tracks.npy' "
   ]
  },
  {
   "cell_type": "code",
   "execution_count": 6,
   "metadata": {},
   "outputs": [],
   "source": [
    "tracks = np.load(tracks_path)"
   ]
  },
  {
   "cell_type": "code",
   "execution_count": 9,
   "metadata": {},
   "outputs": [],
   "source": [
    "starting_frame = [track['first_frame'] for track in tracks]\n"
   ]
  },
  {
   "cell_type": "code",
   "execution_count": 8,
   "metadata": {},
   "outputs": [],
   "source": [
    "import numpy as np\n",
    "x = np.ones((10,2))\n",
    "y = np.ones((10,2)) * 10"
   ]
  },
  {
   "cell_type": "code",
   "execution_count": 2,
   "metadata": {},
   "outputs": [],
   "source": [
    "x = 10"
   ]
  },
  {
   "cell_type": "code",
   "execution_count": 3,
   "metadata": {},
   "outputs": [],
   "source": [
    "if x == 10:\n",
    "    x = 5\n",
    "else:\n",
    "    print('here')"
   ]
  },
  {
   "cell_type": "code",
   "execution_count": 17,
   "metadata": {},
   "outputs": [
    {
     "name": "stdout",
     "output_type": "stream",
     "text": [
      "[0.         0.00024414]\n",
      "t [0.00075 0.00025]\n",
      "[7.5e-04 2.5e-04 1.0e+00 1.0e+00]\n"
     ]
    }
   ],
   "source": [
    "import numpy as np\n",
    "x = np.array([0,0,1,1]).astype(float)\n",
    "y = np.array([0,3,2,1])\n",
    "print(x[::2] / 4096)\n",
    "t = y[1::2] / 4000\n",
    "print('t',t)\n",
    "x[:2] = t\n",
    "print(x)"
   ]
  },
  {
   "cell_type": "code",
   "execution_count": 19,
   "metadata": {},
   "outputs": [],
   "source": [
    "x = [{'c': 10, 'k': 1}, {'c': 3, 'k': 2}, {'c': 5, 'k': 3}]"
   ]
  },
  {
   "cell_type": "code",
   "execution_count": 2,
   "metadata": {},
   "outputs": [],
   "source": [
    "import copy"
   ]
  },
  {
   "cell_type": "code",
   "execution_count": 3,
   "metadata": {},
   "outputs": [],
   "source": [
    "x_copy = copy.copy(x)"
   ]
  },
  {
   "cell_type": "code",
   "execution_count": 4,
   "metadata": {},
   "outputs": [
    {
     "name": "stdout",
     "output_type": "stream",
     "text": [
      "[{'k': 1, 'c': 10}, {'k': 2, 'c': 3}, {'k': 3, 'c': 5}]\n",
      "[{'k': 1, 'c': 10}, {'k': 2, 'c': 3}, {'k': 3, 'c': 5}]\n"
     ]
    }
   ],
   "source": [
    "print(x)\n",
    "print(x_copy)"
   ]
  },
  {
   "cell_type": "code",
   "execution_count": 5,
   "metadata": {},
   "outputs": [],
   "source": [
    "def sort(item):\n",
    "    return item['c']"
   ]
  },
  {
   "cell_type": "code",
   "execution_count": 6,
   "metadata": {},
   "outputs": [],
   "source": [
    "x_copy.sort(key=sort)"
   ]
  },
  {
   "cell_type": "code",
   "execution_count": 7,
   "metadata": {},
   "outputs": [
    {
     "name": "stdout",
     "output_type": "stream",
     "text": [
      "[{'k': 1, 'c': 10}, {'k': 2, 'c': 3}, {'k': 3, 'c': 5}]\n",
      "[{'k': 2, 'c': 3}, {'k': 3, 'c': 5}, {'k': 1, 'c': 10}]\n"
     ]
    }
   ],
   "source": [
    "print(x)\n",
    "print(x_copy)"
   ]
  },
  {
   "cell_type": "code",
   "execution_count": 8,
   "metadata": {},
   "outputs": [],
   "source": [
    "x_copy[0]['c'] = -2"
   ]
  },
  {
   "cell_type": "code",
   "execution_count": 9,
   "metadata": {},
   "outputs": [],
   "source": [
    "x_copy.append({'c':-13, 'k':-2})"
   ]
  },
  {
   "cell_type": "code",
   "execution_count": 10,
   "metadata": {},
   "outputs": [
    {
     "name": "stdout",
     "output_type": "stream",
     "text": [
      "[{'k': 1, 'c': 10}, {'k': 2, 'c': -2}, {'k': 3, 'c': 5}]\n",
      "[{'k': 2, 'c': -2}, {'k': 3, 'c': 5}, {'k': 1, 'c': 10}, {'k': -2, 'c': -13}]\n"
     ]
    }
   ],
   "source": [
    "print(x)\n",
    "print(x_copy)"
   ]
  },
  {
   "cell_type": "code",
   "execution_count": 11,
   "metadata": {},
   "outputs": [],
   "source": [
    "x[0]['new'] = 1000"
   ]
  },
  {
   "cell_type": "code",
   "execution_count": 18,
   "metadata": {},
   "outputs": [
    {
     "name": "stdout",
     "output_type": "stream",
     "text": [
      "[{'k': array([ 1.,  1.]), 'c': 5}]\n",
      "[{'k': 2, 'c': -2}, {'k': array([ 1.,  1.]), 'c': 5}, {'k': 1, 'new': 1000, 'c': 10}, {'k': -2, 'c': -13}]\n"
     ]
    }
   ],
   "source": [
    "print(x)\n",
    "print(x_copy)"
   ]
  },
  {
   "cell_type": "code",
   "execution_count": 13,
   "metadata": {},
   "outputs": [],
   "source": [
    "del x[0]"
   ]
  },
  {
   "cell_type": "code",
   "execution_count": 14,
   "metadata": {},
   "outputs": [
    {
     "name": "stdout",
     "output_type": "stream",
     "text": [
      "2\n",
      "4\n"
     ]
    }
   ],
   "source": [
    "print(len(x))\n",
    "print(len(x_copy))"
   ]
  },
  {
   "cell_type": "code",
   "execution_count": 2,
   "metadata": {},
   "outputs": [],
   "source": [
    "import numpy as np\n",
    "x = np.load('/media/golden/72FFC6EE48B5CF39/drone-tracking/kenya-tracking/processed_videos/APR03_2018_C_DJI_0284/localizations/positions.npy' )"
   ]
  },
  {
   "cell_type": "code",
   "execution_count": 1,
   "metadata": {},
   "outputs": [],
   "source": [
    "x = ['a', 'b', 'c']"
   ]
  },
  {
   "cell_type": "code",
   "execution_count": 5,
   "metadata": {},
   "outputs": [
    {
     "data": {
      "text/plain": [
       "2"
      ]
     },
     "execution_count": 5,
     "metadata": {},
     "output_type": "execute_result"
    }
   ],
   "source": [
    "x.index('c')"
   ]
  },
  {
   "cell_type": "code",
   "execution_count": 5,
   "metadata": {},
   "outputs": [
    {
     "data": {
      "text/plain": [
       "9"
      ]
     },
     "execution_count": 5,
     "metadata": {},
     "output_type": "execute_result"
    }
   ],
   "source": [
    "len(x[:-1])"
   ]
  },
  {
   "cell_type": "code",
   "execution_count": 16,
   "metadata": {},
   "outputs": [],
   "source": [
    "y = np.load('test.npy')"
   ]
  },
  {
   "cell_type": "code",
   "execution_count": 7,
   "metadata": {},
   "outputs": [
    {
     "data": {
      "text/plain": [
       "array([9])"
      ]
     },
     "execution_count": 7,
     "metadata": {},
     "output_type": "execute_result"
    }
   ],
   "source": [
    "np.arange(10)[-1:]"
   ]
  },
  {
   "cell_type": "code",
   "execution_count": null,
   "metadata": {},
   "outputs": [],
   "source": []
  }
 ],
 "metadata": {
  "kernelspec": {
   "display_name": "Python 3",
   "language": "python",
   "name": "python3"
  },
  "language_info": {
   "codemirror_mode": {
    "name": "ipython",
    "version": 3
   },
   "file_extension": ".py",
   "mimetype": "text/x-python",
   "name": "python",
   "nbconvert_exporter": "python",
   "pygments_lexer": "ipython3",
   "version": "3.5.2"
  }
 },
 "nbformat": 4,
 "nbformat_minor": 2
}
