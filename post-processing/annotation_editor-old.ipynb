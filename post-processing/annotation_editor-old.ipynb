{
 "cells": [
  {
   "cell_type": "code",
   "execution_count": 1,
   "metadata": {
    "scrolled": true
   },
   "outputs": [
    {
     "ename": "NameError",
     "evalue": "name 'os' is not defined",
     "output_type": "error",
     "traceback": [
      "\u001b[0;31m---------------------------------------------------------------------------\u001b[0m",
      "\u001b[0;31mNameError\u001b[0m                                 Traceback (most recent call last)",
      "\u001b[0;32m<ipython-input-1-ed6ec0131399>\u001b[0m in \u001b[0;36m<module>\u001b[0;34m()\u001b[0m\n\u001b[1;32m      7\u001b[0m \u001b[0mextracts_path\u001b[0m \u001b[0;34m=\u001b[0m \u001b[0;34m'/media/golden/72FFC6EE48B5CF39/drone_tracking/kenya-tracking/processed_videos/'\u001b[0m \u001b[0;34m+\u001b[0m \u001b[0mvideo_name\u001b[0m \u001b[0;34m+\u001b[0m \u001b[0;34m'/extracts/'\u001b[0m\u001b[0;34m\u001b[0m\u001b[0m\n\u001b[1;32m      8\u001b[0m \u001b[0msave_path\u001b[0m \u001b[0;34m=\u001b[0m \u001b[0;34m'/media/golden/72FFC6EE48B5CF39/drone_tracking/kenya-tracking/processed_videos/'\u001b[0m \u001b[0;34m+\u001b[0m \u001b[0mvideo_name\u001b[0m \u001b[0;34m+\u001b[0m \u001b[0;34m'/track_images/'\u001b[0m\u001b[0;34m\u001b[0m\u001b[0m\n\u001b[0;32m----> 9\u001b[0;31m \u001b[0;32mif\u001b[0m \u001b[0;32mnot\u001b[0m \u001b[0mos\u001b[0m\u001b[0;34m.\u001b[0m\u001b[0mpath\u001b[0m\u001b[0;34m.\u001b[0m\u001b[0misdir\u001b[0m\u001b[0;34m(\u001b[0m\u001b[0msave_path\u001b[0m\u001b[0;34m)\u001b[0m\u001b[0;34m:\u001b[0m\u001b[0;34m\u001b[0m\u001b[0m\n\u001b[0m\u001b[1;32m     10\u001b[0m     \u001b[0mos\u001b[0m\u001b[0;34m.\u001b[0m\u001b[0mmkdir\u001b[0m\u001b[0;34m(\u001b[0m\u001b[0msave_path\u001b[0m\u001b[0;34m)\u001b[0m\u001b[0;34m\u001b[0m\u001b[0m\n\u001b[1;32m     11\u001b[0m \u001b[0mfactor\u001b[0m \u001b[0;34m=\u001b[0m \u001b[0;36m0.9\u001b[0m                                                   \u001b[0;31m#how much you want to shrink the original image\u001b[0m\u001b[0;34m\u001b[0m\u001b[0m\n",
      "\u001b[0;31mNameError\u001b[0m: name 'os' is not defined"
     ]
    }
   ],
   "source": [
    "#import\n",
    "import cv2\n",
    "import numpy as np\n",
    "import glob\n",
    "import copy\n",
    "import os\n",
    "\n",
    "\n",
    "video_name = 'APR08_2018_C_DJI_0010'\n",
    "positions_path = '/media/golden/72FFC6EE48B5CF39/drone_tracking/kenya-tracking/processed_videos/' + video_name + '/localizations/positions.npy'      #the dots marking the animals on each frame\n",
    "tracks_path = '/media/golden/72FFC6EE48B5CF39/drone_tracking/kenya-tracking/processed_videos/' + video_name + '/localizations/tracks-complete.npy'            #file containing info about the tracks\n",
    "picture_folder_path = '/media/golden/72FFC6EE48B5CF39/drone-tracking/kenya-tracking/raw_frames/scare_clips/*/' + video_name + '/*jpg'   #folder with the pictures\n",
    "boxes_path = '/media/golden/72FFC6EE48B5CF39/drone_tracking/kenya-tracking/processed_videos/' + video_name + '/localizations/boxes.npy' \n",
    "extracts_path = '/media/golden/72FFC6EE48B5CF39/drone_tracking/kenya-tracking/processed_videos/' + video_name + '/extracts/'\n",
    "save_path = '/media/golden/72FFC6EE48B5CF39/drone_tracking/kenya-tracking/processed_videos/' + video_name + '/track_images/'\n",
    "if not os.path.isdir(save_path):\n",
    "    os.mkdir(save_path)\n",
    "factor = 0.9                                                   #how much you want to shrink the original image\n",
    "skip = 1                                                         #how many frames you want to skip\n",
    "show_all_tracks = True\n",
    "\n"
   ]
  },
  {
   "cell_type": "code",
   "execution_count": 56,
   "metadata": {},
   "outputs": [],
   "source": [
    "tracks = np.load(tracks_path)\n",
    "extracts = glob.glob(extracts_path + '/*')\n",
    "extracts.sort(key=lambda file: int(file.split('_')[-1]))"
   ]
  },
  {
   "cell_type": "code",
   "execution_count": 74,
   "metadata": {},
   "outputs": [],
   "source": [
    "\n",
    "extracts = glob.glob(extracts_path + '*/*/*.png')\n",
    "extracts.sort(key=lambda file: int(file.split('.')[-5].split('_')[-1]))"
   ]
  },
  {
   "cell_type": "code",
   "execution_count": null,
   "metadata": {},
   "outputs": [],
   "source": []
  },
  {
   "cell_type": "code",
   "execution_count": 57,
   "metadata": {},
   "outputs": [],
   "source": [
    "extracts_file = []\n",
    "for frame in range(len(extracts)):\n",
    "    extracts_file.append(glob.glob(extracts[frame] + '/*/*'))\n",
    "    extracts_file[-1].sort(key=lambda file: int(file.split('.')[-3]))"
   ]
  },
  {
   "cell_type": "code",
   "execution_count": 69,
   "metadata": {},
   "outputs": [],
   "source": [
    "import shutil \n",
    "\n",
    "track_ind = 5\n",
    "for track_ind in range(len(tracks)):\n",
    "    track = tracks[track_ind]\n",
    "    track_folder = os.path.join(save_path, 'track_' + str(track_ind))\n",
    "    if os.path.isdir(track_folder):\n",
    "        continue\n",
    "    else:\n",
    "        os.mkdir(track_folder)\n",
    "        for step in range(len(track['pos_index'])):\n",
    "        # for step in range(10):\n",
    "            pos_index = track['pos_index'][step - track['first_frame']][0]\n",
    "            if not np.isnan(pos_index): \n",
    "                image_file = extracts_file[step][int(pos_index)]\n",
    "                shutil.copyfile(image_file, os.path.join(track_folder, os.path.basename(image_file)))"
   ]
  },
  {
   "cell_type": "code",
   "execution_count": 46,
   "metadata": {},
   "outputs": [],
   "source": [
    "\n",
    " "
   ]
  },
  {
   "cell_type": "code",
   "execution_count": null,
   "metadata": {},
   "outputs": [],
   "source": []
  },
  {
   "cell_type": "code",
   "execution_count": null,
   "metadata": {},
   "outputs": [],
   "source": []
  },
  {
   "cell_type": "code",
   "execution_count": null,
   "metadata": {},
   "outputs": [],
   "source": []
  },
  {
   "cell_type": "code",
   "execution_count": null,
   "metadata": {},
   "outputs": [],
   "source": [
    "len(window.listoftracks)"
   ]
  },
  {
   "cell_type": "code",
   "execution_count": 5,
   "metadata": {},
   "outputs": [],
   "source": [
    "import numpy as np\n",
    "import matplotlib.pyplot as plt\n",
    "import copy\n",
    "tracks_path = '/media/golden/72FFC6EE48B5CF39/kenya-tracking/processed_videos/APR03_2018_C_DJI_0284/localizations/tracks.npy' "
   ]
  },
  {
   "cell_type": "code",
   "execution_count": 6,
   "metadata": {},
   "outputs": [],
   "source": [
    "tracks = np.load(tracks_path)"
   ]
  },
  {
   "cell_type": "code",
   "execution_count": 9,
   "metadata": {},
   "outputs": [],
   "source": [
    "starting_frame = [track['first_frame'] for track in tracks]\n"
   ]
  },
  {
   "cell_type": "code",
   "execution_count": 8,
   "metadata": {},
   "outputs": [],
   "source": [
    "import numpy as np\n",
    "x = np.ones((10,2))\n",
    "y = np.ones((10,2)) * 10"
   ]
  },
  {
   "cell_type": "code",
   "execution_count": 2,
   "metadata": {},
   "outputs": [],
   "source": [
    "x = 10"
   ]
  },
  {
   "cell_type": "code",
   "execution_count": 3,
   "metadata": {},
   "outputs": [],
   "source": [
    "if x == 10:\n",
    "    x = 5\n",
    "else:\n",
    "    print('here')"
   ]
  },
  {
   "cell_type": "code",
   "execution_count": 11,
   "metadata": {},
   "outputs": [
    {
     "data": {
      "text/plain": [
       "array([[ 5.5,  5.5]])"
      ]
     },
     "execution_count": 11,
     "metadata": {},
     "output_type": "execute_result"
    }
   ],
   "source": [
    "z"
   ]
  },
  {
   "cell_type": "code",
   "execution_count": 1,
   "metadata": {},
   "outputs": [],
   "source": [
    "x = [{'c': 10, 'k': 1}, {'c': 3, 'k': 2}, {'c': 5, 'k': 3}]"
   ]
  },
  {
   "cell_type": "code",
   "execution_count": 2,
   "metadata": {},
   "outputs": [],
   "source": [
    "import copy"
   ]
  },
  {
   "cell_type": "code",
   "execution_count": 3,
   "metadata": {},
   "outputs": [],
   "source": [
    "x_copy = copy.copy(x)"
   ]
  },
  {
   "cell_type": "code",
   "execution_count": 4,
   "metadata": {},
   "outputs": [
    {
     "name": "stdout",
     "output_type": "stream",
     "text": [
      "[{'k': 1, 'c': 10}, {'k': 2, 'c': 3}, {'k': 3, 'c': 5}]\n",
      "[{'k': 1, 'c': 10}, {'k': 2, 'c': 3}, {'k': 3, 'c': 5}]\n"
     ]
    }
   ],
   "source": [
    "print(x)\n",
    "print(x_copy)"
   ]
  },
  {
   "cell_type": "code",
   "execution_count": 5,
   "metadata": {},
   "outputs": [],
   "source": [
    "def sort(item):\n",
    "    return item['c']"
   ]
  },
  {
   "cell_type": "code",
   "execution_count": 6,
   "metadata": {},
   "outputs": [],
   "source": [
    "x_copy.sort(key=sort)"
   ]
  },
  {
   "cell_type": "code",
   "execution_count": 7,
   "metadata": {},
   "outputs": [
    {
     "name": "stdout",
     "output_type": "stream",
     "text": [
      "[{'k': 1, 'c': 10}, {'k': 2, 'c': 3}, {'k': 3, 'c': 5}]\n",
      "[{'k': 2, 'c': 3}, {'k': 3, 'c': 5}, {'k': 1, 'c': 10}]\n"
     ]
    }
   ],
   "source": [
    "print(x)\n",
    "print(x_copy)"
   ]
  },
  {
   "cell_type": "code",
   "execution_count": 8,
   "metadata": {},
   "outputs": [],
   "source": [
    "x_copy[0]['c'] = -2"
   ]
  },
  {
   "cell_type": "code",
   "execution_count": 9,
   "metadata": {},
   "outputs": [],
   "source": [
    "x_copy.append({'c':-13, 'k':-2})"
   ]
  },
  {
   "cell_type": "code",
   "execution_count": 10,
   "metadata": {},
   "outputs": [
    {
     "name": "stdout",
     "output_type": "stream",
     "text": [
      "[{'k': 1, 'c': 10}, {'k': 2, 'c': -2}, {'k': 3, 'c': 5}]\n",
      "[{'k': 2, 'c': -2}, {'k': 3, 'c': 5}, {'k': 1, 'c': 10}, {'k': -2, 'c': -13}]\n"
     ]
    }
   ],
   "source": [
    "print(x)\n",
    "print(x_copy)"
   ]
  },
  {
   "cell_type": "code",
   "execution_count": 11,
   "metadata": {},
   "outputs": [],
   "source": [
    "x[0]['new'] = 1000"
   ]
  },
  {
   "cell_type": "code",
   "execution_count": 18,
   "metadata": {},
   "outputs": [
    {
     "name": "stdout",
     "output_type": "stream",
     "text": [
      "[{'k': array([ 1.,  1.]), 'c': 5}]\n",
      "[{'k': 2, 'c': -2}, {'k': array([ 1.,  1.]), 'c': 5}, {'k': 1, 'new': 1000, 'c': 10}, {'k': -2, 'c': -13}]\n"
     ]
    }
   ],
   "source": [
    "print(x)\n",
    "print(x_copy)"
   ]
  },
  {
   "cell_type": "code",
   "execution_count": 13,
   "metadata": {},
   "outputs": [],
   "source": [
    "del x[0]"
   ]
  },
  {
   "cell_type": "code",
   "execution_count": 14,
   "metadata": {},
   "outputs": [
    {
     "name": "stdout",
     "output_type": "stream",
     "text": [
      "2\n",
      "4\n"
     ]
    }
   ],
   "source": [
    "print(len(x))\n",
    "print(len(x_copy))"
   ]
  },
  {
   "cell_type": "code",
   "execution_count": 2,
   "metadata": {},
   "outputs": [],
   "source": [
    "import numpy as np\n",
    "x = np.load('/media/golden/72FFC6EE48B5CF39/drone-tracking/kenya-tracking/processed_videos/APR03_2018_C_DJI_0284/localizations/positions.npy' )"
   ]
  },
  {
   "cell_type": "code",
   "execution_count": 12,
   "metadata": {},
   "outputs": [
    {
     "name": "stdout",
     "output_type": "stream",
     "text": [
      "(12, 2)\n",
      "(1, 2)\n",
      "[[  8.05952515e+02   8.69874329e+02]\n",
      " [  7.42794312e+02   2.36526294e+03]\n",
      " [  9.41179443e+02   1.02659216e+03]\n",
      " [  9.67757202e+02   9.42120605e+02]\n",
      " [  9.32276245e+02   2.21676831e+03]\n",
      " [  7.97129028e+02   2.25654980e+03]\n",
      " [  1.04837268e+03   1.73531519e+03]\n",
      " [  8.93669312e+02   9.65061218e+02]\n",
      " [  9.70521851e+02   1.05232141e+03]\n",
      " [  6.90568604e+02   1.82026025e+03]\n",
      " [  8.29639893e+02   1.71730188e+03]\n",
      " [  7.89107910e+02   2.17300659e+03]\n",
      " [  1.00000000e+00   1.00000000e+00]]\n"
     ]
    }
   ],
   "source": [
    "print(x[0].shape)\n",
    "print(np.ones((1,2)).shape)\n",
    "print(np.vstack([x[0], np.ones((1,2))]))"
   ]
  },
  {
   "cell_type": "code",
   "execution_count": 4,
   "metadata": {},
   "outputs": [],
   "source": [
    "x = np.ones(10)"
   ]
  },
  {
   "cell_type": "code",
   "execution_count": 5,
   "metadata": {},
   "outputs": [
    {
     "data": {
      "text/plain": [
       "9"
      ]
     },
     "execution_count": 5,
     "metadata": {},
     "output_type": "execute_result"
    }
   ],
   "source": [
    "len(x[:-1])"
   ]
  },
  {
   "cell_type": "code",
   "execution_count": 16,
   "metadata": {},
   "outputs": [],
   "source": [
    "y = np.load('test.npy')"
   ]
  },
  {
   "cell_type": "code",
   "execution_count": 7,
   "metadata": {},
   "outputs": [
    {
     "data": {
      "text/plain": [
       "array([9])"
      ]
     },
     "execution_count": 7,
     "metadata": {},
     "output_type": "execute_result"
    }
   ],
   "source": [
    "np.arange(10)[-1:]"
   ]
  },
  {
   "cell_type": "code",
   "execution_count": null,
   "metadata": {},
   "outputs": [],
   "source": []
  }
 ],
 "metadata": {
  "kernelspec": {
   "display_name": "Python 3",
   "language": "python",
   "name": "python3"
  },
  "language_info": {
   "codemirror_mode": {
    "name": "ipython",
    "version": 3
   },
   "file_extension": ".py",
   "mimetype": "text/x-python",
   "name": "python",
   "nbconvert_exporter": "python",
   "pygments_lexer": "ipython3",
   "version": "3.5.2"
  }
 },
 "nbformat": 4,
 "nbformat_minor": 2
}
