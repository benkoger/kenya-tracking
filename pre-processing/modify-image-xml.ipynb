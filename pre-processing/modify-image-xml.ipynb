{
 "cells": [
  {
   "cell_type": "code",
   "execution_count": 1,
   "metadata": {},
   "outputs": [],
   "source": [
    "import numpy as np\n",
    "import pandas as pd\n",
    "import yaml\n",
    "import cv2\n",
    "import os\n",
    "import glob\n",
    "import xml.etree.ElementTree as ET\n",
    "import copy"
   ]
  },
  {
   "cell_type": "code",
   "execution_count": 2,
   "metadata": {},
   "outputs": [
    {
     "name": "stdout",
     "output_type": "stream",
     "text": [
      "272 xml files found.\n"
     ]
    }
   ],
   "source": [
    "xml_folder = '/media/golden/72FFC6EE48B5CF39/drone-tracking/kenya-tracking/annotations/images-and-xmls/from-tracking/annotations-raw' \n",
    "xml_file_list = glob.glob(xml_folder + '/*', recursive=True)\n",
    "print(len(xml_file_list), 'xml files found.')"
   ]
  },
  {
   "cell_type": "code",
   "execution_count": 3,
   "metadata": {},
   "outputs": [
    {
     "name": "stdout",
     "output_type": "stream",
     "text": [
      "here\n",
      "272 files procesed\n"
     ]
    }
   ],
   "source": [
    "pd.options.display.max_columns = 100\n",
    "\n",
    "\n",
    "output_folder = xml_folder + '-mod/'\n",
    "\n",
    "if not os.path.exists(output_folder):\n",
    "    os.makedirs(output_folder)\n",
    "    \n",
    "sucess_count = 0\n",
    "  \n",
    "for xml_file in xml_file_list[:]:\n",
    "    \n",
    "    try:\n",
    "        tree = ET.parse(xml_file)\n",
    "        root = tree.getroot()\n",
    "\n",
    "        new_xml = ET.Element('annotation')\n",
    "        folder = ET.SubElement(new_xml, 'folder')\n",
    "        folder.text = root.find('folder').text\n",
    "        filename = ET.SubElement(new_xml, 'filename')\n",
    "        filename.text = root.find('filename').text\n",
    "        image_size = ET.SubElement(new_xml, 'size')\n",
    "        size_old = root.find('size')\n",
    "        image_width = ET.SubElement(image_size, 'width')\n",
    "        image_width.text = size_old.find('width').text\n",
    "        old_width = int(size_old.find('width').text)\n",
    "        image_height = ET.SubElement(image_size, 'height')\n",
    "        image_height.text = size_old.find('height').text\n",
    "        old_height = int(size_old.find('height').text)\n",
    "        image_depth = ET.SubElement(image_size, 'depth')\n",
    "        if image_depth:\n",
    "            image_depth.text = size_old.find('depth').text\n",
    "\n",
    "        segmented = ET.SubElement(new_xml, 'segmented')\n",
    "        segmented.text = '0'\n",
    "        if root.find('object') == None:\n",
    "            print('The following file had no object classes listed:')\n",
    "            print(xml_file)\n",
    "            continue\n",
    "#         print(old_width, old_height)\n",
    "        for animal in root.findall('object'):\n",
    "            animal_object = ET.SubElement(new_xml, 'object')\n",
    "            #name\n",
    "            name = animal.find('name').text\n",
    "            name = name.split('-')\n",
    "            animal_name = name[0]\n",
    "    #         animal_age = name[1]\n",
    "            #deal with different names for same animal type\n",
    "            if animal_name in {'PZ', 'plains_zebra','grevys_zebra', 'GZ', 'zebra'}:\n",
    "                animal_name = 'zebra'\n",
    "            elif animal_name in {'GG', 'TG', 'imp', 'gazelle'}:\n",
    "                animal_name = 'gazelle'\n",
    "            elif animal_name in {'wbuck'}:\n",
    "                animal_name = 'wbuck'\n",
    "            elif animal_name in {'giraffe', 'eland', 'warthog', 'other'}:\n",
    "                animal_name = 'other'\n",
    "            else:\n",
    "                print('here')\n",
    "                animal_name = 'other'\n",
    "            name = ET.SubElement(animal_object, 'name')\n",
    "            name.text = animal_name\n",
    "            #pose\n",
    "            pose = ET.SubElement(animal_object, 'pose')\n",
    "            pose.text = 'Unspecified'\n",
    "            #truncated\n",
    "            truncated = ET.SubElement(animal_object, 'truncated')\n",
    "            truncated.text = '0'\n",
    "            #difficult\n",
    "            difficult = ET.SubElement(animal_object, 'difficult')\n",
    "            difficult.text = '0'\n",
    "\n",
    "            bndbox_old = animal.find('bndbox')\n",
    "            \n",
    "            \n",
    "\n",
    "            #bndbox\n",
    "            bndbox = ET.SubElement(animal_object, 'bndbox')\n",
    "            xmin = ET.SubElement(bndbox, 'xmin')\n",
    "            old_xmin = int(bndbox_old.find('xmin').text)\n",
    "            if old_xmin < 0:\n",
    "                old_xmin = 0\n",
    "            xmin.text = str(old_xmin)\n",
    "            ymin = ET.SubElement(bndbox, 'ymin')\n",
    "            old_ymin = int(bndbox_old.find('ymin').text)\n",
    "            if old_ymin < 0:\n",
    "                old_ymin = 0\n",
    "            old_ymax = int(bndbox_old.find('ymax').text)\n",
    "            if old_ymax >= old_height:\n",
    "                print('here')\n",
    "                old_ymax = old_height - 1\n",
    "            if old_ymin >= old_ymax:\n",
    "                temp = copy.copy(old_ymin)\n",
    "                old_ymin = copy.copy(old_ymax)\n",
    "                old_ymax = temp\n",
    "            ymin.text = str(old_ymin)\n",
    "            xmax = ET.SubElement(bndbox, 'xmax')\n",
    "            old_xmax = int(bndbox_old.find('xmax').text)\n",
    "            if old_xmax >= old_width:\n",
    "                old_xmax = old_width - 1\n",
    "            xmax.text = str(old_xmax)\n",
    "            ymax = ET.SubElement(bndbox, 'ymax')\n",
    "#             old_ymax = int(bndbox_old.find('ymax').text)\n",
    "#             if old_ymax >= old_height:\n",
    "#                 print('here')\n",
    "#                 old_ymax = old_height - 1\n",
    "            ymax.text = str(old_ymax)\n",
    "\n",
    "        file_name, _ = os.path.splitext(root.find('filename').text) \n",
    "        outfile = output_folder +  file_name + str('.xml')\n",
    "\n",
    "        tree = ET.ElementTree(new_xml)\n",
    "        tree.write(outfile)\n",
    "        sucess_count += 1\n",
    "        \n",
    "    except Exception as e:\n",
    "        print('file in unexpected format:')\n",
    "        print(e)\n",
    "        print(xml_file)\n",
    "print(sucess_count , 'files procesed')"
   ]
  },
  {
   "cell_type": "code",
   "execution_count": 6,
   "metadata": {},
   "outputs": [
    {
     "name": "stdout",
     "output_type": "stream",
     "text": [
      "True\n"
     ]
    }
   ],
   "source": [
    "x = 'plains'\n",
    "print(x in {'plains'})"
   ]
  },
  {
   "cell_type": "code",
   "execution_count": 3,
   "metadata": {},
   "outputs": [
    {
     "name": "stdout",
     "output_type": "stream",
     "text": [
      "eya\n"
     ]
    }
   ],
   "source": []
  },
  {
   "cell_type": "code",
   "execution_count": null,
   "metadata": {},
   "outputs": [],
   "source": []
  }
 ],
 "metadata": {
  "kernelspec": {
   "display_name": "Python 3",
   "language": "python",
   "name": "python3"
  },
  "language_info": {
   "codemirror_mode": {
    "name": "ipython",
    "version": 3
   },
   "file_extension": ".py",
   "mimetype": "text/x-python",
   "name": "python",
   "nbconvert_exporter": "python",
   "pygments_lexer": "ipython3",
   "version": "3.5.2"
  }
 },
 "nbformat": 4,
 "nbformat_minor": 2
}
