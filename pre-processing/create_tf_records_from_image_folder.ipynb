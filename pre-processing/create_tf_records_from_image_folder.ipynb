{
 "cells": [
  {
   "cell_type": "code",
   "execution_count": 1,
   "metadata": {},
   "outputs": [],
   "source": [
    "import subprocess\n",
    "import os\n",
    "import glob\n",
    "import time"
   ]
  },
  {
   "cell_type": "code",
   "execution_count": 2,
   "metadata": {},
   "outputs": [],
   "source": [
    "create_tf_record_py = '/home/golden/Dropbox/kenya-tracking/code/pre-processing/create_tf_records_from_image_folder.py'      \n",
    "root_image_folder = '/media/golden/72FFC6EE48B5CF39/drone-tracking/kenya-tracking/raw-frames/raw-footage' \n",
    "tf_records_folder = '/media/golden/72FFC6EE48B5CF39/drone-tracking/kenya-tracking/raw-frames-tfrecords'\n",
    "num_threads = 8\n",
    "train_shards = 40\n",
    "\n",
    "process_folder = True\n",
    "process_file = False\n",
    "\n",
    "if process_folder:\n",
    "    image_folder_list = glob.glob(root_image_folder + '*/*')\n",
    "    \n",
    "\n",
    "if process_file:\n",
    "    image_file = '/media/golden/72FFC6EE48B5CF39/drone-tracking/kenya-tracking/raw-frames/raw-footage/observation088'\n",
    "    image_folder_list = [image_file]\n",
    "    \n",
    "existing_tfrecord_list = glob.glob(tf_records_folder + '*/*')\n",
    "\n",
    "image_folder_names = [os.path.basename(image_folder) for image_folder in image_folder_list] \n",
    "existing_tfrecord_names = [os.path.basename(existing_tfrecord) for existing_tfrecord in existing_tfrecord_list]\n",
    "\n",
    "new_image_folders = []\n",
    "\n",
    "\n",
    "for image_folder_ind, image_folder_name in enumerate(image_folder_names):\n",
    "\n",
    "    if image_folder_name not in existing_tfrecord_names:\n",
    "        new_image_folders.append(image_folder_list[image_folder_ind])\n",
    "\n",
    "\n"
   ]
  },
  {
   "cell_type": "code",
   "execution_count": 3,
   "metadata": {},
   "outputs": [
    {
     "name": "stdout",
     "output_type": "stream",
     "text": [
      "['/media/golden/72FFC6EE48B5CF39/drone-tracking/kenya-tracking/raw-frames/raw-footage/observation088']\n",
      "90735\n"
     ]
    }
   ],
   "source": [
    "# new_image_folders.sort()\n",
    "new_image_folders = new_image_folders[1:2]\n",
    "print(new_image_folders)\n",
    "print(len(glob.glob(new_image_folders[0] + '/*/*.jpg', recursive=True)))"
   ]
  },
  {
   "cell_type": "code",
   "execution_count": 4,
   "metadata": {},
   "outputs": [
    {
     "name": "stdout",
     "output_type": "stream",
     "text": [
      "env: CUDA_VISIBLE_DEVICES=\n",
      "saving at  /media/golden/72FFC6EE48B5CF39/drone-tracking/kenya-tracking/raw-frames-tfrecords/raw-footage/observation088\n",
      "There are  13  items in the given image folder\n"
     ]
    }
   ],
   "source": [
    "%env CUDA_VISIBLE_DEVICES=\n",
    "\n",
    "for image_folder in new_image_folders[:]:\n",
    "    if not os.path.exists(tf_records_folder): \n",
    "        os.makedirs(tf_records_folder)\n",
    "    animal_type = image_folder.split('/')[-2]\n",
    "    new_record_folder = os.path.join(tf_records_folder, animal_type, os.path.basename(image_folder))\n",
    "    if not os.path.exists(new_record_folder): \n",
    "        os.makedirs(new_record_folder)\n",
    "    print('saving at ', new_record_folder)\n",
    "    num_raw_images = len(os.listdir(image_folder))\n",
    "    print('There are ' , num_raw_images, ' items in the given image folder')\n",
    "    \n"
   ]
  },
  {
   "cell_type": "code",
   "execution_count": 5,
   "metadata": {},
   "outputs": [],
   "source": [
    "    process = subprocess.run(['python', create_tf_record_py, \n",
    "                '--train_directory', image_folder, \n",
    "                '--output_directory', new_record_folder,\n",
    "                '--train_shards', str(train_shards),\n",
    "                '--num_threads', str(num_threads)])\n",
    "    while process.returncode != 0:\n",
    "        time.sleep(10)"
   ]
  },
  {
   "cell_type": "markdown",
   "metadata": {},
   "source": [
    "## The below code can be used to inspect the created tfrecords file"
   ]
  },
  {
   "cell_type": "code",
   "execution_count": null,
   "metadata": {},
   "outputs": [],
   "source": []
  },
  {
   "cell_type": "code",
   "execution_count": null,
   "metadata": {},
   "outputs": [],
   "source": []
  },
  {
   "cell_type": "code",
   "execution_count": 1,
   "metadata": {},
   "outputs": [
    {
     "name": "stdout",
     "output_type": "stream",
     "text": [
      "['/media/golden/72FFC6EE48B5CF39/drone-tracking/kenya-tracking/raw-frames-tfrecords/raw-footage/raw-footage/observation088/train-00000-of-00040']\n"
     ]
    }
   ],
   "source": [
    "# tf_record_files = [os.path.join(new_record_folder, file) for file in os.listdir(new_record_folder)]\n",
    "tf_record_files = ['/media/golden/72FFC6EE48B5CF39/drone-tracking/kenya-tracking/raw-frames-tfrecords/raw-footage/raw-footage/observation088/train-00000-of-00040']\n",
    "print(tf_record_files)"
   ]
  },
  {
   "cell_type": "code",
   "execution_count": 6,
   "metadata": {},
   "outputs": [
    {
     "name": "stdout",
     "output_type": "stream",
     "text": [
      "b'APR08_2018_A_DJI_0005_6444.jpg'\n",
      "b'APR08_2018_A_DJI_0005_6644.jpg'\n",
      "b'APR08_2018_A_DJI_0005_6844.jpg'\n",
      "b'APR08_2018_A_DJI_0005_7044.jpg'\n",
      "b'APR08_2018_A_DJI_0005_7244.jpg'\n",
      "b'APR08_2018_A_DJI_0005_7444.jpg'\n",
      "b'APR08_2018_A_DJI_0005_7644.jpg'\n",
      "b'APR08_2018_A_DJI_0005_7844.jpg'\n",
      "b'APR08_2018_A_DJI_0005_8044.jpg'\n",
      "b'APR08_2018_A_DJI_0005_8244.jpg'\n",
      "b'APR08_2018_A_DJI_0005_8444.jpg'\n",
      "b'APR08_2018_A_DJI_0005_8644.jpg'\n",
      "b'APR08_2018_A_DJI_0005_8844.jpg'\n",
      "b'APR08_2018_A_DJI_0005_9044.jpg'\n",
      "b'APR08_2018_A_DJI_0005_9244.jpg'\n",
      "b'APR08_2018_A_DJI_0005_9444.jpg'\n",
      "b'APR08_2018_A_DJI_0005_9644.jpg'\n",
      "b'APR08_2018_A_DJI_0005_9844.jpg'\n",
      "b'APR08_2018_A_DJI_0005_10044.jpg'\n",
      "b'APR08_2018_A_DJI_0005_10244.jpg'\n",
      "b'APR08_2018_A_DJI_0005_10444.jpg'\n",
      "b'APR08_2018_A_DJI_0005_10644.jpg'\n"
     ]
    }
   ],
   "source": [
    "import tensorflow as tf\n",
    "\n",
    "count = 0\n",
    "training_record = False\n",
    "an_list = []\n",
    "for example in tf.python_io.tf_record_iterator(tf_record_files[0]):\n",
    "    count += 1\n",
    "    result = tf.train.Example.FromString(example)\n",
    "    if not training_record:\n",
    "        if count % 100 == 0:\n",
    "            print(result.features.feature['image/filename'].bytes_list.value[0])\n",
    "    else:\n",
    "\n",
    "    #     if result.features.feature['image/height'].int64_list.value[0] <= 0:\n",
    "    #         print('height', result.features.feature['image/height'].int64_list.value[0])\n",
    "    #         print(result.features.feature['image/filename'].bytes_list.value[0])\n",
    "    #     if result.features.feature['image/width'].int64_list.value[0] <= 0:\n",
    "    #         print('width', result.features.feature['image/width'].int64_list.value[0])\n",
    "    #         print(result.features.feature['image/filename'].bytes_list.value[0])\n",
    "    #     if result.features.feature['image/object/bbox/xmin'].float_list.value[0] <= 0:\n",
    "    #         print('xmin sm', result.features.feature['image/object/bbox/xmin'].float_list.value[0])\n",
    "    #         print(result.features.feature['image/filename'].bytes_list.value[0])\n",
    "    #     if result.features.feature['image/object/bbox/ymin'].float_list.value[0] <= 0:\n",
    "    #         print('ymin smal', result.features.feature['image/object/bbox/ymin'].float_list.value[0])\n",
    "    #         print(result.features.feature['image/filename'].bytes_list.value[0])\n",
    "    #     if result.features.feature['image/object/bbox/xmax'].float_list.value[0] <= 0:\n",
    "    #         print('xmax sma', result.features.feature['image/object/bbox/xmax'].float_list.value[0])\n",
    "    #         print(result.features.feature['image/filename'].bytes_list.value[0])\n",
    "    #     if result.features.feature['image/object/bbox/ymax'].float_list.value[0] <= 0:\n",
    "    #         print('ymax smal', result.features.feature['image/object/bbox/ymax'].float_list.value[0])\n",
    "    #         print(result.features.feature['image/filename'].bytes_list.value[0])\n",
    "    #     if result.features.feature['image/object/bbox/xmin'].float_list.value[0] >= 1:\n",
    "    #         print('xminbig', result.features.feature['image/object/bbox/xmin'].float_list.value[0])\n",
    "    #         print(result.features.feature['image/filename'].bytes_list.value[0])\n",
    "    #     if result.features.feature['image/object/bbox/ymin'].float_list.value[0] >= 1:\n",
    "    #         print('ymin big', result.features.feature['image/object/bbox/ymin'].float_list.value[0])\n",
    "    #         print(result.features.feature['image/filename'].bytes_list.value[0])\n",
    "    #     if result.features.feature['image/object/bbox/xmax'].float_list.value[0] >= 1:\n",
    "    #         print('xmax big', result.features.feature['image/object/bbox/xmax'].float_list.value[0])\n",
    "    #         print(result.features.feature['image/filename'].bytes_list.value[0])\n",
    "    #     if result.features.feature['image/object/bbox/ymax'].float_list.value[0] >= 1:\n",
    "    #         print('ymax big', result.features.feature['image/object/bbox/ymax'].float_list.value[0])\n",
    "    #         print(result.features.feature['image/filename'].bytes_list.value[0])\n",
    "        an_list.extend(result.features.feature['image/object/class/label'].int64_list.value[:])\n",
    "        if result.features.feature['image/object/class/label'].int64_list.value[0] >= 5 or result.features.feature['image/object/class/label'].int64_list.value[0] < 1:\n",
    "            print('ymax big', result.features.feature['image/object/class/label'].int64_list.value[0])\n",
    "            print(result.features.feature['image/filename'].bytes_list.value[0])\n",
    "    \n",
    "#     if count % 100 == 0:\n",
    "#         print('count', count)"
   ]
  },
  {
   "cell_type": "code",
   "execution_count": 10,
   "metadata": {},
   "outputs": [
    {
     "name": "stdout",
     "output_type": "stream",
     "text": [
      "b'ob006_19801.jpg'\n"
     ]
    }
   ],
   "source": [
    " print(result.features.feature['image/filename'].bytes_list.value[0])"
   ]
  },
  {
   "cell_type": "code",
   "execution_count": 11,
   "metadata": {},
   "outputs": [],
   "source": [
    "import matplotlib.pyplot as plt"
   ]
  },
  {
   "cell_type": "code",
   "execution_count": 12,
   "metadata": {},
   "outputs": [
    {
     "data": {
      "text/plain": [
       "(array([4723.,    0., 1276.,    0.,    0., 3776.,    0.,  710.,    0.,\n",
       "         347.]),\n",
       " array([1. , 1.4, 1.8, 2.2, 2.6, 3. , 3.4, 3.8, 4.2, 4.6, 5. ]),\n",
       " <a list of 10 Patch objects>)"
      ]
     },
     "execution_count": 12,
     "metadata": {},
     "output_type": "execute_result"
    },
    {
     "data": {
      "image/png": "[encoded data removed]",
      "text/plain": [
       "<matplotlib.figure.Figure at 0x7f7a9af35da0>"
      ]
     },
     "metadata": {},
     "output_type": "display_data"
    }
   ],
   "source": [
    "plt.style.use('dark_background')\n",
    "plt.hist(an_list)"
   ]
  },
  {
   "cell_type": "code",
   "execution_count": null,
   "metadata": {},
   "outputs": [],
   "source": []
  }
 ],
 "metadata": {
  "kernelspec": {
   "display_name": "Python 3",
   "language": "python",
   "name": "python3"
  },
  "language_info": {
   "codemirror_mode": {
    "name": "ipython",
    "version": 3
   },
   "file_extension": ".py",
   "mimetype": "text/x-python",
   "name": "python",
   "nbconvert_exporter": "python",
   "pygments_lexer": "ipython3",
   "version": "3.6.6"
  }
 },
 "nbformat": 4,
 "nbformat_minor": 2
}
