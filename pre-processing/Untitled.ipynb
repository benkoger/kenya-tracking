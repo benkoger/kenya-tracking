{
 "cells": [
  {
   "cell_type": "code",
   "execution_count": 1,
   "metadata": {},
   "outputs": [],
   "source": [
    "from queue import Queue\n",
    "from threading import Thread\n",
    "import sys\n",
    "import time\n",
    "import cv2\n",
    "import numpy as np\n",
    "\n",
    "class VideoReader:\n",
    "    def __init__(self, video_file, queue_size=100):\n",
    "        # initialize the file video stream along with the boolean\n",
    "        # used to indicate if the thread should be stopped or not\n",
    "        self.video_file = video_file\n",
    "        self.stopped = False\n",
    "        # initialize the queue used to store frames read from\n",
    "        # the video file\n",
    "        self.Q = Queue(maxsize=queue_size)\n",
    "        print('reading video from ', video_file)\n",
    "        self.stream = cv2.VideoCapture(video_file)\n",
    "\n",
    "\n",
    "    def start(self):\n",
    "        # start a thread to read frames from the file video stream\n",
    "        t = Thread(target=self.update, args=())\n",
    "        t.daemon = True\n",
    "        print('her')\n",
    "        t.start()\n",
    "        print('e')\n",
    "        time.sleep(1)\n",
    "        print('starting video reader...')\n",
    "        return self\n",
    "\n",
    "    def update(self):\n",
    "        # keep looping infinitely\n",
    "        frame_num = 0\n",
    "        while True:\n",
    "#             if frame_num == 100:\n",
    "#                 break\n",
    "            # if the thread indicator variable is set, stop the\n",
    "            # thread\n",
    "            if self.stopped:\n",
    "                return\n",
    "\n",
    "            # otherwise, ensure the queue has room in it\n",
    "            if not self.Q.full():\n",
    "                # read the next frame from the file\n",
    "                (grabbed, frame) = self.stream.read()\n",
    "                frame_num += 1\n",
    "                # add the frame to the queue\n",
    "#                 if not grabbed:\n",
    "                if not True:\n",
    "                    self.stop()\n",
    "                    return\n",
    "                self.Q.put([np.eye(3), 1])\n",
    "#                 self.Q.put([frame, frame_num])\n",
    "                \n",
    "                \n",
    "\n",
    "    def read(self):\n",
    "        # return next frame in the queue\n",
    "        return self.Q.get()\n",
    "\n",
    "    def read_batch(self, n_frames, asarray=False):\n",
    "        frames = []\n",
    "        for idx in range(n_frames):\n",
    "            frames.append(self.read())\n",
    "        return frames\n",
    "\n",
    "\n",
    "    def more(self):\n",
    "        # return True if there are still frames in the queue\n",
    "        return self.Q.qsize() > 0\n",
    "\n",
    "    def stop(self):\n",
    "        # indicate that the thread should be stopped\n",
    "        print('stopping')\n",
    "        self.stream.release()\n",
    "        self.stopped = True\n",
    "        \n",
    "    def close(self):\n",
    "        self.stop()"
   ]
  },
  {
   "cell_type": "code",
   "execution_count": null,
   "metadata": {},
   "outputs": [
    {
     "name": "stdout",
     "output_type": "stream",
     "text": [
      "reading video from  /media/golden/72FFC6EE48B5CF39/drone-tracking/kenya-tracking/raw-videos/raw-footage/observation088/APR08_2018_A_DJI_0006.MOV\n",
      "her\n",
      "e\n"
     ]
    }
   ],
   "source": [
    "video_file = '/media/golden/72FFC6EE48B5CF39/drone-tracking/kenya-tracking/raw-videos/raw-footage/observation088/APR08_2018_A_DJI_0006.MOV'\n",
    "video_stream = VideoReader(video_file)\n",
    "video_stream.start()\n",
    "for i in range(10):\n",
    "    video_stream.read()\n",
    "video_stream.stop()"
   ]
  },
  {
   "cell_type": "code",
   "execution_count": 2,
   "metadata": {},
   "outputs": [
    {
     "name": "stdout",
     "output_type": "stream",
     "text": [
      "0\n",
      "1\n",
      "2\n",
      "3\n",
      "4\n",
      "5\n",
      "6\n",
      "7\n",
      "8\n",
      "9\n"
     ]
    }
   ],
   "source": [
    "import cv2\n",
    "video_file = '/media/golden/72FFC6EE48B5CF39/drone-tracking/kenya-tracking/raw-videos/raw-footage/observation088/APR08_2018_A_DJI_0006.MOV'\n",
    "stream = cv2.VideoCapture(video_file)\n",
    "for i in range(10):\n",
    "    print(i)\n",
    "    stream.read()"
   ]
  },
  {
   "cell_type": "code",
   "execution_count": null,
   "metadata": {},
   "outputs": [],
   "source": []
  }
 ],
 "metadata": {
  "kernelspec": {
   "display_name": "Python 3",
   "language": "python",
   "name": "python3"
  },
  "language_info": {
   "codemirror_mode": {
    "name": "ipython",
    "version": 3
   },
   "file_extension": ".py",
   "mimetype": "text/x-python",
   "name": "python",
   "nbconvert_exporter": "python",
   "pygments_lexer": "ipython3",
   "version": "3.5.2"
  }
 },
 "nbformat": 4,
 "nbformat_minor": 2
}
