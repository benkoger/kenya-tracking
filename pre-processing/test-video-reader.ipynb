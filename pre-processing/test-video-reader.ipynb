{
 "cells": [
  {
   "cell_type": "code",
   "execution_count": 1,
   "metadata": {},
   "outputs": [],
   "source": [
    "\n",
    "# import the necessary packages\n",
    "from threading import Thread\n",
    "import sys\n",
    "import cv2\n",
    " \n",
    "# import the Queue class from Python 3\n",
    "if sys.version_info >= (3, 0):\n",
    "    from queue import Queue\n",
    " \n",
    "# otherwise, import the Queue class for Python 2.7\n",
    "else:\n",
    "    from Queue import Queue"
   ]
  },
  {
   "cell_type": "code",
   "execution_count": 2,
   "metadata": {},
   "outputs": [],
   "source": [
    "\n",
    "class FileVideoStream:\n",
    "    def __init__(self, path, queueSize=256):\n",
    "        # initialize the file video stream along with the boolean\n",
    "        # used to indicate if the thread should be stopped or not\n",
    "        self.stream = cv2.VideoCapture(path)\n",
    "        self.stopped = False\n",
    "\n",
    "        # initialize the queue used to store frames read from\n",
    "        # the video file\n",
    "        self.Q = Queue(maxsize=queueSize)\n",
    "        \n",
    "    def start(self):\n",
    "        # start a thread to read frames from the file video stream\n",
    "        t = Thread(target=self.update, args=())\n",
    "        t.daemon = True\n",
    "        t.start()\n",
    "        return self\n",
    "    \n",
    "    def update(self):\n",
    "        # keep looping infinitely\n",
    "        while True:\n",
    "            # if the thread indicator variable is set, stop the\n",
    "            # thread\n",
    "            if self.stopped:\n",
    "                return\n",
    " \n",
    "            # otherwise, ensure the queue has room in it\n",
    "            if not self.Q.full():\n",
    "                # read the next frame from the file\n",
    "                (grabbed, frame) = self.stream.read()\n",
    "\n",
    "                # if the `grabbed` boolean is `False`, then we have\n",
    "                # reached the end of the video file\n",
    "                if not grabbed:\n",
    "                    self.stop()\n",
    "                    return\n",
    "\n",
    "                # add the frame to the queue\n",
    "                self.Q.put(frame)\n",
    "\n",
    "\n",
    "    def read(self):\n",
    "        # return next frame in the queue\n",
    "        return self.Q.get()\n",
    "\n",
    "    def more(self):\n",
    "        # return True if there are still frames in the queue\n",
    "#         print('size', self.Q.qsize())\n",
    "        return self.Q.qsize() > 0\n",
    "    \n",
    "    def full(self):\n",
    "        return self.Q.full()\n",
    "\n",
    "    def stop(self):\n",
    "        # indicate that the thread should be stopped\n",
    "        self.stopped = True\n",
    "        print('done')\n",
    "        \n",
    "    def is_stopped(self):\n",
    "        return self.stopped\n",
    "\n",
    "    def close(self):\n",
    "        self.stream.release()"
   ]
  },
  {
   "cell_type": "code",
   "execution_count": 3,
   "metadata": {},
   "outputs": [
    {
     "name": "stdout",
     "output_type": "stream",
     "text": [
      "[INFO] starting video file thread...\n"
     ]
    }
   ],
   "source": [
    "import numpy as np\n",
    "import argparse\n",
    "import time\n",
    "import cv2\n",
    "\n",
    "# start the file video stream thread and allow the buffer to\n",
    "# start to fill\n",
    "print(\"[INFO] starting video file thread...\")\n",
    "video_file = '/media/golden/72FFC6EE48B5CF39/drone-tracking/kenya-tracking/raw-videos/raw-footage/observation088/APR08_2018_A_DJI_0005.MOV'\n",
    "fvs = FileVideoStream(video_file).start()\n",
    "time.sleep(1.0)\n",
    " "
   ]
  },
  {
   "cell_type": "code",
   "execution_count": 4,
   "metadata": {},
   "outputs": [
    {
     "name": "stdout",
     "output_type": "stream",
     "text": [
      "0\n",
      "500\n",
      "1000\n",
      "1500\n",
      "2000\n",
      "2500\n",
      "3000\n",
      "3500\n",
      "4000\n",
      "4500\n",
      "5000\n",
      "5500\n",
      "6000\n",
      "6500\n",
      "7000\n",
      "7500\n",
      "8000\n",
      "8500\n",
      "9000\n",
      "9500\n",
      "10000\n",
      "10500\n",
      "11000\n",
      "11500\n",
      "12000\n",
      "12500\n",
      "13000\n",
      "13500\n",
      "14000\n",
      "14500\n",
      "15000\n",
      "15500\n",
      "16000\n",
      "16500\n",
      "17000\n",
      "17500\n",
      "18000\n",
      "18500\n",
      "19000\n",
      "done\n",
      "19500\n",
      "fps 38.28501565513844\n",
      "done\n"
     ]
    }
   ],
   "source": [
    "\n",
    "# loop over frames from the video file stream\n",
    "frame_num = 0\n",
    "start = time.time()\n",
    "while fvs.more():\n",
    "    \n",
    "    # grab the frame from the threaded video file stream, resize\n",
    "    # it, and convert it to grayscale (while still retaining 3\n",
    "    # channels)\n",
    "    if fvs.full() or fvs.is_stopped():\n",
    "#     if True:\n",
    "        if frame_num % 500 == 0:\n",
    "            print(frame_num)\n",
    "        frame = fvs.read()\n",
    "        frame = cv2.cvtColor(frame, cv2.COLOR_BGR2RGB)\t\n",
    "\n",
    "        # show the frame and update the FPS counter\n",
    "    #     cv2.imshow(\"Frame\", frame)\n",
    "\n",
    "#         time.sleep(.5)\n",
    "        frame_num += 1\n",
    "    \n",
    "print('fps', frame_num / (time.time() - start))\n",
    "fvs.close()\n",
    "cv2.destroyAllWindows()\n",
    "fvs.stop()\n",
    "    \n"
   ]
  },
  {
   "cell_type": "code",
   "execution_count": 3,
   "metadata": {},
   "outputs": [
    {
     "data": {
      "text/plain": [
       "'\\nGeneral configuration for OpenCV 3.4.3 =====================================\\n  Version control:               3.4.3\\n\\n  Extra modules:\\n    Location (extra):            /io/opencv_contrib/modules\\n    Version control (extra):     3.4.3\\n\\n  Platform:\\n    Timestamp:                   2018-09-09T13:49:56Z\\n    Host:                        Linux 4.4.0-101-generic x86_64\\n    CMake:                       3.9.0\\n    CMake generator:             Unix Makefiles\\n    CMake build tool:            /usr/bin/gmake\\n    Configuration:               Release\\n\\n  CPU/HW features:\\n    Baseline:                    SSE SSE2 SSE3\\n      requested:                 SSE3\\n    Dispatched code generation:  SSE4_1 SSE4_2 FP16 AVX AVX2\\n      requested:                 SSE4_1 SSE4_2 AVX FP16 AVX2 AVX512_SKX\\n      SSE4_1 (3 files):          + SSSE3 SSE4_1\\n      SSE4_2 (1 files):          + SSSE3 SSE4_1 POPCNT SSE4_2\\n      FP16 (1 files):            + SSSE3 SSE4_1 POPCNT SSE4_2 FP16 AVX\\n      AVX (5 files):             + SSSE3 SSE4_1 POPCNT SSE4_2 AVX\\n      AVX2 (9 files):            + SSSE3 SSE4_1 POPCNT SSE4_2 FP16 FMA3 AVX AVX2\\n\\n  C/C++:\\n    Built as dynamic libs?:      NO\\n    C++ Compiler:                /opt/rh/devtoolset-2/root/usr/bin/c++  (ver 4.8.2)\\n    C++ flags (Release):         -Wl,-strip-all   -fsigned-char -W -Wall -Werror=return-type -Werror=non-virtual-dtor -Werror=address -Werror=sequence-point -Wformat -Werror=format-security -Wmissing-declarations -Wundef -Winit-self -Wpointer-arith -Wshadow -Wsign-promo -Wuninitialized -Winit-self -Wno-narrowing -Wno-delete-non-virtual-dtor -Wno-comment -fdiagnostics-show-option -Wno-long-long -pthread -fomit-frame-pointer -ffunction-sections -fdata-sections  -msse -msse2 -msse3 -fvisibility=hidden -fvisibility-inlines-hidden -O3 -DNDEBUG  -DNDEBUG\\n    C++ flags (Debug):           -Wl,-strip-all   -fsigned-char -W -Wall -Werror=return-type -Werror=non-virtual-dtor -Werror=address -Werror=sequence-point -Wformat -Werror=format-security -Wmissing-declarations -Wundef -Winit-self -Wpointer-arith -Wshadow -Wsign-promo -Wuninitialized -Winit-self -Wno-narrowing -Wno-delete-non-virtual-dtor -Wno-comment -fdiagnostics-show-option -Wno-long-long -pthread -fomit-frame-pointer -ffunction-sections -fdata-sections  -msse -msse2 -msse3 -fvisibility=hidden -fvisibility-inlines-hidden -g  -O0 -DDEBUG -D_DEBUG\\n    C Compiler:                  /opt/rh/devtoolset-2/root/usr/bin/cc\\n    C flags (Release):           -Wl,-strip-all   -fsigned-char -W -Wall -Werror=return-type -Werror=non-virtual-dtor -Werror=address -Werror=sequence-point -Wformat -Werror=format-security -Wmissing-declarations -Wmissing-prototypes -Wstrict-prototypes -Wundef -Winit-self -Wpointer-arith -Wshadow -Wuninitialized -Winit-self -Wno-narrowing -Wno-comment -fdiagnostics-show-option -Wno-long-long -pthread -fomit-frame-pointer -ffunction-sections -fdata-sections  -msse -msse2 -msse3 -fvisibility=hidden -O3 -DNDEBUG  -DNDEBUG\\n    C flags (Debug):             -Wl,-strip-all   -fsigned-char -W -Wall -Werror=return-type -Werror=non-virtual-dtor -Werror=address -Werror=sequence-point -Wformat -Werror=format-security -Wmissing-declarations -Wmissing-prototypes -Wstrict-prototypes -Wundef -Winit-self -Wpointer-arith -Wshadow -Wuninitialized -Winit-self -Wno-narrowing -Wno-comment -fdiagnostics-show-option -Wno-long-long -pthread -fomit-frame-pointer -ffunction-sections -fdata-sections  -msse -msse2 -msse3 -fvisibility=hidden -g  -O0 -DDEBUG -D_DEBUG\\n    Linker flags (Release):      -L/root/ffmpeg_build/lib   \\n    Linker flags (Debug):        -L/root/ffmpeg_build/lib   \\n    ccache:                      NO\\n    Precompiled headers:         NO\\n    Extra dependencies:          /opt/Qt4.8.7/lib/libQtGui.so /opt/Qt4.8.7/lib/libQtTest.so /opt/Qt4.8.7/lib/libQtCore.so /lib64/libz.so /opt/libjpeg-turbo/lib64/libjpeg.a avcodec avformat avutil swscale dl m pthread rt\\n    3rdparty dependencies:       ittnotify libprotobuf libwebp libpng libtiff libjasper IlmImf\\n\\n  OpenCV modules:\\n    To be built:                 aruco bgsegm bioinspired calib3d ccalib core datasets dnn dnn_objdetect dpm face features2d flann fuzzy hfs highgui img_hash imgcodecs imgproc java_bindings_generator line_descriptor ml objdetect optflow phase_unwrapping photo plot python3 python_bindings_generator reg rgbd saliency shape stereo stitching structured_light superres surface_matching text tracking video videoio videostab xfeatures2d ximgproc xobjdetect xphoto\\n    Disabled:                    js world\\n    Disabled by dependency:      -\\n    Unavailable:                 cnn_3dobj cudaarithm cudabgsegm cudacodec cudafeatures2d cudafilters cudaimgproc cudalegacy cudaobjdetect cudaoptflow cudastereo cudawarping cudev cvv freetype hdf java matlab ovis python2 sfm ts viz\\n    Applications:                -\\n    Documentation:               NO\\n    Non-free algorithms:         NO\\n\\n  GUI: \\n    QT:                          YES (ver 4.8.7 EDITION = OpenSource)\\n      QT OpenGL support:         NO\\n    GTK+:                        NO\\n    VTK support:                 NO\\n\\n  Media I/O: \\n    ZLib:                        /lib64/libz.so (ver 1.2.3)\\n    JPEG:                        /opt/libjpeg-turbo/lib64/libjpeg.a (ver 62)\\n    WEBP:                        build (ver encoder: 0x020e)\\n    PNG:                         build (ver 1.6.34)\\n    TIFF:                        build (ver 42 - 4.0.9)\\n    JPEG 2000:                   build (ver 1.900.1)\\n    OpenEXR:                     build (ver 1.7.1)\\n    HDR:                         YES\\n    SUNRASTER:                   YES\\n    PXM:                         YES\\n\\n  Video I/O:\\n    DC1394:                      NO\\n    FFMPEG:                      YES\\n      avcodec:                   YES (ver 58.21.104)\\n      avformat:                  YES (ver 58.17.101)\\n      avutil:                    YES (ver 56.18.102)\\n      swscale:                   YES (ver 5.2.100)\\n      avresample:                NO\\n    GStreamer:                   NO\\n    libv4l/libv4l2:              NO\\n    v4l/v4l2:                    linux/videodev.h linux/videodev2.h\\n\\n  Parallel framework:            pthreads\\n\\n  Trace:                         YES (with Intel ITT)\\n\\n  Other third-party libraries:\\n    Lapack:                      NO\\n    Eigen:                       NO\\n    Custom HAL:                  NO\\n    Protobuf:                    build (3.5.1)\\n\\n  OpenCL:                        YES (no extra features)\\n    Include path:                /io/opencv/3rdparty/include/opencl/1.2\\n    Link libraries:              Dynamic load\\n\\n  Python 3:\\n    Interpreter:                 /opt/python/cp36-cp36m/bin/python (ver 3.6.5)\\n    Libraries:                   libpython3.6m.a (ver 3.6.5)\\n    numpy:                       /opt/python/cp36-cp36m/lib/python3.6/site-packages/numpy/core/include (ver 1.11.3)\\n    packages path:               lib/python3.6/site-packages\\n\\n  Python (for build):            /opt/python/cp36-cp36m/bin/python\\n\\n  Java:                          \\n    ant:                         NO\\n    JNI:                         NO\\n    Java wrappers:               NO\\n    Java tests:                  NO\\n\\n  Matlab:                        NO\\n\\n  Install to:                    /io/_skbuild/linux-x86_64-3.6/cmake-install\\n-----------------------------------------------------------------\\n\\n'"
      ]
     },
     "execution_count": 3,
     "metadata": {},
     "output_type": "execute_result"
    }
   ],
   "source": [
    "import cv2\n",
    "cv2.getBuildInformation()"
   ]
  },
  {
   "cell_type": "code",
   "execution_count": null,
   "metadata": {},
   "outputs": [],
   "source": []
  }
 ],
 "metadata": {
  "kernelspec": {
   "display_name": "Python 3",
   "language": "python",
   "name": "python3"
  },
  "language_info": {
   "codemirror_mode": {
    "name": "ipython",
    "version": 3
   },
   "file_extension": ".py",
   "mimetype": "text/x-python",
   "name": "python",
   "nbconvert_exporter": "python",
   "pygments_lexer": "ipython3",
   "version": "3.6.6"
  }
 },
 "nbformat": 4,
 "nbformat_minor": 2
}
