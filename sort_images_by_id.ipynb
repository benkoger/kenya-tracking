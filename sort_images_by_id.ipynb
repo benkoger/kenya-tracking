{
 "cells": [
  {
   "cell_type": "code",
   "execution_count": 1,
   "metadata": {},
   "outputs": [],
   "source": [
    "import pandas as pd\n",
    "import os\n",
    "import shutil\n",
    "\n",
    "image_dir = '/home/golden/Projects/gazelle_identification/gazelle/data/extracted/gazelle_head'  \n",
    "output_dir = '/home/golden/Projects/gazelle_identification/gazelle/data/individual_gazelles'\n",
    "label_csv = '/home/golden/Projects/gazelle_identification/gazelle/data/gazelle_photo_IDs.csv'"
   ]
  },
  {
   "cell_type": "code",
   "execution_count": 2,
   "metadata": {},
   "outputs": [
    {
     "name": "stdout",
     "output_type": "stream",
     "text": [
      "example image file:  2017_Mar22_0D2A4449.0.jpg\n"
     ]
    }
   ],
   "source": [
    "#get all the images\n",
    "images = [im[2] for im in os.walk(image_dir)][0]\n",
    "print('example image file: ', images[0])"
   ]
  },
  {
   "cell_type": "code",
   "execution_count": 3,
   "metadata": {},
   "outputs": [
    {
     "data": {
      "text/html": [
       "<div>\n",
       "<style>\n",
       "    .dataframe thead tr:only-child th {\n",
       "        text-align: right;\n",
       "    }\n",
       "\n",
       "    .dataframe thead th {\n",
       "        text-align: left;\n",
       "    }\n",
       "\n",
       "    .dataframe tbody tr th {\n",
       "        vertical-align: top;\n",
       "    }\n",
       "</style>\n",
       "<table border=\"1\" class=\"dataframe\">\n",
       "  <thead>\n",
       "    <tr style=\"text-align: right;\">\n",
       "      <th></th>\n",
       "      <th>Photo</th>\n",
       "      <th>GROUP</th>\n",
       "      <th>ID</th>\n",
       "    </tr>\n",
       "  </thead>\n",
       "  <tbody>\n",
       "    <tr>\n",
       "      <th>0</th>\n",
       "      <td>2017_Mar11_0D2A0728</td>\n",
       "      <td>Group0001</td>\n",
       "      <td>SeratF001</td>\n",
       "    </tr>\n",
       "    <tr>\n",
       "      <th>1</th>\n",
       "      <td>2017_Mar11_0D2A0729</td>\n",
       "      <td>Group0001</td>\n",
       "      <td>SeratF001</td>\n",
       "    </tr>\n",
       "    <tr>\n",
       "      <th>2</th>\n",
       "      <td>2017_Mar11_0D2A0730</td>\n",
       "      <td>Group0001</td>\n",
       "      <td>SeratF001</td>\n",
       "    </tr>\n",
       "    <tr>\n",
       "      <th>3</th>\n",
       "      <td>2017_Mar11_0D2A0731</td>\n",
       "      <td>Group0001</td>\n",
       "      <td>SeratF002</td>\n",
       "    </tr>\n",
       "    <tr>\n",
       "      <th>4</th>\n",
       "      <td>2017_Mar11_0D2A0732</td>\n",
       "      <td>Group0001</td>\n",
       "      <td>SeratF002</td>\n",
       "    </tr>\n",
       "  </tbody>\n",
       "</table>\n",
       "</div>"
      ],
      "text/plain": [
       "                 Photo      GROUP         ID\n",
       "0  2017_Mar11_0D2A0728  Group0001  SeratF001\n",
       "1  2017_Mar11_0D2A0729  Group0001  SeratF001\n",
       "2  2017_Mar11_0D2A0730  Group0001  SeratF001\n",
       "3  2017_Mar11_0D2A0731  Group0001  SeratF002\n",
       "4  2017_Mar11_0D2A0732  Group0001  SeratF002"
      ]
     },
     "execution_count": 3,
     "metadata": {},
     "output_type": "execute_result"
    }
   ],
   "source": [
    "image_labels = pd.read_csv(label_csv)\n",
    "#clean dataframe\n",
    "image_labels = image_labels.dropna(axis=0, how='any')\n",
    "image_labels.head()"
   ]
  },
  {
   "cell_type": "code",
   "execution_count": 4,
   "metadata": {},
   "outputs": [],
   "source": [
    "for image in images:\n",
    "    name = image.split(os.extsep)[0]\n",
    "    label = image_labels[image_labels['Photo'] == name]['ID']\n",
    "    try:\n",
    "        label = label[label.keys()[0]]\n",
    "    except:\n",
    "        #there is no label\n",
    "        continue\n",
    "    #make identity folder\n",
    "    output_path = os.path.join(output_dir, label)\n",
    "    image_path = os.path.join(image_dir, image)\n",
    "    os.makedirs(output_path, exist_ok=True)\n",
    "    shutil.copy(image_path, output_path)\n",
    "    "
   ]
  },
  {
   "cell_type": "code",
   "execution_count": 6,
   "metadata": {},
   "outputs": [
    {
     "data": {
      "text/plain": [
       "'2017_Mar22_0D2A4278'"
      ]
     },
     "execution_count": 6,
     "metadata": {},
     "output_type": "execute_result"
    }
   ],
   "source": [
    "name"
   ]
  },
  {
   "cell_type": "code",
   "execution_count": 7,
   "metadata": {},
   "outputs": [
    {
     "data": {
      "text/plain": [
       "'OryxM005'"
      ]
     },
     "execution_count": 7,
     "metadata": {},
     "output_type": "execute_result"
    }
   ],
   "source": [
    "label"
   ]
  },
  {
   "cell_type": "code",
   "execution_count": 72,
   "metadata": {},
   "outputs": [],
   "source": [
    "x = label.get('ID')[x.keys()[0]]"
   ]
  },
  {
   "cell_type": "code",
   "execution_count": 73,
   "metadata": {},
   "outputs": [
    {
     "name": "stdout",
     "output_type": "stream",
     "text": [
      "OryxM005\n"
     ]
    }
   ],
   "source": [
    "print(x)"
   ]
  },
  {
   "cell_type": "code",
   "execution_count": null,
   "metadata": {
    "collapsed": true
   },
   "outputs": [],
   "source": []
  }
 ],
 "metadata": {
  "kernelspec": {
   "display_name": "Python 3",
   "language": "python",
   "name": "python3"
  },
  "language_info": {
   "codemirror_mode": {
    "name": "ipython",
    "version": 3
   },
   "file_extension": ".py",
   "mimetype": "text/x-python",
   "name": "python",
   "nbconvert_exporter": "python",
   "pygments_lexer": "ipython3",
   "version": "3.5.2"
  }
 },
 "nbformat": 4,
 "nbformat_minor": 2
}
